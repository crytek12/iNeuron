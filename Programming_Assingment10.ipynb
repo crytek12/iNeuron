{
 "cells": [
  {
   "cell_type": "markdown",
   "id": "05b0b16d",
   "metadata": {},
   "source": [
    "# Programming_Assingment10"
   ]
  },
  {
   "cell_type": "markdown",
   "id": "4f4c26d9",
   "metadata": {},
   "source": [
    "**Q1.\tWrite a Python program to find sum of elements in list?**"
   ]
  },
  {
   "cell_type": "code",
   "execution_count": 1,
   "id": "ccb853b7",
   "metadata": {},
   "outputs": [
    {
     "data": {
      "text/plain": [
       "21"
      ]
     },
     "execution_count": 1,
     "metadata": {},
     "output_type": "execute_result"
    }
   ],
   "source": [
    "sum([1, 2, 3, 4, 5, 6])"
   ]
  },
  {
   "cell_type": "markdown",
   "id": "958e4697",
   "metadata": {},
   "source": [
    "**Q2. Write a Python program to  Multiply all numbers in the list?**"
   ]
  },
  {
   "cell_type": "code",
   "execution_count": 2,
   "id": "7223343c",
   "metadata": {},
   "outputs": [
    {
     "data": {
      "text/plain": [
       "720"
      ]
     },
     "execution_count": 2,
     "metadata": {},
     "output_type": "execute_result"
    }
   ],
   "source": [
    "from functools import reduce \n",
    "\n",
    "# using reduce to compute product of list\n",
    "reduce(lambda a, b: a * b, [1, 2, 3, 4, 5, 6])"
   ]
  },
  {
   "cell_type": "markdown",
   "id": "32d93f7b",
   "metadata": {},
   "source": [
    "**Q3. Write a Python program to find smallest number in a list?**"
   ]
  },
  {
   "cell_type": "code",
   "execution_count": 3,
   "id": "ef429a9a",
   "metadata": {},
   "outputs": [
    {
     "data": {
      "text/plain": [
       "1"
      ]
     },
     "execution_count": 3,
     "metadata": {},
     "output_type": "execute_result"
    }
   ],
   "source": [
    "min([1, 2, 3, 4, 5, 6])"
   ]
  },
  {
   "cell_type": "markdown",
   "id": "a80143b3",
   "metadata": {},
   "source": [
    "**Q4. Write a Python program to find largest number in a list?**"
   ]
  },
  {
   "cell_type": "code",
   "execution_count": 4,
   "id": "b9e4e77c",
   "metadata": {},
   "outputs": [
    {
     "data": {
      "text/plain": [
       "6"
      ]
     },
     "execution_count": 4,
     "metadata": {},
     "output_type": "execute_result"
    }
   ],
   "source": [
    "max([1, 2, 3, 4, 5, 6])"
   ]
  },
  {
   "cell_type": "markdown",
   "id": "42b1cc93",
   "metadata": {},
   "source": [
    "**Q5. Write a Python program to find second largest number in a list?**"
   ]
  },
  {
   "cell_type": "code",
   "execution_count": 5,
   "id": "774e6943",
   "metadata": {},
   "outputs": [
    {
     "name": "stdout",
     "output_type": "stream",
     "text": [
      "The second largest element in [1, 2, 3, 4, 34, 5, 6, 34, 22] is: 22\n"
     ]
    }
   ],
   "source": [
    "from functools import reduce\n",
    "\n",
    "l = [1, 2, 3, 4, 34, 5, 6, 34, 22]\n",
    "print(f'The second largest element in {l} is: ', end='')\n",
    "print(reduce(lambda a, b: a if a > b else b, [i for i in l if i != max(l)]))"
   ]
  },
  {
   "cell_type": "markdown",
   "id": "fcba9a5c",
   "metadata": {},
   "source": [
    "**Q6. Write a Python program to find N largest elements from a list?**"
   ]
  },
  {
   "cell_type": "code",
   "execution_count": 9,
   "id": "ba1af5b3",
   "metadata": {},
   "outputs": [
    {
     "name": "stdout",
     "output_type": "stream",
     "text": [
      "Enter elements of a list separated by space: 19 11 23 18 46 23\n",
      "Enter the value n, where n represents the n largest elements from a list: 3\n",
      "3 largest elements of ['19', '11', '23', '18', '46', '23'] is: ['19', '23', '46']\n"
     ]
    }
   ],
   "source": [
    "# Take a list as input from the user\n",
    "values = input('Enter elements of a list separated by space: ')\n",
    "l = values.split()\n",
    "\n",
    "# Take a number as input from the user\n",
    "n = int(input('Enter the value n, where n represents the n largest elements from a list: '))\n",
    "\n",
    "# Removing duplicates from the list\n",
    "l1 = list(set(l))\n",
    "\n",
    "# Sorting the list\n",
    "l1.sort()\n",
    "\n",
    "# Printing n largest elements\n",
    "print(f'{n} largest elements of {l} is: {l1[-n:]}')"
   ]
  },
  {
   "cell_type": "markdown",
   "id": "1c20eb08",
   "metadata": {},
   "source": [
    "**Q7. Write a Python program to print even numbers in a list?**"
   ]
  },
  {
   "cell_type": "code",
   "execution_count": 10,
   "id": "4d331a84",
   "metadata": {},
   "outputs": [
    {
     "data": {
      "text/plain": [
       "[2, 4, 6, 8, 10]"
      ]
     },
     "execution_count": 10,
     "metadata": {},
     "output_type": "execute_result"
    }
   ],
   "source": [
    "l = [1, 2, 3, 4, 5, 6, 7, 8, 9, 10]\n",
    "\n",
    "[i for i in l if i %2 == 0]"
   ]
  },
  {
   "cell_type": "markdown",
   "id": "a1660531",
   "metadata": {},
   "source": [
    "**Q8. Write a Python program to print odd numbers in a List?**"
   ]
  },
  {
   "cell_type": "code",
   "execution_count": 11,
   "id": "b171230f",
   "metadata": {},
   "outputs": [
    {
     "data": {
      "text/plain": [
       "[1, 3, 5, 7, 9]"
      ]
     },
     "execution_count": 11,
     "metadata": {},
     "output_type": "execute_result"
    }
   ],
   "source": [
    "l = [1, 2, 3, 4, 5, 6, 7, 8, 9, 10]\n",
    "\n",
    "[i for i in l if i %2 != 0]"
   ]
  },
  {
   "cell_type": "markdown",
   "id": "0bc3cff3",
   "metadata": {},
   "source": [
    "**Q9. Write a Python program to Remove empty List from List?**"
   ]
  },
  {
   "cell_type": "code",
   "execution_count": 16,
   "id": "96a36b7c",
   "metadata": {},
   "outputs": [
    {
     "data": {
      "text/plain": [
       "[1, 2, 3, 23, 656, 'hello!!', (4+6j), 23.43, [1, 2, 3]]"
      ]
     },
     "execution_count": 16,
     "metadata": {},
     "output_type": "execute_result"
    }
   ],
   "source": [
    "l = [1, 2, 3, [], 23, 656, [], 'hello!!', 4 + 6j, 23.43, [1, 2, 3]]\n",
    "\n",
    "[i for i in l if not (type(i) == list and len(i) == 0)]"
   ]
  },
  {
   "cell_type": "markdown",
   "id": "876a6c6d",
   "metadata": {},
   "source": [
    "**Q10. Write a Python program to Cloning or Copying a list?**"
   ]
  },
  {
   "cell_type": "code",
   "execution_count": 1,
   "id": "809bde15",
   "metadata": {},
   "outputs": [
    {
     "name": "stdout",
     "output_type": "stream",
     "text": [
      "Original list: [4, 8, 2, 10, 15, 18]\n",
      "After cloning: [4, 8, 2, 10, 15, 18]\n",
      "Original list: [4, 8, 2, 10, 15, 18]\n",
      "After cloning: [46, 8, 2, 10, 15, 18]\n"
     ]
    }
   ],
   "source": [
    "# Deep copy of the list also known as cloning\n",
    "l = [4, 8, 2, 10, 15, 18]\n",
    "l1 = l[:]\n",
    "\n",
    "# Printing the lists\n",
    "print('Original list:', l)\n",
    "print('After cloning:', l1)\n",
    "\n",
    "# Modifying l1\n",
    "l1[0] = 46\n",
    "\n",
    "# Printing the lists\n",
    "print('Original list:', l)\n",
    "print('After cloning:', l1)"
   ]
  },
  {
   "cell_type": "markdown",
   "id": "705bfebd",
   "metadata": {},
   "source": [
    "**Q11. Write a Python program to Count occurrences of an element in a list?**"
   ]
  },
  {
   "cell_type": "code",
   "execution_count": 2,
   "id": "98808037",
   "metadata": {},
   "outputs": [
    {
     "data": {
      "text/plain": [
       "4"
      ]
     },
     "execution_count": 2,
     "metadata": {},
     "output_type": "execute_result"
    }
   ],
   "source": [
    "l = [1, 34, 56, 87, 'python', 'walrus', 34.56, 34, [1, 45], 34, ('ball', 'syrup'), 34]\n",
    "\n",
    "# Using the count method to count the occurences of an element in the list\n",
    "l.count(34)"
   ]
  }
 ],
 "metadata": {
  "kernelspec": {
   "display_name": "ineuron",
   "language": "python",
   "name": "ineuron"
  },
  "language_info": {
   "codemirror_mode": {
    "name": "ipython",
    "version": 3
   },
   "file_extension": ".py",
   "mimetype": "text/x-python",
   "name": "python",
   "nbconvert_exporter": "python",
   "pygments_lexer": "ipython3",
   "version": "3.11.0"
  }
 },
 "nbformat": 4,
 "nbformat_minor": 5
}
