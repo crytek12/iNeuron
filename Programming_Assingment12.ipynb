{
 "cells": [
  {
   "cell_type": "markdown",
   "id": "7413b8f7",
   "metadata": {},
   "source": [
    "# Programming_Assingment12"
   ]
  },
  {
   "cell_type": "markdown",
   "id": "9bf57f78",
   "metadata": {},
   "source": [
    "**Q1. Write a Python program to Extract Unique values dictionary values?**"
   ]
  },
  {
   "cell_type": "code",
   "execution_count": 1,
   "id": "d77705aa",
   "metadata": {},
   "outputs": [
    {
     "name": "stdout",
     "output_type": "stream",
     "text": [
      "2\n",
      "4\n",
      "5\n"
     ]
    }
   ],
   "source": [
    "dict1 = {'a': 1, 'b': 2, 'c': 3, 'd': 1, 'e': 4, 'f': 3, 'g': 5}\n",
    "\n",
    "l = list(dict1.values())\n",
    "for i in l:\n",
    "    if l.count(i) == 1:\n",
    "        print(i)"
   ]
  },
  {
   "cell_type": "markdown",
   "id": "edad8dae",
   "metadata": {},
   "source": [
    "**Q2. Write a Python program to find the sum of all items in a dictionary?**"
   ]
  },
  {
   "cell_type": "code",
   "execution_count": 2,
   "id": "7c74c5e6",
   "metadata": {},
   "outputs": [
    {
     "name": "stdout",
     "output_type": "stream",
     "text": [
      "Sum : 600\n"
     ]
    }
   ],
   "source": [
    "def returnSum(d):\n",
    "    \"\"\"\n",
    "    Return the sum of all items in a dictionary\n",
    "    \"\"\"\n",
    "    return sum(d.values())\n",
    " \n",
    "dict2 = {'a': 100, 'b': 200, 'c': 300}\n",
    "print(\"Sum :\", returnSum(dict2))"
   ]
  },
  {
   "cell_type": "markdown",
   "id": "2e6283d4",
   "metadata": {},
   "source": [
    "**Q3. Write a Python program to Merging two Dictionaries?**"
   ]
  },
  {
   "cell_type": "code",
   "execution_count": 3,
   "id": "053beb2a",
   "metadata": {},
   "outputs": [
    {
     "name": "stdout",
     "output_type": "stream",
     "text": [
      "{'a': 1, 'b': 2, 'c': 3, 'd': 4, 'e': 5, 'f': 6, 'g': 7, 'h': 8}\n"
     ]
    }
   ],
   "source": [
    "dict3 = {'a': 1, 'b': 2, 'c': 3, 'd': 4}\n",
    "dict4 = {'e': 5, 'f': 6, 'g': 7, 'h': 8}\n",
    "\n",
    "dict3.update(dict4)\n",
    "print(dict3)"
   ]
  },
  {
   "cell_type": "markdown",
   "id": "5a1784cf",
   "metadata": {},
   "source": [
    "**Q4. Write a Python program to convert key-values list to flat dictionary?**"
   ]
  },
  {
   "cell_type": "code",
   "execution_count": 4,
   "id": "bcc7d599",
   "metadata": {},
   "outputs": [
    {
     "name": "stdout",
     "output_type": "stream",
     "text": [
      "Flat dictionary: {1: 'Mon', 2: 'Tue', 3: 'Wed', 4: 'Thu', 5: 'Fri', 6: 'Sat', 7: 'Sun'}\n"
     ]
    }
   ],
   "source": [
    "d = {'Week': [1, 2, 3, 4, 5, 6, 7],\n",
    "     'Name': ['Mon', 'Tue', 'Wed', 'Thu', 'Fri', 'Sat', 'Sun']}\n",
    "\n",
    "print('Flat dictionary:', dict(zip(d['Week'], d['Name'])))"
   ]
  },
  {
   "cell_type": "markdown",
   "id": "c0a85a31",
   "metadata": {},
   "source": [
    "**Q5. Write a Python program to insertion at the beginning in OrderedDict?**"
   ]
  },
  {
   "cell_type": "code",
   "execution_count": 5,
   "id": "89b2e6be",
   "metadata": {},
   "outputs": [
    {
     "data": {
      "text/plain": [
       "{'d': 4, 'a': 1, 'b': 2, 'c': 3}"
      ]
     },
     "execution_count": 5,
     "metadata": {},
     "output_type": "execute_result"
    }
   ],
   "source": [
    "from collections import OrderedDict\n",
    "\n",
    "d = OrderedDict([('a', 1), ('b', 2), ('c', 3)])\n",
    "\n",
    "d.update({'d': 4})\n",
    "d.move_to_end('d', last=False)\n",
    "\n",
    "dict(d)"
   ]
  },
  {
   "cell_type": "markdown",
   "id": "05447003",
   "metadata": {},
   "source": [
    "**Q6. Write a Python program to check order of character in string using OrderedDict()?**"
   ]
  },
  {
   "cell_type": "code",
   "execution_count": 6,
   "id": "795a8cc6",
   "metadata": {},
   "outputs": [
    {
     "data": {
      "text/plain": [
       "False"
      ]
     },
     "execution_count": 6,
     "metadata": {},
     "output_type": "execute_result"
    }
   ],
   "source": [
    "from collections import OrderedDict \n",
    "\n",
    "def check_order(input, pattern): \n",
    "    \"\"\"\n",
    "    Check Order of characters in string\n",
    "    Returns False if the order of the string was mismatched, else True\n",
    "    \"\"\" \n",
    "    dict = OrderedDict.fromkeys(input) \n",
    "    \n",
    "    ptrlen= 0\n",
    "    for key,value in dict.items(): \n",
    "        if (key == pattern[ptrlen]): \n",
    "            ptrlen = ptrlen + 1\n",
    "        if (ptrlen == (len(pattern))): \n",
    "            return True\n",
    "    return False\n",
    "\n",
    "input = 'Scientists rock'\n",
    "pattern = 'stk'\n",
    "check_order(input, pattern)"
   ]
  },
  {
   "cell_type": "markdown",
   "id": "a65dbcf1",
   "metadata": {},
   "source": [
    "**Q7. Write a Python program to sort Python Dictionaries by Key or Value?**"
   ]
  },
  {
   "cell_type": "code",
   "execution_count": 7,
   "id": "58ff5905",
   "metadata": {},
   "outputs": [
    {
     "data": {
      "text/plain": [
       "{'rajnish': '9', 'ravi': '10', 'sanjeev': '15', 'suraj': '32', 'yash': '2'}"
      ]
     },
     "execution_count": 7,
     "metadata": {},
     "output_type": "execute_result"
    }
   ],
   "source": [
    "from collections import OrderedDict\n",
    " \n",
    "d1 = {'ravi': '10', 'rajnish': '9',\n",
    "        'sanjeev': '15', 'yash': '2', 'suraj': '32'}\n",
    "\n",
    "d2 = OrderedDict(sorted(d1.items()))\n",
    "dict(d2)"
   ]
  }
 ],
 "metadata": {
  "kernelspec": {
   "display_name": "ineuron",
   "language": "python",
   "name": "ineuron"
  },
  "language_info": {
   "codemirror_mode": {
    "name": "ipython",
    "version": 3
   },
   "file_extension": ".py",
   "mimetype": "text/x-python",
   "name": "python",
   "nbconvert_exporter": "python",
   "pygments_lexer": "ipython3",
   "version": "3.11.0"
  }
 },
 "nbformat": 4,
 "nbformat_minor": 5
}
