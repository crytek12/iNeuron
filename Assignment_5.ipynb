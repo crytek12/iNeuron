{
 "cells": [
  {
   "cell_type": "markdown",
   "id": "295485dd",
   "metadata": {},
   "source": [
    "# Assignment_5"
   ]
  },
  {
   "cell_type": "markdown",
   "id": "2914c99d",
   "metadata": {},
   "source": [
    "**Q1. What does an empty dictionary's code look like?**"
   ]
  },
  {
   "cell_type": "markdown",
   "id": "ea21b6bb",
   "metadata": {},
   "source": [
    "An empty dictionary's code look like two curly brackets: {} or dict()"
   ]
  },
  {
   "cell_type": "markdown",
   "id": "cadce3ed",
   "metadata": {},
   "source": [
    "**Q2. What is the value of a dictionary value with the key 'foo' and the value 42?**"
   ]
  },
  {
   "cell_type": "markdown",
   "id": "3ab36f31",
   "metadata": {},
   "source": [
    "{'foo': 42}"
   ]
  },
  {
   "cell_type": "markdown",
   "id": "1b19621f",
   "metadata": {},
   "source": [
    "**Q3. What is the most significant distinction between a dictionary and a list?**"
   ]
  },
  {
   "cell_type": "markdown",
   "id": "92af5bc9",
   "metadata": {},
   "source": [
    "The items in a list are ordered items, while the items stored in a dictionary are unordered."
   ]
  },
  {
   "cell_type": "markdown",
   "id": "4e9494cd",
   "metadata": {},
   "source": [
    "**Q4. What happens if you try to access spam['foo'] if spam is {'bar': 100}?**"
   ]
  },
  {
   "cell_type": "markdown",
   "id": "2d2a46f0",
   "metadata": {},
   "source": [
    "KeyError: 'foo'"
   ]
  },
  {
   "cell_type": "markdown",
   "id": "dfde674d",
   "metadata": {},
   "source": [
    "**Q5. If a dictionary is stored in spam, what is the difference between the expressions 'cat' in spam and 'cat' in spam.keys()?**"
   ]
  },
  {
   "cell_type": "markdown",
   "id": "03a87815",
   "metadata": {},
   "source": [
    "*'cat' in spam* checks if there is a key called 'cat' in the dictionary spam and returns True if found, else False. \n",
    "<br><br>\n",
    "*'cat' in spam.keys()* checks if the 'cat' key is in the iterable spam.keys(). Returns True if present, False otherwise."
   ]
  },
  {
   "cell_type": "markdown",
   "id": "5da90743",
   "metadata": {},
   "source": [
    "**Q6. If a dictionary is stored in spam, what is the difference between the expressions 'cat' in spam and 'cat' in spam.values()?**"
   ]
  },
  {
   "cell_type": "markdown",
   "id": "cb72a622",
   "metadata": {},
   "source": [
    "*'cat' in spam* checks if there is a key called 'cat' in the dictionary spam and returns True if found, else False. \n",
    "<br><br>\n",
    "*'cat' in spam.values()* checks if the 'cat' value is in the iterable spam.values(). Returns True if present, False otherwise. <br><br>\n",
    "Essentially there is no difference between the two"
   ]
  },
  {
   "cell_type": "markdown",
   "id": "cfb3058c",
   "metadata": {},
   "source": [
    "**Q7. What is a shortcut for the following code? <br>\n",
    "if 'color' not in spam:<br>\n",
    "&emsp;spam['color'] = 'black'**"
   ]
  },
  {
   "cell_type": "markdown",
   "id": "badfe390",
   "metadata": {},
   "source": [
    "spam.setdefault('color', 'black')"
   ]
  },
  {
   "cell_type": "markdown",
   "id": "34de04d1",
   "metadata": {},
   "source": [
    "**Q8. How do you \"pretty print\" dictionary values using which module and function?**"
   ]
  },
  {
   "cell_type": "markdown",
   "id": "ea619a97",
   "metadata": {},
   "source": [
    "pprint.pprint()"
   ]
  }
 ],
 "metadata": {
  "kernelspec": {
   "display_name": "ineuron",
   "language": "python",
   "name": "ineuron"
  },
  "language_info": {
   "codemirror_mode": {
    "name": "ipython",
    "version": 3
   },
   "file_extension": ".py",
   "mimetype": "text/x-python",
   "name": "python",
   "nbconvert_exporter": "python",
   "pygments_lexer": "ipython3",
   "version": "3.11.0"
  }
 },
 "nbformat": 4,
 "nbformat_minor": 5
}
