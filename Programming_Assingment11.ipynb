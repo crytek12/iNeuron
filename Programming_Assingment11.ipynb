{
 "cells": [
  {
   "cell_type": "markdown",
   "id": "de82d849",
   "metadata": {},
   "source": [
    "# Programming_Assingment11"
   ]
  },
  {
   "cell_type": "markdown",
   "id": "93931fb5",
   "metadata": {},
   "source": [
    "**Q1. Write a Python program to find words which are greater than given length k?**"
   ]
  },
  {
   "cell_type": "code",
   "execution_count": 3,
   "id": "c1b82218",
   "metadata": {},
   "outputs": [
    {
     "name": "stdout",
     "output_type": "stream",
     "text": [
      "Enter your words: Lorem ipsum dolor sit amet, consectetur adipiscing elit. Aenean enim nibh, porttitor et tincidunt eget, varius eu augue. In hac habitasse platea dictumst. Duis sed sodales nisl. Integer ornare lobortis finibus. Mauris quis felis sapien. Praesent rhoncus massa at nisl pretium, quis ultrices leo condimentum. Morbi a dictum leo. Integer tincidunt odio id nisl varius, nec consectetur purus maximus. Mauris ut dapibus magna. Vivamus ultricies metus vel sem elementum laoreet.\n",
      "\n",
      "Enter length k: 4\n",
      "Lorem\n",
      "ipsum\n",
      "dolor\n",
      "consectetur\n",
      "adipiscing\n",
      "Aenean\n",
      "porttitor\n",
      "tincidunt\n",
      "varius\n",
      "augue\n",
      "habitasse\n",
      "platea\n",
      "dictumst\n",
      "sodales\n",
      "Integer\n",
      "ornare\n",
      "lobortis\n",
      "finibus\n",
      "Mauris\n",
      "felis\n",
      "sapien\n",
      "Praesent\n",
      "rhoncus\n",
      "massa\n",
      "pretium\n",
      "ultrices\n",
      "condimentum\n",
      "Morbi\n",
      "dictum\n",
      "Integer\n",
      "tincidunt\n",
      "varius\n",
      "consectetur\n",
      "purus\n",
      "maximus\n",
      "Mauris\n",
      "dapibus\n",
      "magna\n",
      "Vivamus\n",
      "ultricies\n",
      "metus\n",
      "elementum\n",
      "laoreet\n"
     ]
    }
   ],
   "source": [
    "import string\n",
    "\n",
    "# Take user input for words and strip all punctuations from it\n",
    "words = input('Enter your words: ')\n",
    "words = words.translate(str.maketrans('', '', string.punctuation))\n",
    "print()\n",
    "\n",
    "# Take user input for the length k\n",
    "k = int(input('Enter length k: '))\n",
    "\n",
    "for word in words.split():\n",
    "    if len(word) > k:\n",
    "        print(word)"
   ]
  },
  {
   "cell_type": "markdown",
   "id": "2356b5a8",
   "metadata": {},
   "source": [
    "**Q2. Write a Python program for removing i-th character from a string?**"
   ]
  },
  {
   "cell_type": "code",
   "execution_count": 8,
   "id": "9744c896",
   "metadata": {},
   "outputs": [
    {
     "data": {
      "text/plain": [
       "'Petr'"
      ]
     },
     "execution_count": 8,
     "metadata": {},
     "output_type": "execute_result"
    }
   ],
   "source": [
    "string = 'Peter'\n",
    "\n",
    "# Suppose we want to remove the 4th character\n",
    "string[:3] + string[4:]"
   ]
  },
  {
   "cell_type": "markdown",
   "id": "48a812b0",
   "metadata": {},
   "source": [
    "**Q3. Write a Python program to split and join a string?**"
   ]
  },
  {
   "cell_type": "code",
   "execution_count": 9,
   "id": "9b2e9520",
   "metadata": {},
   "outputs": [
    {
     "name": "stdout",
     "output_type": "stream",
     "text": [
      "['iNeuron', 'is', 'the', 'best', 'platfrom', 'to', 'gain', 'expereince', 'in', 'the', 'field', 'of', 'Data', 'Science', 'and', 'find', 'employement.']\n",
      "iNeuron_is_the_best_platfrom_to_gain_expereince_in_the_field_of_Data_Science_and_find_employement.\n"
     ]
    }
   ],
   "source": [
    "string = 'iNeuron is the best platfrom to gain expereince in the field of Data Science and find employement.'\n",
    "\n",
    "# Split the string based on space delimiter\n",
    "l = string.split()\n",
    "print(l)\n",
    "\n",
    "# Join the string based on _ delimiter\n",
    "s = '_'.join(l)\n",
    "print(s)"
   ]
  },
  {
   "cell_type": "markdown",
   "id": "9ff12935",
   "metadata": {},
   "source": [
    "**Q4. Write a Python to check if a given string is binary string or not?**"
   ]
  },
  {
   "cell_type": "code",
   "execution_count": 12,
   "id": "129178ca",
   "metadata": {},
   "outputs": [
    {
     "name": "stdout",
     "output_type": "stream",
     "text": [
      "True\n",
      "False\n",
      "True\n",
      "True\n"
     ]
    }
   ],
   "source": [
    "def is_binary(s):\n",
    "    \"\"\"\n",
    "    Returns true if binary, false otherwise\n",
    "    \"\"\"\n",
    "    for i in s:\n",
    "        if i not in ['0', '1']:\n",
    "            return False\n",
    "    return True\n",
    "\n",
    "print(is_binary('011010101011100'))\n",
    "print(is_binary('021011011100001'))\n",
    "print(is_binary('000000000000000'))\n",
    "print(is_binary('111111111111111'))"
   ]
  },
  {
   "cell_type": "markdown",
   "id": "b3555b25",
   "metadata": {},
   "source": [
    "**Q5. Write a Python program to find uncommon words from two Strings?**"
   ]
  },
  {
   "cell_type": "code",
   "execution_count": 18,
   "id": "d8519e94",
   "metadata": {},
   "outputs": [
    {
     "name": "stdout",
     "output_type": "stream",
     "text": [
      "I\n",
      "love\n",
      "is\n",
      "the\n",
      "best\n"
     ]
    }
   ],
   "source": [
    "str1 = 'I love iNeuron'\n",
    "str2 = 'iNeuron is the best'\n",
    "\n",
    "l = str1.split() + str2.split()\n",
    "for i in l:\n",
    "    if not (l.count(i) == 2):\n",
    "        print(i)"
   ]
  },
  {
   "cell_type": "markdown",
   "id": "a28788d9",
   "metadata": {},
   "source": [
    "**Q6. Write a Python to find all duplicate characters in string?**"
   ]
  },
  {
   "cell_type": "code",
   "execution_count": 22,
   "id": "71b923f1",
   "metadata": {},
   "outputs": [
    {
     "name": "stdout",
     "output_type": "stream",
     "text": [
      "o\n",
      "n\n"
     ]
    }
   ],
   "source": [
    "s = 'Johnson'\n",
    "\n",
    "l = []\n",
    "for i in s:\n",
    "    if i not in l and s.count(i) > 1:\n",
    "        l.append(i)\n",
    "        print(i)"
   ]
  },
  {
   "cell_type": "markdown",
   "id": "a63eaf31",
   "metadata": {},
   "source": [
    "**Q7. Write a Python Program to check if a string contains any special character?**"
   ]
  },
  {
   "cell_type": "code",
   "execution_count": 24,
   "id": "43d69143",
   "metadata": {},
   "outputs": [
    {
     "name": "stdout",
     "output_type": "stream",
     "text": [
      "False\n",
      "True\n"
     ]
    }
   ],
   "source": [
    "def has_special(s):\n",
    "    \"\"\"\n",
    "    Returns True if it contains a special character, false otherwise\n",
    "    \"\"\"\n",
    "    for i in s:\n",
    "        if not (i.isalpha() or i.isdigit() or i == ' '):\n",
    "            return True \n",
    "    return False\n",
    "\n",
    "# Test the function\n",
    "print(has_special('Hello World'))\n",
    "print(has_special('@@Hello$World@@!!'))\n"
   ]
  }
 ],
 "metadata": {
  "kernelspec": {
   "display_name": "ineuron",
   "language": "python",
   "name": "ineuron"
  },
  "language_info": {
   "codemirror_mode": {
    "name": "ipython",
    "version": 3
   },
   "file_extension": ".py",
   "mimetype": "text/x-python",
   "name": "python",
   "nbconvert_exporter": "python",
   "pygments_lexer": "ipython3",
   "version": "3.11.0"
  }
 },
 "nbformat": 4,
 "nbformat_minor": 5
}
