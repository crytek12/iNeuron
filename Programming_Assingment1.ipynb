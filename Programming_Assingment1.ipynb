{
 "cells": [
  {
   "cell_type": "markdown",
   "id": "8c4f3595-71d4-4e9e-b32c-19ca5687228e",
   "metadata": {},
   "source": [
    "# Programming_Assingment1"
   ]
  },
  {
   "cell_type": "raw",
   "id": "f394078f-e130-497d-bda1-5282c853feee",
   "metadata": {},
   "source": [
    "1.\tWrite a Python program to print \"Hello Python\"?"
   ]
  },
  {
   "cell_type": "code",
   "execution_count": 1,
   "id": "83a68e9c-5aa3-493f-9d26-4275cff01335",
   "metadata": {},
   "outputs": [
    {
     "name": "stdout",
     "output_type": "stream",
     "text": [
      "\"Hello Python\"\n"
     ]
    }
   ],
   "source": [
    "print('\"Hello Python\"')"
   ]
  },
  {
   "cell_type": "raw",
   "id": "c4a32f4e-2425-4017-99e1-5057d6b030f4",
   "metadata": {},
   "source": [
    "2.\tWrite a Python program to do arithmetical operations addition and division.?"
   ]
  },
  {
   "cell_type": "code",
   "execution_count": 2,
   "id": "9edef9d0-84a5-44ef-be00-abfa32cb3e55",
   "metadata": {},
   "outputs": [
    {
     "name": "stdin",
     "output_type": "stream",
     "text": [
      "Please Enter the First Operand:  43\n",
      "Please Enter the Second Operand:  27\n"
     ]
    },
    {
     "name": "stdout",
     "output_type": "stream",
     "text": [
      "The sum of 43.0 and 27.0 is: 70.0\n",
      "The division of 43.0 and 27.0 is: 1.59\n"
     ]
    }
   ],
   "source": [
    "num1 = float(input('Please Enter the First Operand: '))\n",
    "num2 = float(input('Please Enter the Second Operand: '))\n",
    "\n",
    "# Addition of num1 and num2\n",
    "print(f'The sum of {num1} and {num2} is: {num1 + num2}')\n",
    "\n",
    "# Division of two numbers\n",
    "print(f'The division of {num1} and {num2} is: {num1 / num2:.2f}')"
   ]
  },
  {
   "cell_type": "raw",
   "id": "c83a74d4-87f4-4dd9-958b-8a37ddb504b9",
   "metadata": {},
   "source": [
    "3.\tWrite a Python program to find the area of a triangle?"
   ]
  },
  {
   "cell_type": "code",
   "execution_count": 3,
   "id": "f3566790-b87d-4f1f-b17e-ab7b6c08d61b",
   "metadata": {},
   "outputs": [
    {
     "name": "stdin",
     "output_type": "stream",
     "text": [
      "Enter first side:  5\n",
      "Enter second side:  6\n",
      "Enter third side:  7\n"
     ]
    },
    {
     "name": "stdout",
     "output_type": "stream",
     "text": [
      "The area of the triangle is 14.70\n"
     ]
    }
   ],
   "source": [
    "# Take inputs from user\n",
    "a = float(input('Enter first side: '))\n",
    "b = float(input('Enter second side: '))\n",
    "c = float(input('Enter third side: '))\n",
    "\n",
    "# calculate the semi-perimeter\n",
    "s = (a + b + c) / 2\n",
    "\n",
    "# calculate the area\n",
    "area = (s*(s-a)*(s-b)*(s-c)) ** 0.5\n",
    "print(f'The area of the triangle is {area:.2f}')"
   ]
  },
  {
   "cell_type": "raw",
   "id": "0a5697d0-aa91-4595-b036-e08e58c813e3",
   "metadata": {},
   "source": [
    "4.\tWrite a Python program to swap two variables?"
   ]
  },
  {
   "cell_type": "code",
   "execution_count": 4,
   "id": "25dfb697-9024-4692-ade1-6d5d0bf842c8",
   "metadata": {},
   "outputs": [
    {
     "name": "stdin",
     "output_type": "stream",
     "text": [
      "Enter value of x:  dog\n",
      "Enter value of y:  cat\n"
     ]
    },
    {
     "name": "stdout",
     "output_type": "stream",
     "text": [
      "The value of x after swapping: cat\n",
      "The value of y after swapping: dog\n"
     ]
    }
   ],
   "source": [
    "# To take inputs from the user\n",
    "x = input('Enter value of x: ')\n",
    "y = input('Enter value of y: ')\n",
    "\n",
    "# Create a temporary variable and swap the values\n",
    "temp = x\n",
    "x = y\n",
    "y = temp\n",
    "\n",
    "print(f'The value of x after swapping: {x}')\n",
    "print(f'The value of y after swapping: {y}')"
   ]
  },
  {
   "cell_type": "raw",
   "id": "203c7f7d-0531-4e1e-8975-a9b4f6703c5a",
   "metadata": {},
   "source": [
    "5.\tWrite a Python program to generate a random number?"
   ]
  },
  {
   "cell_type": "code",
   "execution_count": 5,
   "id": "42d742d4-7ac1-4ddb-b335-f687b0453a81",
   "metadata": {},
   "outputs": [
    {
     "name": "stdout",
     "output_type": "stream",
     "text": [
      "39\n"
     ]
    }
   ],
   "source": [
    "import random\n",
    "\n",
    "# Generate a random number between 0 and 50\n",
    "print(random.randint(0, 50))"
   ]
  },
  {
   "cell_type": "code",
   "execution_count": null,
   "id": "6bb4b58e-d45f-4d95-ba91-67672e2402cb",
   "metadata": {},
   "outputs": [],
   "source": []
  }
 ],
 "metadata": {
  "kernelspec": {
   "display_name": "Python 3 (ipykernel)",
   "language": "python",
   "name": "python3"
  },
  "language_info": {
   "codemirror_mode": {
    "name": "ipython",
    "version": 3
   },
   "file_extension": ".py",
   "mimetype": "text/x-python",
   "name": "python",
   "nbconvert_exporter": "python",
   "pygments_lexer": "ipython3",
   "version": "3.10.6"
  }
 },
 "nbformat": 4,
 "nbformat_minor": 5
}
