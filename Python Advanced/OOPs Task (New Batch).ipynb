{
 "cells": [
  {
   "cell_type": "markdown",
   "id": "e54a2ac8-f76d-4a3f-9b99-7df2c6e66052",
   "metadata": {},
   "source": [
    "# OOPs Task (New Batch)"
   ]
  },
  {
   "cell_type": "markdown",
   "id": "caef00fe-b50b-44c6-b141-7bae6616add2",
   "metadata": {},
   "source": [
    "Q1. Create your own class to perform a list search operation <br>\n",
    "Q2. Create a class for dict new element addition <br>\n",
    "Q3. Create a class for tuple data extraction operation <br>\n",
    "Q4. Create a class to implement all insert, update, delete operations for MySQL <br>\n",
    "Q5. Create a class to implement insert, update and delete in MongoDB <br>\n",
    "Q6. Create a class to perform append and delete operation in a file and inherit it in child class <br>\n",
    "Q7. Create a class to import a data into file from MongoDB <br>\n",
    "Q8. Create a class to build a calculator functionalities addition, subtraction, multiplication, division, logarithm, exponent, power <br>\n",
    "Q9. Create a class method to find a time and space complexity of any function <br>\n",
    "Q10. Create a class to do a bulk upload of a file in MySQL <br>\n",
    "Q11. Give 10 different examoles of polymorphism, encapsulation, data abstraction, overloading, overriding, multiple inheritance <br>\n",
    "Q12. Try to explore meaning of '->' this signature in python"
   ]
  },
  {
   "cell_type": "markdown",
   "id": "955a61dc-7e0e-4f8c-8eff-1eb580e00526",
   "metadata": {},
   "source": [
    "## HINTS\n",
    "Q1. We have a list, perfrom character search, string search or number search. <br>\n",
    "Q2. Add a new element (key-value pair), update value with old key <br>\n",
    "Q3. Extract data till lower level. <br>\n",
    "Q6. Use the code that we did in class today. <br>\n",
    "Q7. Extract data from a particular collection and keep it in a file. <br>\n",
    "Q10. glass data as given before (convert it into classes and objects) <br>"
   ]
  },
  {
   "cell_type": "markdown",
   "id": "51fbe71b-b05a-431b-99ea-06bcc4bb146c",
   "metadata": {},
   "source": [
    "#### Q1. Create your own class to perform a list search operation"
   ]
  },
  {
   "cell_type": "code",
   "execution_count": 2,
   "id": "42b088ac-10c8-4dcd-ad90-0c400d0e8172",
   "metadata": {},
   "outputs": [
    {
     "name": "stdin",
     "output_type": "stream",
     "text": [
      "Enter the list:  [1, 'bingo', 4, 45-5j]\n",
      "Enter the item you're looking for:  bingo\n"
     ]
    },
    {
     "name": "stdout",
     "output_type": "stream",
     "text": [
      "bingo is at index 1\n"
     ]
    }
   ],
   "source": [
    "class ListSearch:\n",
    "    def __init__(self):\n",
    "        self.l = eval(input('Enter the list: '))\n",
    "        item = input('Enter the item you\\'re looking for: ')\n",
    "        try:\n",
    "            self.item = eval(item)\n",
    "        except NameError:\n",
    "            self.item = item \n",
    "            \n",
    "    def search(self):\n",
    "        count = 0\n",
    "        for index, element in enumerate(self.l):\n",
    "            if element == self.item:\n",
    "                print(f'{element} is at index {index}')\n",
    "                count += 1\n",
    "        if count == 0:\n",
    "            print('Sorry, the item provided is not in the list')\n",
    "            \n",
    "\n",
    "lis_search_obj = ListSearch()\n",
    "lis_search_obj.search()"
   ]
  },
  {
   "cell_type": "markdown",
   "id": "ac2d2fb2-4282-4f7f-8ebb-91a4a076f738",
   "metadata": {},
   "source": [
    "#### Q2. Create a class for dict new element addition"
   ]
  },
  {
   "cell_type": "code",
   "execution_count": 3,
   "id": "4019e1ad-0c8c-4d26-a01b-315b53ad39d0",
   "metadata": {},
   "outputs": [
    {
     "name": "stdout",
     "output_type": "stream",
     "text": [
      "{'a': 1, 'b': 2, 'c': 3, 'd': 4}\n",
      "{'a': 1, 'b': 2, 'c': 3, 'd': 4, 'e': 6}\n",
      "{'a': 1, 'b': 2, 'c': 3, 'd': 4, 'e': 5}\n"
     ]
    }
   ],
   "source": [
    "class DictElementInsertion:\n",
    "    def __init__(self, d):\n",
    "        self.dict = d\n",
    "        \n",
    "    def insert_element(self, key, value):\n",
    "        self.dict[key] = value\n",
    "        print(self.dict)\n",
    "        \n",
    "        \n",
    "dict1 = DictElementInsertion({'a': 1, 'b': 2, 'c': 3})\n",
    "dict1.insert_element('d', 4)\n",
    "dict1.insert_element('e', 6)\n",
    "dict1.insert_element('e', 5)"
   ]
  },
  {
   "cell_type": "markdown",
   "id": "4d023244-6063-4063-ac81-b669bd293cff",
   "metadata": {},
   "source": [
    "#### Q3. Create a class for tuple data extraction operation"
   ]
  },
  {
   "cell_type": "code",
   "execution_count": 4,
   "id": "0bb4e472-2b9a-499e-a7ca-5e21775ceb67",
   "metadata": {},
   "outputs": [
    {
     "name": "stdout",
     "output_type": "stream",
     "text": [
      "a\n"
     ]
    }
   ],
   "source": [
    "class TupleDataExtraction:\n",
    "    def __init__(self, t):\n",
    "        self.t = t\n",
    "        \n",
    "    def extract(self, *args):\n",
    "        result = self.t\n",
    "        for arg in args:\n",
    "            result = result[arg]\n",
    "        return result\n",
    "    \n",
    "\n",
    "tuple_element = TupleDataExtraction((1, 45, [('blanket'), 2.34], 7+4j))\n",
    "print(tuple_element.extract(2, 0, 2))"
   ]
  },
  {
   "cell_type": "markdown",
   "id": "1e882679-0c9a-4751-856f-e9e0dd1407f5",
   "metadata": {},
   "source": [
    "#### Q4. Create a class to implement all insert, update, delete operations for MySQL"
   ]
  },
  {
   "cell_type": "code",
   "execution_count": null,
   "id": "4374ac72-ac00-4416-b7cf-5bc26ae07704",
   "metadata": {},
   "outputs": [],
   "source": [
    "import mysql.connector\n",
    "\n",
    "class my_sql:\n",
    "    \n",
    "    def __init__(self, userid, password):\n",
    "        self.userid = userid\n",
    "        self.password = password\n",
    "    \n",
    "    def connect(self):\n",
    "        self.mydb = mysql.connector.connect(\n",
    "          host=\"localhost\",\n",
    "          user=self.userid,\n",
    "          password=self.password\n",
    "        )\n",
    "        return self.mydb\n",
    "    \n",
    "    def cursor(self):\n",
    "        self.cursor = self.mydb.cursor()\n",
    "        return self.cursor \n",
    "    \n",
    "    def database(self, db_name):\n",
    "        self.db_name = db_name\n",
    "        self.cursor.execute(f'CREATE DATABASE IF NOT EXISTS {db_name}')\n",
    "\n",
    "    def table(self, name, cols):\n",
    "        self.table_name = name\n",
    "        self.cursor.execute(f'CREATE TABLE IF NOT EXISTS {self.db_name}.{name} ({cols})')\n",
    "\n",
    "    def insert(self, *values):          \n",
    "        self.cursor.execute(f'INSERT INTO {self.db_name}.{self.table_name} VALUES {values}')\n",
    "        self.mydb.commit()\n",
    "    \n",
    "    def update(self, set, cond=''):  \n",
    "        if cond != '':\n",
    "            self.cursor.execute(f'UPDATE {self.db_name}.{self.table_name} SET {set} WHERE {cond}')\n",
    "        else:\n",
    "            self.cursor.execute(f'UPDATE {self.db_name}.{self.table_name} SET {set}')\n",
    "        self.mydb.commit()\n",
    "                      \n",
    "    def delete(self, cond=''):\n",
    "        if cond != '':\n",
    "            self.cursor.execute(f'DELETE FROM {self.db_name}.{self.table_name} WHERE {cond}')\n",
    "        else:\n",
    "            self.cursor.execute(f'DELETE FROM {self.db_name}.{self.table_name}')\n",
    "        self.mydb.commit()\n",
    "\n",
    "\n",
    "db1 = my_sql('abc', 'password')\n",
    "\n",
    "db1.connect()\n",
    "db1.cursor()\n",
    "db1.database('ineuron')\n",
    "db1.table('tab2', 'roll_no INT, name VARCHAR(30), address VARCHAR(30), age INT')\n",
    "# db1.insert(12345, 'Mudit', 'Bangalore', 24)\n",
    "# db1.update('age = 50', 'age = 24')\n",
    "db1.delete('age = 50')\n"
   ]
  },
  {
   "cell_type": "markdown",
   "id": "4c29919d-4002-459e-be2c-08e8fd55f769",
   "metadata": {},
   "source": [
    "#### Q5. Create a class to implement insert, update and delete in MongoDB"
   ]
  },
  {
   "cell_type": "code",
   "execution_count": null,
   "id": "85bd46ca-1bc3-4ff0-90ed-cedd50633996",
   "metadata": {},
   "outputs": [],
   "source": [
    "import pymongo\n",
    "\n",
    "class Mongodb:\n",
    "    \n",
    "    def __init__(self, userid, password):\n",
    "        self.userid = userid\n",
    "        self.password = password\n",
    "    \n",
    "    def connect(self):\n",
    "        url = \"mongodb+srv://\" + self.userid + \":\" + self.password + \"@cluster0.3pwnxa7.mongodb.net/?retryWrites=true&w=majority\"\n",
    "        \n",
    "        # client is the connection variable\n",
    "        self.con = pymongo.MongoClient(url)\n",
    "        return self.con\n",
    "        \n",
    "    def database(self, db_name):\n",
    "        self.db_name = self.con[db_name]\n",
    "\n",
    "    def collection(self, collec_name):\n",
    "        self.collec_name = self.db_name[collec_name]\n",
    "\n",
    "    def insert_single(self, **data):          \n",
    "        self.collec_name.insert_one(data)\n",
    "        \n",
    "    def insert_lot(self, *data):\n",
    "        self.collec_name.insert_many([*data])\n",
    "    \n",
    "    def update_single(self, update, value):  \n",
    "        self.collec_name.update_one(update, value)\n",
    "        \n",
    "    def update_lot(self, update, value):\n",
    "        self.collec_name.update_many(update, value)\n",
    "                      \n",
    "    def delete_single(self, **data):\n",
    "        self.collec_name.delete_one(data)\n",
    "        \n",
    "    def delete_many(self, **data):\n",
    "        self.collec_name.delete_many(data)\n",
    "\n",
    "\n",
    "        \n",
    "mongo = Mongodb('abc', 'password')\n",
    "mongo.connect()\n",
    "mongo.database('ineuron2')\n",
    "mongo.collection('fsds')\n",
    "mongo.insert_single(instructor=['sudhanshu', 'krish'], duration='six months', price=10000)\n",
    "mongo.insert_lot({'instructor': ['sunny', 'paul'], 'duration': 'three months', 'price': 15000}, \n",
    "                  {'instructor': ['anurag', 'puneet'], 'duration': 'nine months', 'price': 8000})"
   ]
  },
  {
   "cell_type": "markdown",
   "id": "b5d4f898-7978-46c8-80dc-3bb5ad158f1e",
   "metadata": {},
   "source": [
    "#### Q6. Create a class to perform append and delete operation in a file and inherit it in child class"
   ]
  },
  {
   "cell_type": "code",
   "execution_count": 5,
   "id": "c10a1ba6-d44f-44a7-be45-90abf674b8b6",
   "metadata": {},
   "outputs": [],
   "source": [
    "from pathlib import Path\n",
    "\n",
    "class FileOps:\n",
    "    def __init__(self, file):\n",
    "        path = Path(f'./{file}')\n",
    "        if path.is_file():\n",
    "            self.file = file\n",
    "        else:\n",
    "            print(f'Sorry broski, there was no {file} in pwd')\n",
    "        \n",
    "    def append(self, data):\n",
    "        try:\n",
    "            with open(self.file, 'a') as f:\n",
    "                f.write(data)\n",
    "        except Exception as e:\n",
    "            print('There was an error that occured')\n",
    "            print(e)\n",
    "            \n",
    "    def delete(self):\n",
    "        try:\n",
    "            with open(self.file, 'w') as f:\n",
    "                pass\n",
    "        except Exception as e:\n",
    "            print('There was an error that occured')\n",
    "            print(e)\n",
    "            \n",
    "\n",
    "class ChildFileOps(FileOps):\n",
    "    pass\n",
    "\n",
    "\n",
    "f1 = ChildFileOps('test.txt')\n",
    "\n",
    "f1.append('it is nice meeting you!')\n",
    "f1.delete()"
   ]
  },
  {
   "cell_type": "markdown",
   "id": "ee66f32d-ff7c-4eda-9918-a4610c3209b3",
   "metadata": {},
   "source": [
    "#### Q7. Create a class to import a data into file from MongoDB"
   ]
  },
  {
   "cell_type": "code",
   "execution_count": null,
   "id": "840dfe29-2de8-4aad-b72f-19a00f6306c7",
   "metadata": {},
   "outputs": [],
   "source": [
    "import pymongo\n",
    "from pprint import pprint\n",
    "\n",
    "class ImportDataFromMongo(Mongodb):\n",
    "    def get_db_and_col(self):\n",
    "        database = input('Enter the name of the database: ')\n",
    "        collection =  input('Enter the collection name: ')\n",
    "        \n",
    "        try:\n",
    "            db = self.con[database]\n",
    "            self.col = db[collection]\n",
    "        except Exception as e:\n",
    "            print('oh oh something is not right')\n",
    "            print(e)\n",
    "        \n",
    "    def import_into_file(self, file):\n",
    "        try:\n",
    "            with open(file, 'w') as f:\n",
    "                for record in self.col.find():\n",
    "                    pprint(record, f)\n",
    "        except Exception as e:\n",
    "            print('oh oh something is not right')\n",
    "            print(e)\n",
    "\n",
    "            \n",
    "mongo = ImportDataFromMongo('abc', 'password'\n",
    "                           )\n",
    "mongo.connect()\n",
    "mongo.get_db_and_col()\n",
    "mongo.import_into_file('test1.txt')"
   ]
  },
  {
   "cell_type": "markdown",
   "id": "51c1c9b3-03a3-43a0-9e6d-f76384842dae",
   "metadata": {},
   "source": [
    "#### Q8. Create a class to build a calculator functionalities addition, subtraction, multiplication, division, logarithm, exponent, power"
   ]
  },
  {
   "cell_type": "code",
   "execution_count": 8,
   "id": "e0a82163-be3f-4827-be07-9092ded4322d",
   "metadata": {},
   "outputs": [
    {
     "name": "stdout",
     "output_type": "stream",
     "text": [
      "The sum of the elements is:  65.23\n",
      "433.88\n",
      "The sum of the elements is:  70\n",
      "8.0\n",
      "3.8066624897703196\n",
      "20.085536923187668\n",
      "8.0\n"
     ]
    }
   ],
   "source": [
    "from functools import reduce\n",
    "import math\n",
    "\n",
    "class Calculator:\n",
    "    def addition(self,*args):\n",
    "        try:\n",
    "            print('The sum of the elements is: ', reduce(lambda a, b: a+b, args))\n",
    "        except Exception as e:\n",
    "            print('Something is wrong')\n",
    "            print(e)\n",
    "    \n",
    "    def subtraction(self, n1, n2):\n",
    "        try:\n",
    "            print(n1 - n2)\n",
    "        except Exception as e:\n",
    "            print('Something is wrong')\n",
    "            print(e)\n",
    "    \n",
    "    def multiply(self, *args):\n",
    "        try:\n",
    "            print('The sum of the elements is: ', reduce(lambda a, b: a+b, args))\n",
    "        except Exception as e:\n",
    "            print('Something is wrong')\n",
    "            print(e)\n",
    "    \n",
    "    def division(self, n1, n2):\n",
    "        try:\n",
    "            print(n1/n2)\n",
    "        except Exception as e:\n",
    "            print('Something is wrong')\n",
    "            print(e)\n",
    "    \n",
    "    def log(self, n, base=math.e):\n",
    "        try:\n",
    "            print(math.log(n, base))\n",
    "        except Exception as e:\n",
    "            print('Something is wrong')\n",
    "            print(e)\n",
    "    \n",
    "    def exponent(self, n):\n",
    "        try:\n",
    "            print(math.exp(n))\n",
    "        except Exception as e:\n",
    "            print('Something is wrong')\n",
    "            print(e)\n",
    "    \n",
    "    def power(self, x, y):\n",
    "        try:\n",
    "            print(math.pow(x, y))\n",
    "        except Exception as e:\n",
    "            print('Something is wrong')\n",
    "            print(e)\n",
    "            \n",
    "            \n",
    "calc = Calculator()\n",
    "calc.addition(45, 6.23, 12, 2)\n",
    "calc.subtraction(783, 349.12)\n",
    "calc.multiply(23, 45, 2)\n",
    "calc.division(72, 9)\n",
    "calc.log(45)\n",
    "calc.exponent(3)\n",
    "calc.power(2, 3)"
   ]
  },
  {
   "cell_type": "markdown",
   "id": "1766840b-ea9f-4e38-8ac1-d36cd596ed7e",
   "metadata": {},
   "source": [
    "#### Q9. Create a class method to find a time and space complexity of any function"
   ]
  },
  {
   "cell_type": "code",
   "execution_count": 9,
   "id": "ace860a1-5478-44e5-a74e-f6f69603e855",
   "metadata": {},
   "outputs": [
    {
     "name": "stdout",
     "output_type": "stream",
     "text": [
      "(0, 48)\n"
     ]
    }
   ],
   "source": [
    "from time import time\n",
    "import tracemalloc\n",
    "\n",
    "class Complexity:\n",
    "    @staticmethod\n",
    "    def time_complexiy(fun, *args):\n",
    "        try:\n",
    "            start = time()\n",
    "            fun(*args)\n",
    "            end = time()\n",
    "            return end - start\n",
    "        except Exception as e:\n",
    "            print('Something is wrong')\n",
    "            print(e)\n",
    "    \n",
    "    @staticmethod\n",
    "    def space_complexity(fun, *args):\n",
    "        try:\n",
    "            tracemalloc.start()\n",
    "            fun(*args)\n",
    "            current, peak = tracemalloc.get_traced_memory()\n",
    "            tracemalloc.stop()\n",
    "        except Exception as e:\n",
    "            print('Something is wrong')\n",
    "            print(e)\n",
    "        else:\n",
    "            return current, peak\n",
    "        \n",
    "        \n",
    "print(Complexity.space_complexity(sum, [1, 2, 3, 4, 45, 5]))"
   ]
  },
  {
   "cell_type": "markdown",
   "id": "d80f4ecf-9e00-459c-adae-57f08e90296c",
   "metadata": {},
   "source": [
    "#### Q10. Create a class to do a bulk upload of a file in MySQL."
   ]
  },
  {
   "cell_type": "code",
   "execution_count": null,
   "id": "f94a3a97-f687-4c0d-b2b5-16c30494d8c2",
   "metadata": {},
   "outputs": [],
   "source": [
    "import mysql.connector\n",
    "import csv\n",
    "\n",
    "class UploadMySQL(my_sql):\n",
    "    def bulk_insert(self, file):\n",
    "        try:\n",
    "            with open(file) as f:\n",
    "                reader = csv.reader(f)\n",
    "                next(reader)\n",
    "\n",
    "                for record in reader:\n",
    "                    self.cursor.execute(f'INSERT INTO {self.db_name}.{self.table_name} VALUES {tuple(record)}')\n",
    "                    \n",
    "                self.mydb.commit()\n",
    "        except Exception as e:\n",
    "            print('Something is wrong')\n",
    "            print(e)\n",
    "            \n",
    "    def select_data(self):\n",
    "        try:\n",
    "            self.cursor.execute(f'SELECT * FROM {self.db_name}.{self.table_name}')\n",
    "            \n",
    "            for record in self.cursor:\n",
    "                print(record)\n",
    "        except Exception as e:\n",
    "            print('Something is wrong')\n",
    "            print(e)\n",
    "\n",
    "\n",
    "db = UploadMySQL('abc', 'password')\n",
    "\n",
    "db.connect()\n",
    "db.cursor()\n",
    "db.database('glass')\n",
    "db.table('glass_table', '''`index` INT, RI REAL, Na REAL, Mg REAL,\n",
    "                            Al REAL, Si REAL, K REAL, Ca REAL,\n",
    "                            Ba REAL, Fe REAL, Class INT''')\n",
    "db.bulk_insert('glass.csv')\n",
    "db.select_data()"
   ]
  },
  {
   "cell_type": "code",
   "execution_count": null,
   "id": "2c2f64f8-b47c-4968-9aa6-d6f9f1e109d4",
   "metadata": {},
   "outputs": [],
   "source": []
  }
 ],
 "metadata": {
  "kernelspec": {
   "display_name": "Python 3 (ipykernel)",
   "language": "python",
   "name": "python3"
  },
  "language_info": {
   "codemirror_mode": {
    "name": "ipython",
    "version": 3
   },
   "file_extension": ".py",
   "mimetype": "text/x-python",
   "name": "python",
   "nbconvert_exporter": "python",
   "pygments_lexer": "ipython3",
   "version": "3.10.6"
  }
 },
 "nbformat": 4,
 "nbformat_minor": 5
}
