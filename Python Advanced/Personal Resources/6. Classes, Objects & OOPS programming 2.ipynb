{
 "cells": [
  {
   "cell_type": "code",
   "execution_count": 1,
   "id": "30c7d510",
   "metadata": {},
   "outputs": [],
   "source": [
    "class car:\n",
    "    def __init__(self, body_type, engine, fuel_type):\n",
    "        self.body_type = body_type\n",
    "        self.engine = engine\n",
    "        self.fuel_type = fuel_type\n",
    "        \n",
    "    def test(self):\n",
    "        print('this is my first method in my car class')"
   ]
  },
  {
   "cell_type": "code",
   "execution_count": 2,
   "id": "d1b8e097",
   "metadata": {},
   "outputs": [
    {
     "ename": "TypeError",
     "evalue": "car.__init__() missing 3 required positional arguments: 'body_type', 'engine', and 'fuel_type'",
     "output_type": "error",
     "traceback": [
      "\u001b[1;31m---------------------------------------------------------------------------\u001b[0m",
      "\u001b[1;31mTypeError\u001b[0m                                 Traceback (most recent call last)",
      "Cell \u001b[1;32mIn[2], line 1\u001b[0m\n\u001b[1;32m----> 1\u001b[0m fortuner \u001b[38;5;241m=\u001b[39m \u001b[43mcar\u001b[49m\u001b[43m(\u001b[49m\u001b[43m)\u001b[49m\n",
      "\u001b[1;31mTypeError\u001b[0m: car.__init__() missing 3 required positional arguments: 'body_type', 'engine', and 'fuel_type'"
     ]
    }
   ],
   "source": [
    "fortuner = car()"
   ]
  },
  {
   "cell_type": "code",
   "execution_count": 3,
   "id": "5d64cbb8",
   "metadata": {},
   "outputs": [],
   "source": [
    "fortuner = car('suv', 'bs4', 'petrol')"
   ]
  },
  {
   "cell_type": "code",
   "execution_count": 4,
   "id": "ba052fa4",
   "metadata": {},
   "outputs": [],
   "source": [
    "nexon = car('suv', 'abc', 'petrol')"
   ]
  },
  {
   "cell_type": "code",
   "execution_count": 5,
   "id": "f436d0d9",
   "metadata": {},
   "outputs": [
    {
     "data": {
      "text/plain": [
       "'suv'"
      ]
     },
     "execution_count": 5,
     "metadata": {},
     "output_type": "execute_result"
    }
   ],
   "source": [
    "fortuner.body_type"
   ]
  },
  {
   "cell_type": "code",
   "execution_count": 6,
   "id": "6e504be3",
   "metadata": {},
   "outputs": [
    {
     "data": {
      "text/plain": [
       "'abc'"
      ]
     },
     "execution_count": 6,
     "metadata": {},
     "output_type": "execute_result"
    }
   ],
   "source": [
    "nexon.engine"
   ]
  },
  {
   "cell_type": "code",
   "execution_count": 7,
   "id": "b720b726",
   "metadata": {},
   "outputs": [
    {
     "name": "stdout",
     "output_type": "stream",
     "text": [
      "this is my first method in my car class\n"
     ]
    }
   ],
   "source": [
    "fortuner.test()"
   ]
  },
  {
   "cell_type": "code",
   "execution_count": 12,
   "id": "a1eed44c",
   "metadata": {},
   "outputs": [],
   "source": [
    "class car:\n",
    "    def test(self, b, c):\n",
    "        print('this is my first method in my car class')"
   ]
  },
  {
   "cell_type": "code",
   "execution_count": 13,
   "id": "15bb7f5e",
   "metadata": {},
   "outputs": [],
   "source": [
    "x = car()"
   ]
  },
  {
   "cell_type": "code",
   "execution_count": 15,
   "id": "0699a536",
   "metadata": {},
   "outputs": [
    {
     "ename": "TypeError",
     "evalue": "car.test() takes 3 positional arguments but 4 were given",
     "output_type": "error",
     "traceback": [
      "\u001b[1;31m---------------------------------------------------------------------------\u001b[0m",
      "\u001b[1;31mTypeError\u001b[0m                                 Traceback (most recent call last)",
      "Cell \u001b[1;32mIn[15], line 1\u001b[0m\n\u001b[1;32m----> 1\u001b[0m \u001b[43mx\u001b[49m\u001b[38;5;241;43m.\u001b[39;49m\u001b[43mtest\u001b[49m\u001b[43m(\u001b[49m\u001b[38;5;241;43m6\u001b[39;49m\u001b[43m,\u001b[49m\u001b[43m \u001b[49m\u001b[38;5;124;43m'\u001b[39;49m\u001b[38;5;124;43mgsdilfnsdi\u001b[39;49m\u001b[38;5;124;43m'\u001b[39;49m\u001b[43m,\u001b[49m\u001b[43m \u001b[49m\u001b[38;5;241;43m56\u001b[39;49m\u001b[43m)\u001b[49m\n",
      "\u001b[1;31mTypeError\u001b[0m: car.test() takes 3 positional arguments but 4 were given"
     ]
    }
   ],
   "source": [
    "x.test(6, 'gsdilfnsdi', 56)"
   ]
  },
  {
   "cell_type": "code",
   "execution_count": 45,
   "id": "6882725c",
   "metadata": {},
   "outputs": [],
   "source": [
    "class list_parser:\n",
    "    def __init__(self, l):\n",
    "        self.l = l\n",
    "        \n",
    "    def parcer(self):\n",
    "        if type(self.l) == list:\n",
    "            for i in self.l:\n",
    "                print(i)\n",
    "    \n",
    "    def reverse_list(self):\n",
    "        if type(self.l) == list:\n",
    "            return self.l[::-1]"
   ]
  },
  {
   "cell_type": "code",
   "execution_count": 46,
   "id": "13eb3383",
   "metadata": {},
   "outputs": [
    {
     "name": "stdout",
     "output_type": "stream",
     "text": [
      "2\n",
      "3\n",
      "4\n",
      "6\n",
      "7\n",
      "78\n"
     ]
    }
   ],
   "source": [
    "c = list_parser([2, 3, 4, 6, 7, 78])\n",
    "c.parcer()"
   ]
  },
  {
   "cell_type": "code",
   "execution_count": 47,
   "id": "18757dc9",
   "metadata": {},
   "outputs": [
    {
     "data": {
      "text/plain": [
       "[78, 7, 6, 4, 3, 2]"
      ]
     },
     "execution_count": 47,
     "metadata": {},
     "output_type": "execute_result"
    }
   ],
   "source": [
    "c.reverse_list()"
   ]
  },
  {
   "cell_type": "markdown",
   "id": "5f68bba2",
   "metadata": {},
   "source": [
    "Create a class for dictionary parsing<br>\n",
    "1. Write a method to give all the keys<br>\n",
    "2. Write a method to give all the values<br>\n",
    "3. Write a method to throw an exception in case of input not a dictionary<br>\n",
    "4. Write a method to take user input and then parse a key and value out of dictionary<br>\n",
    "5. Write a method to insert new key value pair into dictionary"
   ]
  },
  {
   "cell_type": "code",
   "execution_count": 102,
   "id": "c40b4aa7",
   "metadata": {},
   "outputs": [],
   "source": [
    "class dict_parser:\n",
    "    def __init__(self, d):\n",
    "        self.d = d\n",
    "        \n",
    "    def keys(self):\n",
    "        if type(self.d) == dict:\n",
    "            return list(self.d.keys())\n",
    "            \n",
    "    def values(self):\n",
    "        if type(self.d) == dict:\n",
    "            return list(self.d.values())\n",
    "            \n",
    "    def check_input(self):\n",
    "        if type(self.d) != dict:\n",
    "            raise Exception('Input provided was not a dictionary')\n",
    "        return True\n",
    "    \n",
    "    def parse_key_value(self):\n",
    "        a = eval(input('Enter a dictionary: '))\n",
    "        print(a.keys())\n",
    "        print(a.values())\n",
    "            \n",
    "    def insert_key_value(self, key, value):\n",
    "        self.d[key] = value\n",
    "        return self.d"
   ]
  },
  {
   "cell_type": "code",
   "execution_count": 103,
   "id": "d7fb3b05",
   "metadata": {},
   "outputs": [],
   "source": [
    "a = dict_parser({'a': 1, 'b':2, 'c': 3})"
   ]
  },
  {
   "cell_type": "code",
   "execution_count": 104,
   "id": "c728a268",
   "metadata": {},
   "outputs": [
    {
     "data": {
      "text/plain": [
       "['a', 'b', 'c']"
      ]
     },
     "execution_count": 104,
     "metadata": {},
     "output_type": "execute_result"
    }
   ],
   "source": [
    "a.keys()"
   ]
  },
  {
   "cell_type": "code",
   "execution_count": 105,
   "id": "e96e88bf",
   "metadata": {},
   "outputs": [
    {
     "data": {
      "text/plain": [
       "[1, 2, 3]"
      ]
     },
     "execution_count": 105,
     "metadata": {},
     "output_type": "execute_result"
    }
   ],
   "source": [
    "a.values()"
   ]
  },
  {
   "cell_type": "code",
   "execution_count": 106,
   "id": "8a7c13c7",
   "metadata": {},
   "outputs": [
    {
     "data": {
      "text/plain": [
       "True"
      ]
     },
     "execution_count": 106,
     "metadata": {},
     "output_type": "execute_result"
    }
   ],
   "source": [
    "a.check_input()"
   ]
  },
  {
   "cell_type": "code",
   "execution_count": 107,
   "id": "59562a62",
   "metadata": {},
   "outputs": [
    {
     "name": "stdout",
     "output_type": "stream",
     "text": [
      "Enter a dictionary: {'k':'fsdsf'}\n",
      "dict_keys(['k'])\n",
      "dict_values(['fsdsf'])\n"
     ]
    }
   ],
   "source": [
    "a.parse_key_value()"
   ]
  },
  {
   "cell_type": "code",
   "execution_count": 108,
   "id": "77cac580",
   "metadata": {},
   "outputs": [
    {
     "data": {
      "text/plain": [
       "{'a': 1, 'b': 2, 'c': 3, 'd': 4}"
      ]
     },
     "execution_count": 108,
     "metadata": {},
     "output_type": "execute_result"
    }
   ],
   "source": [
    "a.insert_key_value('d', 4)"
   ]
  },
  {
   "cell_type": "code",
   "execution_count": 109,
   "id": "c7d87913",
   "metadata": {},
   "outputs": [],
   "source": [
    "b = dict_parser([1, 2, 3])"
   ]
  },
  {
   "cell_type": "code",
   "execution_count": 110,
   "id": "cd750d7d",
   "metadata": {},
   "outputs": [
    {
     "ename": "Exception",
     "evalue": "Input provided was not a dictionary",
     "output_type": "error",
     "traceback": [
      "\u001b[1;31m---------------------------------------------------------------------------\u001b[0m",
      "\u001b[1;31mException\u001b[0m                                 Traceback (most recent call last)",
      "Cell \u001b[1;32mIn[110], line 1\u001b[0m\n\u001b[1;32m----> 1\u001b[0m \u001b[43mb\u001b[49m\u001b[38;5;241;43m.\u001b[39;49m\u001b[43mcheck_input\u001b[49m\u001b[43m(\u001b[49m\u001b[43m)\u001b[49m\n",
      "Cell \u001b[1;32mIn[102], line 15\u001b[0m, in \u001b[0;36mdict_parser.check_input\u001b[1;34m(self)\u001b[0m\n\u001b[0;32m     13\u001b[0m \u001b[38;5;28;01mdef\u001b[39;00m \u001b[38;5;21mcheck_input\u001b[39m(\u001b[38;5;28mself\u001b[39m):\n\u001b[0;32m     14\u001b[0m     \u001b[38;5;28;01mif\u001b[39;00m \u001b[38;5;28mtype\u001b[39m(\u001b[38;5;28mself\u001b[39m\u001b[38;5;241m.\u001b[39md) \u001b[38;5;241m!=\u001b[39m \u001b[38;5;28mdict\u001b[39m:\n\u001b[1;32m---> 15\u001b[0m         \u001b[38;5;28;01mraise\u001b[39;00m \u001b[38;5;167;01mException\u001b[39;00m(\u001b[38;5;124m'\u001b[39m\u001b[38;5;124mInput provided was not a dictionary\u001b[39m\u001b[38;5;124m'\u001b[39m)\n\u001b[0;32m     16\u001b[0m     \u001b[38;5;28;01mreturn\u001b[39;00m \u001b[38;5;28;01mTrue\u001b[39;00m\n",
      "\u001b[1;31mException\u001b[0m: Input provided was not a dictionary"
     ]
    }
   ],
   "source": [
    "b.check_input()"
   ]
  },
  {
   "cell_type": "code",
   "execution_count": 111,
   "id": "d0e90cce",
   "metadata": {},
   "outputs": [
    {
     "data": {
      "text/plain": [
       "<_io.TextIOWrapper name='mydict.py' mode='w' encoding='cp1252'>"
      ]
     },
     "execution_count": 111,
     "metadata": {},
     "output_type": "execute_result"
    }
   ],
   "source": [
    "open('mydict.py', 'w')"
   ]
  },
  {
   "cell_type": "code",
   "execution_count": 112,
   "id": "12e1240e",
   "metadata": {},
   "outputs": [
    {
     "name": "stdout",
     "output_type": "stream",
     "text": [
      " Volume in drive D is New Volume\n",
      " Volume Serial Number is AC3B-376A\n",
      "\n",
      " Directory of D:\\CS\\iNeuron\\Advanced Python\n",
      "\n",
      "01/04/2023  06:28 PM    <DIR>          .\n",
      "01/04/2023  06:28 PM    <DIR>          ..\n",
      "01/04/2023  06:26 PM    <DIR>          .ipynb_checkpoints\n",
      "01/02/2023  05:52 PM    <DIR>          __pycache__\n",
      "12/31/2022  10:50 PM        59,323,070 1. Iterator, Generator & File System.ipynb\n",
      "12/31/2022  03:52 PM            94,859 1.png\n",
      "01/01/2023  10:38 PM            40,816 2. Exceptional Handling .ipynb\n",
      "01/02/2023  11:06 AM            37,917 2.png\n",
      "01/02/2023  01:41 PM             4,521 3. Logging.ipynb\n",
      "01/02/2023  01:52 PM            99,812 3.jpg\n",
      "01/02/2023  07:55 PM             9,854 4. Module & Packages.ipynb\n",
      "01/04/2023  05:17 PM           254,539 4.png\n",
      "01/03/2023  12:38 PM             6,932 5. Classes, Objects & OOPS programming.ipynb\n",
      "01/04/2023  06:28 PM            11,290 6. Classes, Objects & OOPS programming 2.ipynb\n",
      "01/04/2023  06:28 PM             1,108 7. Classes, Objects & OOPS programming 3.ipynb\n",
      "01/03/2023  03:18 PM    <DIR>          KivyTutorial\n",
      "01/02/2023  05:49 PM               264 my_module.py\n",
      "01/04/2023  06:28 PM                 0 mydict.py\n",
      "01/02/2023  07:12 PM    <DIR>          myownproject\n",
      "12/31/2022  02:39 PM    <DIR>          Python Advanced Assignments\n",
      "01/02/2023  12:07 PM               451 test.log\n",
      "01/01/2023  04:53 PM                20 test.txt\n",
      "01/01/2023  07:46 PM                22 test1.txt\n",
      "01/02/2023  01:05 PM             1,824 test2.log\n",
      "01/02/2023  04:28 PM               258 test2.py\n",
      "01/02/2023  01:39 PM             3,983 test3.log\n",
      "01/01/2023  07:59 PM                 0 test43.txt\n",
      "              20 File(s)     59,891,540 bytes\n",
      "               7 Dir(s)  100,414,664,704 bytes free\n"
     ]
    }
   ],
   "source": [
    "ls"
   ]
  },
  {
   "cell_type": "code",
   "execution_count": null,
   "id": "4affedf8",
   "metadata": {},
   "outputs": [],
   "source": []
  }
 ],
 "metadata": {
  "kernelspec": {
   "display_name": "Python 3 (ipykernel)",
   "language": "python",
   "name": "python3"
  },
  "language_info": {
   "codemirror_mode": {
    "name": "ipython",
    "version": 3
   },
   "file_extension": ".py",
   "mimetype": "text/x-python",
   "name": "python",
   "nbconvert_exporter": "python",
   "pygments_lexer": "ipython3",
   "version": "3.11.0"
  }
 },
 "nbformat": 4,
 "nbformat_minor": 5
}
