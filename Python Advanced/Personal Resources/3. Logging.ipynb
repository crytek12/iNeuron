{
 "cells": [
  {
   "cell_type": "markdown",
   "id": "e4cdf9f6",
   "metadata": {},
   "source": [
    "# Logging"
   ]
  },
  {
   "cell_type": "code",
   "execution_count": 1,
   "id": "5c7276aa",
   "metadata": {},
   "outputs": [
    {
     "name": "stdout",
     "output_type": "stream",
     "text": [
      "fdwsfddasfs\n"
     ]
    }
   ],
   "source": [
    "print('fdwsfddasfs') # We never call print in production environment, only call logger"
   ]
  },
  {
   "cell_type": "code",
   "execution_count": 1,
   "id": "bb243978",
   "metadata": {},
   "outputs": [],
   "source": [
    "import logging"
   ]
  },
  {
   "cell_type": "code",
   "execution_count": 2,
   "id": "9609952f",
   "metadata": {},
   "outputs": [],
   "source": [
    "logging.basicConfig(filename='test.log', level=logging.INFO)"
   ]
  },
  {
   "cell_type": "code",
   "execution_count": 3,
   "id": "348896e0",
   "metadata": {},
   "outputs": [],
   "source": [
    "logging.info('this is my info log')\n",
    "logging.warning('this is my warning log')\n",
    "logging.error('this is my error log')"
   ]
  },
  {
   "cell_type": "code",
   "execution_count": 5,
   "id": "7ffa361a",
   "metadata": {},
   "outputs": [],
   "source": [
    "logging.shutdown()"
   ]
  },
  {
   "cell_type": "code",
   "execution_count": 6,
   "id": "fc32117c",
   "metadata": {},
   "outputs": [
    {
     "data": {
      "text/plain": [
       "'D:\\\\CS\\\\iNeuron\\\\Advanced Python'"
      ]
     },
     "execution_count": 6,
     "metadata": {},
     "output_type": "execute_result"
    }
   ],
   "source": [
    "pwd"
   ]
  },
  {
   "cell_type": "markdown",
   "id": "31baedb7",
   "metadata": {},
   "source": [
    "**Types of logs**<br>\n",
    "1. DEBUG<br>\n",
    "2. INFO<br>\n",
    "3. WARNING<br>\n",
    "4. ERROR<br>\n",
    "5. CRITICAL"
   ]
  },
  {
   "cell_type": "code",
   "execution_count": 1,
   "id": "14fd7f0e",
   "metadata": {},
   "outputs": [],
   "source": [
    "import logging\n",
    "logging.basicConfig(filename='test2.log', level=logging.DEBUG, format='%(asctime)s %(levelname)s %(message)s')"
   ]
  },
  {
   "cell_type": "code",
   "execution_count": 2,
   "id": "746fe7a3",
   "metadata": {},
   "outputs": [],
   "source": [
    "logging.info('this is my info log')\n",
    "logging.warning('this is my warning log')\n",
    "logging.debug('this is my debug log')\n",
    "logging.error('this is my error log')"
   ]
  },
  {
   "cell_type": "markdown",
   "id": "bdad7310",
   "metadata": {},
   "source": [
    "**Priority of logs (LEVEL OF LOGGING)**<br>\n",
    "1. ERROR<br>\n",
    "2. WARNING<br>\n",
    "3. INFO<br>\n",
    "4. DEBUG"
   ]
  },
  {
   "cell_type": "code",
   "execution_count": 1,
   "id": "91030072",
   "metadata": {},
   "outputs": [],
   "source": [
    "import logging\n",
    "\n",
    "logging.basicConfig(filename='test3.log', level=logging.DEBUG, format='%(asctime)s %(levelname)s %(message)s')"
   ]
  },
  {
   "cell_type": "code",
   "execution_count": 2,
   "id": "4d912a94",
   "metadata": {},
   "outputs": [],
   "source": [
    "def divbyzero(a, b):\n",
    "    logging.info(f'This is a start of my code and I am trying to enter {a} and {b}')\n",
    "    try:\n",
    "        div = a / b\n",
    "        logging.info('Executed successfully!')\n",
    "    except Exception as e:\n",
    "        logging.error('Error has occured')\n",
    "        logging.exception('Exception occured ' + str(e))"
   ]
  },
  {
   "cell_type": "code",
   "execution_count": 3,
   "id": "3285139b",
   "metadata": {},
   "outputs": [],
   "source": [
    "divbyzero(4, 5)"
   ]
  },
  {
   "cell_type": "code",
   "execution_count": 4,
   "id": "1accc784",
   "metadata": {},
   "outputs": [],
   "source": [
    "divbyzero(4, 0)"
   ]
  },
  {
   "cell_type": "code",
   "execution_count": 5,
   "id": "bef283f4",
   "metadata": {},
   "outputs": [],
   "source": [
    "logging.shutdown()"
   ]
  },
  {
   "cell_type": "code",
   "execution_count": null,
   "id": "14b2e7bc",
   "metadata": {},
   "outputs": [],
   "source": []
  }
 ],
 "metadata": {
  "kernelspec": {
   "display_name": "Python 3 (ipykernel)",
   "language": "python",
   "name": "python3"
  },
  "language_info": {
   "codemirror_mode": {
    "name": "ipython",
    "version": 3
   },
   "file_extension": ".py",
   "mimetype": "text/x-python",
   "name": "python",
   "nbconvert_exporter": "python",
   "pygments_lexer": "ipython3",
   "version": "3.11.0"
  }
 },
 "nbformat": 4,
 "nbformat_minor": 5
}
