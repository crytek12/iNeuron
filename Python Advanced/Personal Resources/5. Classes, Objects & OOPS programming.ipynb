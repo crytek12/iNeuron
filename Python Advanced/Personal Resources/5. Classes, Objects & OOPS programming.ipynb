{
 "cells": [
  {
   "cell_type": "code",
   "execution_count": 1,
   "id": "8c80fe5f",
   "metadata": {},
   "outputs": [
    {
     "name": "stdout",
     "output_type": "stream",
     "text": [
      "1\n",
      "2\n",
      "3\n",
      "4\n",
      "5\n"
     ]
    }
   ],
   "source": [
    "l = [1, 2, 3, 4, 5]\n",
    "for i in l:\n",
    "    print(i)"
   ]
  },
  {
   "cell_type": "markdown",
   "id": "06e3c78a",
   "metadata": {},
   "source": [
    "###### Two kind: Scripting and OOPS"
   ]
  },
  {
   "cell_type": "code",
   "execution_count": 2,
   "id": "3dce5a24",
   "metadata": {},
   "outputs": [
    {
     "data": {
      "text/plain": [
       "'sudh'"
      ]
     },
     "execution_count": 2,
     "metadata": {},
     "output_type": "execute_result"
    }
   ],
   "source": [
    "'sudh'"
   ]
  },
  {
   "cell_type": "code",
   "execution_count": 3,
   "id": "28d850a9",
   "metadata": {},
   "outputs": [
    {
     "data": {
      "text/plain": [
       "'kumar'"
      ]
     },
     "execution_count": 3,
     "metadata": {},
     "output_type": "execute_result"
    }
   ],
   "source": [
    "'kumar'"
   ]
  },
  {
   "cell_type": "markdown",
   "id": "395f67c7",
   "metadata": {},
   "source": [
    "### OOPS\n",
    "Specification (Specific one) -------> Object<br>\n",
    "Get inside Fortuner  -------> Object<br>\n",
    "Covishield, covaxin ---------> Object of Vaccine (Class)\n"
   ]
  },
  {
   "cell_type": "code",
   "execution_count": 4,
   "id": "d260505c",
   "metadata": {},
   "outputs": [
    {
     "ename": "SyntaxError",
     "evalue": "incomplete input (2524229445.py, line 1)",
     "output_type": "error",
     "traceback": [
      "\u001b[1;36m  Cell \u001b[1;32mIn[4], line 1\u001b[1;36m\u001b[0m\n\u001b[1;33m    class car:\u001b[0m\n\u001b[1;37m              ^\u001b[0m\n\u001b[1;31mSyntaxError\u001b[0m\u001b[1;31m:\u001b[0m incomplete input\n"
     ]
    }
   ],
   "source": [
    "class car:"
   ]
  },
  {
   "cell_type": "code",
   "execution_count": 5,
   "id": "d6d7153a",
   "metadata": {},
   "outputs": [],
   "source": [
    "class car:\n",
    "    pass"
   ]
  },
  {
   "cell_type": "code",
   "execution_count": 13,
   "id": "020455f2",
   "metadata": {},
   "outputs": [],
   "source": [
    "class car:\n",
    "    # init is a constructor -----> kind of a entity (function etc.) which helps my class take input or which is responsible for providing a data to the particular class\n",
    "    def __init__(self, brand_name, fueltype, body_type):    # starts with __ and ends with __ is an inbuilt function (already written by someone and it is going to get overwritten)\n",
    "        self.brand_name = brand_name # self is just a pointer pointing to class\n",
    "        self.fueltype = fueltype\n",
    "        self.body_type = body_type\n",
    "        \n",
    "    def desc_car(self):\n",
    "        print(self.brand_name, self.fueltype, self.body_type)"
   ]
  },
  {
   "cell_type": "code",
   "execution_count": 14,
   "id": "ba3ed7fb",
   "metadata": {},
   "outputs": [
    {
     "ename": "TypeError",
     "evalue": "car.__init__() missing 3 required positional arguments: 'brand_name', 'fueltype', and 'body_type'",
     "output_type": "error",
     "traceback": [
      "\u001b[1;31m---------------------------------------------------------------------------\u001b[0m",
      "\u001b[1;31mTypeError\u001b[0m                                 Traceback (most recent call last)",
      "Cell \u001b[1;32mIn[14], line 1\u001b[0m\n\u001b[1;32m----> 1\u001b[0m innova \u001b[38;5;241m=\u001b[39m \u001b[43mcar\u001b[49m\u001b[43m(\u001b[49m\u001b[43m)\u001b[49m\n",
      "\u001b[1;31mTypeError\u001b[0m: car.__init__() missing 3 required positional arguments: 'brand_name', 'fueltype', and 'body_type'"
     ]
    }
   ],
   "source": [
    "innova = car()"
   ]
  },
  {
   "cell_type": "code",
   "execution_count": 19,
   "id": "1b812069",
   "metadata": {},
   "outputs": [],
   "source": [
    "innova = car('toyota', 'petrol', 'suv')  \n",
    "nexon = car('tata', 'prtrol', 'min suv')\n",
    "fortuner = car('toyota', 'diesel', 'suv')"
   ]
  },
  {
   "cell_type": "code",
   "execution_count": 17,
   "id": "732fc890",
   "metadata": {},
   "outputs": [
    {
     "data": {
      "text/plain": [
       "'toyota'"
      ]
     },
     "execution_count": 17,
     "metadata": {},
     "output_type": "execute_result"
    }
   ],
   "source": [
    "innova.brand_name"
   ]
  },
  {
   "cell_type": "code",
   "execution_count": 16,
   "id": "de4e732a",
   "metadata": {},
   "outputs": [
    {
     "name": "stdout",
     "output_type": "stream",
     "text": [
      "toyota petrol suv\n"
     ]
    }
   ],
   "source": [
    "innova.desc_car()"
   ]
  },
  {
   "cell_type": "code",
   "execution_count": 25,
   "id": "e4b401fb",
   "metadata": {},
   "outputs": [
    {
     "name": "stdout",
     "output_type": "stream",
     "text": [
      "tata prtrol min suv\n"
     ]
    }
   ],
   "source": [
    "nexon.desc_car()"
   ]
  },
  {
   "cell_type": "code",
   "execution_count": 26,
   "id": "375860e6",
   "metadata": {},
   "outputs": [
    {
     "name": "stdout",
     "output_type": "stream",
     "text": [
      "toyota diesel suv\n"
     ]
    }
   ],
   "source": [
    "fortuner.desc_car()"
   ]
  },
  {
   "cell_type": "code",
   "execution_count": 28,
   "id": "acbfe2ee",
   "metadata": {},
   "outputs": [
    {
     "name": "stdout",
     "output_type": "stream",
     "text": [
      "<class 'int'>\n"
     ]
    }
   ],
   "source": [
    "a = 10\n",
    "print(type(a))"
   ]
  },
  {
   "cell_type": "code",
   "execution_count": 29,
   "id": "a8eba0dd",
   "metadata": {},
   "outputs": [],
   "source": [
    "s = 'sudh'"
   ]
  },
  {
   "cell_type": "code",
   "execution_count": null,
   "id": "8f9427de",
   "metadata": {},
   "outputs": [],
   "source": [
    "create a kind of a tool by which you will be able to browse each and everything\n",
    "list down all the files\n",
    "find wheather in current directory, we have pdf or not\n",
    "if pdf=0, do nothing\n",
    "if pdf>0, mearge all the pdf\n",
    "\n",
    "by using tkinter,kivy library\n",
    "kivy is best\n",
    "\n",
    "RESTRICTION : I\n",
    "use logging\n",
    "use modular coding\n",
    "use exception handling"
   ]
  },
  {
   "cell_type": "code",
   "execution_count": null,
   "id": "2d7b5c08",
   "metadata": {},
   "outputs": [],
   "source": []
  }
 ],
 "metadata": {
  "kernelspec": {
   "display_name": "Python 3 (ipykernel)",
   "language": "python",
   "name": "python3"
  },
  "language_info": {
   "codemirror_mode": {
    "name": "ipython",
    "version": 3
   },
   "file_extension": ".py",
   "mimetype": "text/x-python",
   "name": "python",
   "nbconvert_exporter": "python",
   "pygments_lexer": "ipython3",
   "version": "3.11.0"
  }
 },
 "nbformat": 4,
 "nbformat_minor": 5
}
