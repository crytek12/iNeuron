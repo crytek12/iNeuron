{
 "cells": [
  {
   "cell_type": "code",
   "execution_count": 1,
   "id": "2a02b711",
   "metadata": {},
   "outputs": [],
   "source": [
    "d = {'k': 'fdsfa', 'k1': [3, 5, 6, 76]}"
   ]
  },
  {
   "cell_type": "code",
   "execution_count": 2,
   "id": "2c0db1bb",
   "metadata": {},
   "outputs": [
    {
     "data": {
      "text/plain": [
       "dict_keys(['k', 'k1'])"
      ]
     },
     "execution_count": 2,
     "metadata": {},
     "output_type": "execute_result"
    }
   ],
   "source": [
    "d.keys()"
   ]
  },
  {
   "cell_type": "code",
   "execution_count": 5,
   "id": "e43f037a",
   "metadata": {},
   "outputs": [],
   "source": [
    "# from mydict import dict_parsing\n",
    "import mydict"
   ]
  },
  {
   "cell_type": "code",
   "execution_count": 6,
   "id": "a022818a",
   "metadata": {},
   "outputs": [],
   "source": [
    "# d = dict_parsing({'k1': 'sudh', 'k2': [1, 2, 3, 4, 5]})\n",
    "d = mydict.dict_parsing({'k1': 'sudh', 'k2': [1, 2, 3, 4, 5]})"
   ]
  },
  {
   "cell_type": "code",
   "execution_count": 7,
   "id": "8194ac01",
   "metadata": {},
   "outputs": [
    {
     "data": {
      "text/plain": [
       "['k1', 'k2']"
      ]
     },
     "execution_count": 7,
     "metadata": {},
     "output_type": "execute_result"
    }
   ],
   "source": [
    "d.getkeys()"
   ]
  },
  {
   "cell_type": "markdown",
   "id": "a038d4fd",
   "metadata": {},
   "source": [
    "1. Create your own package for all the list function<br>\n",
    "2. Create your own package for all the tuple function<br>\n",
    "3. Create your own package for all the dictionary function<br>\n",
    "4. Create your own package for all the set function<br><br>\n",
    "###### Guidelines:<br>\n",
    "Always use exception handling<br>\n",
    "Never use print statement<br>\n",
    "Always use logging while writing a code and log every activity performed by code in respective logging file"
   ]
  },
  {
   "cell_type": "code",
   "execution_count": null,
   "id": "09d73b26",
   "metadata": {},
   "outputs": [],
   "source": []
  }
 ],
 "metadata": {
  "kernelspec": {
   "display_name": "Python 3 (ipykernel)",
   "language": "python",
   "name": "python3"
  },
  "language_info": {
   "codemirror_mode": {
    "name": "ipython",
    "version": 3
   },
   "file_extension": ".py",
   "mimetype": "text/x-python",
   "name": "python",
   "nbconvert_exporter": "python",
   "pygments_lexer": "ipython3",
   "version": "3.11.0"
  }
 },
 "nbformat": 4,
 "nbformat_minor": 5
}
