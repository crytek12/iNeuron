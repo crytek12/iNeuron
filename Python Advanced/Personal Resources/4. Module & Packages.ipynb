{
 "cells": [
  {
   "cell_type": "code",
   "execution_count": 8,
   "id": "8d849f88",
   "metadata": {},
   "outputs": [],
   "source": [
    "import test2"
   ]
  },
  {
   "cell_type": "code",
   "execution_count": 2,
   "id": "3958a591",
   "metadata": {},
   "outputs": [
    {
     "data": {
      "text/plain": [
       "9"
      ]
     },
     "execution_count": 2,
     "metadata": {},
     "output_type": "execute_result"
    }
   ],
   "source": [
    "test2.test(4, 5)"
   ]
  },
  {
   "cell_type": "code",
   "execution_count": 3,
   "id": "f09f2a20",
   "metadata": {},
   "outputs": [
    {
     "name": "stdout",
     "output_type": "stream",
     "text": [
      "this is my code written in module test2\n"
     ]
    }
   ],
   "source": [
    "test2.test4()"
   ]
  },
  {
   "cell_type": "code",
   "execution_count": 4,
   "id": "bfb33e74",
   "metadata": {},
   "outputs": [
    {
     "data": {
      "text/plain": [
       "0.75"
      ]
     },
     "execution_count": 4,
     "metadata": {},
     "output_type": "execute_result"
    }
   ],
   "source": [
    "test2.test3(3, 4)"
   ]
  },
  {
   "cell_type": "code",
   "execution_count": 5,
   "id": "0d5a0f94",
   "metadata": {},
   "outputs": [],
   "source": [
    "from test2 import test4"
   ]
  },
  {
   "cell_type": "code",
   "execution_count": 6,
   "id": "008b74bc",
   "metadata": {},
   "outputs": [
    {
     "name": "stdout",
     "output_type": "stream",
     "text": [
      "this is my code written in module test2\n"
     ]
    }
   ],
   "source": [
    "test4()"
   ]
  },
  {
   "cell_type": "code",
   "execution_count": 10,
   "id": "3221d109",
   "metadata": {},
   "outputs": [],
   "source": [
    "from test2 import *"
   ]
  },
  {
   "cell_type": "code",
   "execution_count": 11,
   "id": "b193236c",
   "metadata": {},
   "outputs": [
    {
     "data": {
      "text/plain": [
       "20"
      ]
     },
     "execution_count": 11,
     "metadata": {},
     "output_type": "execute_result"
    }
   ],
   "source": [
    "test1(4, 5)"
   ]
  },
  {
   "cell_type": "code",
   "execution_count": 3,
   "id": "642f5ea5",
   "metadata": {},
   "outputs": [],
   "source": [
    "l = [3, 4, 5, 6]"
   ]
  },
  {
   "cell_type": "code",
   "execution_count": 12,
   "id": "fef9e22d",
   "metadata": {},
   "outputs": [
    {
     "data": {
      "text/plain": [
       "['In',\n",
       " 'Out',\n",
       " '_',\n",
       " '_1',\n",
       " '_11',\n",
       " '_2',\n",
       " '_4',\n",
       " '_5',\n",
       " '_6',\n",
       " '_7',\n",
       " '_9',\n",
       " '__',\n",
       " '___',\n",
       " '__builtin__',\n",
       " '__builtins__',\n",
       " '__doc__',\n",
       " '__loader__',\n",
       " '__name__',\n",
       " '__package__',\n",
       " '__spec__',\n",
       " '_dh',\n",
       " '_i',\n",
       " '_i1',\n",
       " '_i10',\n",
       " '_i11',\n",
       " '_i12',\n",
       " '_i2',\n",
       " '_i3',\n",
       " '_i4',\n",
       " '_i5',\n",
       " '_i6',\n",
       " '_i7',\n",
       " '_i8',\n",
       " '_i9',\n",
       " '_ih',\n",
       " '_ii',\n",
       " '_iii',\n",
       " '_oh',\n",
       " 'exit',\n",
       " 'get_ipython',\n",
       " 'open',\n",
       " 'quit',\n",
       " 'test',\n",
       " 'test1',\n",
       " 'test2',\n",
       " 'test3',\n",
       " 'test4']"
      ]
     },
     "execution_count": 12,
     "metadata": {},
     "output_type": "execute_result"
    }
   ],
   "source": [
    "dir()"
   ]
  },
  {
   "cell_type": "code",
   "execution_count": 13,
   "id": "d00e72d4",
   "metadata": {},
   "outputs": [
    {
     "data": {
      "text/plain": [
       "<_io.TextIOWrapper name='my_module.py' mode='w' encoding='cp1252'>"
      ]
     },
     "execution_count": 13,
     "metadata": {},
     "output_type": "execute_result"
    }
   ],
   "source": [
    "open('my_module.py', 'w')"
   ]
  },
  {
   "cell_type": "code",
   "execution_count": 14,
   "id": "219f4b49",
   "metadata": {},
   "outputs": [
    {
     "name": "stdout",
     "output_type": "stream",
     "text": [
      " Volume in drive D is New Volume\n",
      " Volume Serial Number is AC3B-376A\n",
      "\n",
      " Directory of D:\\CS\\iNeuron\\Advanced Python\n",
      "\n",
      "01/02/2023  05:45 PM    <DIR>          .\n",
      "01/02/2023  05:45 PM    <DIR>          ..\n",
      "01/02/2023  02:20 PM    <DIR>          .ipynb_checkpoints\n",
      "01/02/2023  04:29 PM    <DIR>          __pycache__\n",
      "12/31/2022  10:50 PM        59,323,070 1. Iterator, Generator & File System.ipynb\n",
      "12/31/2022  03:52 PM            94,859 1.png\n",
      "01/01/2023  10:38 PM            40,816 2. Exceptional Handling .ipynb\n",
      "01/02/2023  11:06 AM            37,917 2.png\n",
      "01/02/2023  01:41 PM             4,521 3. Logging.ipynb\n",
      "01/02/2023  01:52 PM            99,812 3.jpg\n",
      "01/02/2023  05:45 PM             4,480 4. Module & Packages.ipynb\n",
      "01/02/2023  05:49 PM               264 my_module.py\n",
      "12/31/2022  02:39 PM    <DIR>          Python Advanced Assignments\n",
      "01/02/2023  12:07 PM               451 test.log\n",
      "01/01/2023  04:53 PM                20 test.txt\n",
      "01/01/2023  07:46 PM                22 test1.txt\n",
      "01/02/2023  01:05 PM             1,824 test2.log\n",
      "01/02/2023  04:28 PM               258 test2.py\n",
      "01/02/2023  01:39 PM             3,983 test3.log\n",
      "01/01/2023  07:59 PM                 0 test43.txt\n",
      "              15 File(s)     59,612,297 bytes\n",
      "               5 Dir(s)  100,415,160,320 bytes free\n"
     ]
    }
   ],
   "source": [
    "ls"
   ]
  },
  {
   "cell_type": "code",
   "execution_count": 15,
   "id": "4dd94b62",
   "metadata": {},
   "outputs": [],
   "source": [
    "import my_module"
   ]
  },
  {
   "cell_type": "code",
   "execution_count": 16,
   "id": "d98854c0",
   "metadata": {},
   "outputs": [
    {
     "data": {
      "text/plain": [
       "['data science', 'blockchain', 'drone', 'robotics', 'cloud']"
      ]
     },
     "execution_count": 16,
     "metadata": {},
     "output_type": "execute_result"
    }
   ],
   "source": [
    "my_module.get_course()"
   ]
  },
  {
   "cell_type": "code",
   "execution_count": 17,
   "id": "f23a348f",
   "metadata": {},
   "outputs": [
    {
     "data": {
      "text/plain": [
       "'greeting from ineuron'"
      ]
     },
     "execution_count": 17,
     "metadata": {},
     "output_type": "execute_result"
    }
   ],
   "source": [
    "my_module.greetings()"
   ]
  },
  {
   "cell_type": "code",
   "execution_count": 18,
   "id": "cb2f4267",
   "metadata": {},
   "outputs": [
    {
     "name": "stdout",
     "output_type": "stream",
     "text": [
      "Python 3.11.0\n"
     ]
    }
   ],
   "source": [
    "!python --version"
   ]
  },
  {
   "cell_type": "code",
   "execution_count": 19,
   "id": "4a778491",
   "metadata": {},
   "outputs": [
    {
     "name": "stdout",
     "output_type": "stream",
     "text": [
      " Volume in drive D is New Volume\n",
      " Volume Serial Number is AC3B-376A\n",
      "\n",
      " Directory of D:\\CS\\iNeuron\\Advanced Python\n",
      "\n",
      "01/02/2023  06:30 PM    <DIR>          .\n",
      "01/02/2023  06:30 PM    <DIR>          ..\n",
      "01/02/2023  02:20 PM    <DIR>          .ipynb_checkpoints\n",
      "01/02/2023  05:52 PM    <DIR>          __pycache__\n",
      "12/31/2022  10:50 PM        59,323,070 1. Iterator, Generator & File System.ipynb\n",
      "12/31/2022  03:52 PM            94,859 1.png\n",
      "01/01/2023  10:38 PM            40,816 2. Exceptional Handling .ipynb\n",
      "01/02/2023  11:06 AM            37,917 2.png\n",
      "01/02/2023  01:41 PM             4,521 3. Logging.ipynb\n",
      "01/02/2023  01:52 PM            99,812 3.jpg\n",
      "01/02/2023  06:27 PM             7,469 4. Module & Packages.ipynb\n",
      "01/02/2023  05:49 PM               264 my_module.py\n",
      "01/02/2023  07:12 PM    <DIR>          myownproject\n",
      "12/31/2022  02:39 PM    <DIR>          Python Advanced Assignments\n",
      "01/02/2023  12:07 PM               451 test.log\n",
      "01/01/2023  04:53 PM                20 test.txt\n",
      "01/01/2023  07:46 PM                22 test1.txt\n",
      "01/02/2023  01:05 PM             1,824 test2.log\n",
      "01/02/2023  04:28 PM               258 test2.py\n",
      "01/02/2023  01:39 PM             3,983 test3.log\n",
      "01/01/2023  07:59 PM                 0 test43.txt\n",
      "              15 File(s)     59,615,286 bytes\n",
      "               6 Dir(s)  100,415,148,032 bytes free\n"
     ]
    }
   ],
   "source": [
    "ls"
   ]
  },
  {
   "cell_type": "code",
   "execution_count": 21,
   "id": "13f6c589",
   "metadata": {},
   "outputs": [],
   "source": [
    "import os"
   ]
  },
  {
   "cell_type": "code",
   "execution_count": 22,
   "id": "7f169529",
   "metadata": {},
   "outputs": [
    {
     "data": {
      "text/plain": [
       "'D:\\\\CS\\\\iNeuron\\\\Advanced Python'"
      ]
     },
     "execution_count": 22,
     "metadata": {},
     "output_type": "execute_result"
    }
   ],
   "source": [
    "os.getcwd()"
   ]
  },
  {
   "cell_type": "code",
   "execution_count": null,
   "id": "147b620e",
   "metadata": {},
   "outputs": [],
   "source": []
  }
 ],
 "metadata": {
  "kernelspec": {
   "display_name": "Python 3 (ipykernel)",
   "language": "python",
   "name": "python3"
  },
  "language_info": {
   "codemirror_mode": {
    "name": "ipython",
    "version": 3
   },
   "file_extension": ".py",
   "mimetype": "text/x-python",
   "name": "python",
   "nbconvert_exporter": "python",
   "pygments_lexer": "ipython3",
   "version": "3.11.0"
  }
 },
 "nbformat": 4,
 "nbformat_minor": 5
}
