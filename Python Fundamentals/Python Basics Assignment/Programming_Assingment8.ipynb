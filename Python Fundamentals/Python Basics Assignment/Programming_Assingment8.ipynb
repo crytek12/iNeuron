{
 "cells": [
  {
   "cell_type": "markdown",
   "id": "fb6d1a26",
   "metadata": {},
   "source": [
    "# Programming_Assingment8"
   ]
  },
  {
   "cell_type": "markdown",
   "id": "d914b21d",
   "metadata": {},
   "source": [
    "1.\tWrite a Python Program to Add Two Matrices?"
   ]
  },
  {
   "cell_type": "code",
   "execution_count": 1,
   "id": "ff3a52e3",
   "metadata": {},
   "outputs": [
    {
     "name": "stdout",
     "output_type": "stream",
     "text": [
      "[11, 13, 15]\n",
      "[17, 19, 21]\n",
      "[23, 25, 27]\n"
     ]
    }
   ],
   "source": [
    "X = [[1, 2, 3],\n",
    "     [4, 5, 6],\n",
    "     [7, 8, 9]]\n",
    "\n",
    "Y = [[10, 11, 12],\n",
    "     [13, 14, 15],\n",
    "     [16, 17, 18]]\n",
    "\n",
    "result = [[0, 0, 0],\n",
    "          [0, 0, 0],\n",
    "          [0, 0, 0]]\n",
    "\n",
    "for i in range(3):\n",
    "    for j in range(3):\n",
    "        result[i][j] = X[i][j] + Y[i][j]\n",
    "\n",
    "for i in result:\n",
    "    print(i)"
   ]
  },
  {
   "cell_type": "markdown",
   "id": "e8277fe3",
   "metadata": {},
   "source": [
    "2.\tWrite a Python Program to Multiply Two Matrices?"
   ]
  },
  {
   "cell_type": "code",
   "execution_count": 2,
   "id": "22119ba3",
   "metadata": {},
   "outputs": [
    {
     "name": "stdout",
     "output_type": "stream",
     "text": [
      "[21, 24, 27]\n",
      "[47, 54, 61]\n"
     ]
    }
   ],
   "source": [
    "X = [[1, 2], \n",
    "     [3, 4]]\n",
    "\n",
    "Y = [[5, 6, 7], \n",
    "     [8, 9, 10]]\n",
    "\n",
    "result = [[0, 0, 0],\n",
    "          [0, 0, 0]]\n",
    "\n",
    "for i in range(2):\n",
    "    for j in range(3):\n",
    "        for k in range(2):\n",
    "            result[i][j] += X[i][k] * Y[k][j]\n",
    "\n",
    "for i in result:\n",
    "    print(i)"
   ]
  },
  {
   "cell_type": "markdown",
   "id": "450b3df9",
   "metadata": {},
   "source": [
    "3.\tWrite a Python Program to Transpose a Matrix?"
   ]
  },
  {
   "cell_type": "code",
   "execution_count": 3,
   "id": "ecb658fa",
   "metadata": {},
   "outputs": [
    {
     "name": "stdout",
     "output_type": "stream",
     "text": [
      "[1, 5, 9]\n",
      "[2, 6, 10]\n",
      "[3, 7, 11]\n",
      "[4, 8, 12]\n"
     ]
    }
   ],
   "source": [
    "A = [[1, 2, 3, 4],\n",
    "     [5, 6, 7, 8], \n",
    "     [9, 10, 11, 12]]\n",
    "\n",
    "result = [[0, 0, 0], \n",
    "          [0, 0, 0],\n",
    "          [0, 0, 0],\n",
    "          [0, 0, 0]]\n",
    "\n",
    "for i in range(4):\n",
    "    for j in range(3):\n",
    "        result[i][j] = A[j][i]\n",
    "\n",
    "for i in result:\n",
    "    print(i)"
   ]
  },
  {
   "cell_type": "markdown",
   "id": "83757638",
   "metadata": {},
   "source": [
    "4.\tWrite a Python Program to Sort Words in Alphabetic Order?"
   ]
  },
  {
   "cell_type": "code",
   "execution_count": 4,
   "id": "8732393a",
   "metadata": {},
   "outputs": [
    {
     "name": "stdout",
     "output_type": "stream",
     "text": [
      "Enter a string: Write a Python Program to Sort Words in Alphabetic Order\n",
      "The sorted words are:\n",
      "a\n",
      "alphabetic\n",
      "in\n",
      "order\n",
      "program\n",
      "python\n",
      "sort\n",
      "to\n",
      "words\n",
      "write\n"
     ]
    }
   ],
   "source": [
    "# To take input from the user\n",
    "my_str = input(\"Enter a string: \")\n",
    "\n",
    "# breakdown the string into a list of words\n",
    "words = [word.lower() for word in my_str.split()]\n",
    "\n",
    "# sort the list\n",
    "words.sort()\n",
    "\n",
    "# display the sorted words\n",
    "\n",
    "print(\"The sorted words are:\")\n",
    "for word in words:\n",
    "    print(word)"
   ]
  },
  {
   "cell_type": "markdown",
   "id": "73dbe73f",
   "metadata": {},
   "source": [
    "5.\tWrite a Python Program to Remove Punctuation From a String?"
   ]
  },
  {
   "cell_type": "code",
   "execution_count": 5,
   "id": "0f19d31f",
   "metadata": {},
   "outputs": [
    {
     "name": "stdout",
     "output_type": "stream",
     "text": [
      "Enter a string: Hey!!! How are you? He said --and went....\n",
      "Hey How are you He said and went\n"
     ]
    }
   ],
   "source": [
    "punctuations = '''!()-[]{};:'\"\\,<>./?@#$%^&*_~'''\n",
    "\n",
    "# To take input from the user\n",
    "my_str = input(\"Enter a string: \")\n",
    "\n",
    "# remove punctuation from the string\n",
    "no_punct = \"\"\n",
    "for char in my_str:\n",
    "    if char not in punctuations:\n",
    "        no_punct = no_punct + char\n",
    "\n",
    "# display the unpunctuated string\n",
    "print(no_punct)"
   ]
  },
  {
   "cell_type": "code",
   "execution_count": null,
   "id": "02334ed6",
   "metadata": {},
   "outputs": [],
   "source": []
  }
 ],
 "metadata": {
  "kernelspec": {
   "display_name": "ineuron",
   "language": "python",
   "name": "ineuron"
  },
  "language_info": {
   "codemirror_mode": {
    "name": "ipython",
    "version": 3
   },
   "file_extension": ".py",
   "mimetype": "text/x-python",
   "name": "python",
   "nbconvert_exporter": "python",
   "pygments_lexer": "ipython3",
   "version": "3.11.0"
  }
 },
 "nbformat": 4,
 "nbformat_minor": 5
}
