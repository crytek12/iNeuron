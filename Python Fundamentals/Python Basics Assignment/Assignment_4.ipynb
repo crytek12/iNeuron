{
 "cells": [
  {
   "cell_type": "markdown",
   "id": "8d42d9e6",
   "metadata": {},
   "source": [
    "# Assignment_4"
   ]
  },
  {
   "cell_type": "markdown",
   "id": "1cf34542",
   "metadata": {},
   "source": [
    "**Q1. What exactly is []?**"
   ]
  },
  {
   "cell_type": "markdown",
   "id": "25c61113",
   "metadata": {},
   "source": [
    "It's an empty list object, which means it contains no values"
   ]
  },
  {
   "cell_type": "markdown",
   "id": "e9d32ef9",
   "metadata": {},
   "source": [
    "**Q2. In a list of values stored in a variable called spam, how would you assign the value 'hello' as the third value? (Assume [2, 4, 6, 8, 10] are in spam.)**"
   ]
  },
  {
   "cell_type": "markdown",
   "id": "64d4619c",
   "metadata": {},
   "source": [
    "In two ways:\n",
    "1. spam.insert(2, 'hello')\n",
    "2. spam[2] = 'hello'"
   ]
  },
  {
   "cell_type": "markdown",
   "id": "e099573b",
   "metadata": {},
   "source": [
    "#### Let's pretend the spam includes the list ['a', 'b', 'c', 'd'] for the next three queries."
   ]
  },
  {
   "cell_type": "markdown",
   "id": "f7121e35",
   "metadata": {},
   "source": [
    "**Q3. What is the value of spam[int(int('3' * 2) / 11)]?**"
   ]
  },
  {
   "cell_type": "markdown",
   "id": "dc1de860",
   "metadata": {},
   "source": [
    "'d'"
   ]
  },
  {
   "cell_type": "markdown",
   "id": "5707bcce",
   "metadata": {},
   "source": [
    "**Q4. What is the value of spam[-1]?**"
   ]
  },
  {
   "cell_type": "markdown",
   "id": "42b24a4b",
   "metadata": {},
   "source": [
    "'d'"
   ]
  },
  {
   "cell_type": "markdown",
   "id": "d29084ce",
   "metadata": {},
   "source": [
    "**Q5. What is the value of spam[:2]?**"
   ]
  },
  {
   "cell_type": "markdown",
   "id": "b00f0ab0",
   "metadata": {},
   "source": [
    "['a', 'b']"
   ]
  },
  {
   "cell_type": "markdown",
   "id": "a26d465a",
   "metadata": {},
   "source": [
    "#### Let's pretend bacon has the list [3.14, 'cat', 11, 'cat', True] for the next three questions."
   ]
  },
  {
   "cell_type": "markdown",
   "id": "83698208",
   "metadata": {},
   "source": [
    "**Q6. What is the value of bacon.index('cat')?**"
   ]
  },
  {
   "cell_type": "markdown",
   "id": "1171f277",
   "metadata": {},
   "source": [
    "1"
   ]
  },
  {
   "cell_type": "markdown",
   "id": "357ebcf0",
   "metadata": {},
   "source": [
    "**Q7. How does bacon.append(99) change the look of the list value in bacon?**"
   ]
  },
  {
   "cell_type": "markdown",
   "id": "310f954e",
   "metadata": {},
   "source": [
    "[3.14, 'cat', 11, 'cat', True, 99] "
   ]
  },
  {
   "cell_type": "markdown",
   "id": "4283d749",
   "metadata": {},
   "source": [
    "**Q8. How does bacon.remove('cat') change the look of the list in bacon?**"
   ]
  },
  {
   "cell_type": "markdown",
   "id": "e21495e9",
   "metadata": {},
   "source": [
    "[3.14, 11, 'cat', True, 99] "
   ]
  },
  {
   "cell_type": "markdown",
   "id": "6e32311c",
   "metadata": {},
   "source": [
    "**Q9. What are the list concatenation and list replication operators?**"
   ]
  },
  {
   "cell_type": "markdown",
   "id": "91777a0d",
   "metadata": {},
   "source": [
    "The operator for list concatenation is +, while the operator for replication is *."
   ]
  },
  {
   "cell_type": "markdown",
   "id": "48baa434",
   "metadata": {},
   "source": [
    "**Q10. What is difference between the list methods append() and insert()?**"
   ]
  },
  {
   "cell_type": "markdown",
   "id": "974f86d6",
   "metadata": {},
   "source": [
    "While append() will add values only to the end of a list, insert() can add them anywhere in the list."
   ]
  },
  {
   "cell_type": "markdown",
   "id": "26a301b0",
   "metadata": {},
   "source": [
    "**Q11. What are the two methods for removing items from a list?**"
   ]
  },
  {
   "cell_type": "markdown",
   "id": "c93ddebe",
   "metadata": {},
   "source": [
    "The del statement and the remove() list method are two ways to remove values from a list."
   ]
  },
  {
   "cell_type": "markdown",
   "id": "e64399c4",
   "metadata": {},
   "source": [
    "**Q12. Describe how list values and string values are identical.**"
   ]
  },
  {
   "cell_type": "markdown",
   "id": "1f0d47c6",
   "metadata": {},
   "source": [
    "Both lists and strings can be passed to len(), have indexes and slices, be used in for loops, be concatenated or replicated, and be used with the in and not in operators."
   ]
  },
  {
   "cell_type": "markdown",
   "id": "3cef57e1",
   "metadata": {},
   "source": [
    "**Q13. What's the difference between tuples and lists?**"
   ]
  },
  {
   "cell_type": "markdown",
   "id": "a627c315",
   "metadata": {},
   "source": [
    "Lists are mutable; they can have values added, removed, or changed. Tuples are immutable; they cannot be changed at all. Also, tuples are written using parentheses, ( and ), while lists use the square brackets, [ and ]."
   ]
  },
  {
   "cell_type": "markdown",
   "id": "5e50cc00",
   "metadata": {},
   "source": [
    "**Q14. How do you type a tuple value that only contains the integer 42?**"
   ]
  },
  {
   "cell_type": "markdown",
   "id": "5c2af50f",
   "metadata": {},
   "source": [
    "(42,)"
   ]
  },
  {
   "cell_type": "markdown",
   "id": "fd34dae0",
   "metadata": {},
   "source": [
    "**Q15. How do you get a list value's tuple form? How do you get a tuple value's list form?**"
   ]
  },
  {
   "cell_type": "markdown",
   "id": "4f691d58",
   "metadata": {},
   "source": [
    "The tuple() and list() functions, respectively"
   ]
  },
  {
   "cell_type": "markdown",
   "id": "50c58bfb",
   "metadata": {},
   "source": [
    "**Q16. Variables that \"contain\" list values are not necessarily lists themselves. Instead, what do they contain?**"
   ]
  },
  {
   "cell_type": "markdown",
   "id": "013ba10d",
   "metadata": {},
   "source": [
    "They contain references to list values."
   ]
  },
  {
   "cell_type": "markdown",
   "id": "120b944e",
   "metadata": {},
   "source": [
    "**Q17. How do you distinguish between copy.copy() and copy.deepcopy()?**"
   ]
  },
  {
   "cell_type": "markdown",
   "id": "3c82e3e3",
   "metadata": {},
   "source": [
    "The copy.copy() function will do a shallow copy of a list, while the copy.deepcopy() function will do a deep copy of a list. That is, only copy.deepcopy() will duplicate any lists inside the list."
   ]
  }
 ],
 "metadata": {
  "kernelspec": {
   "display_name": "ineuron",
   "language": "python",
   "name": "ineuron"
  },
  "language_info": {
   "codemirror_mode": {
    "name": "ipython",
    "version": 3
   },
   "file_extension": ".py",
   "mimetype": "text/x-python",
   "name": "python",
   "nbconvert_exporter": "python",
   "pygments_lexer": "ipython3",
   "version": "3.11.0"
  }
 },
 "nbformat": 4,
 "nbformat_minor": 5
}
