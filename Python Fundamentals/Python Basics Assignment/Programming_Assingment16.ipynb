{
 "cells": [
  {
   "cell_type": "markdown",
   "id": "621b9a8b",
   "metadata": {},
   "source": [
    "# Programming_Assingment16"
   ]
  },
  {
   "cell_type": "markdown",
   "id": "ae126bc5",
   "metadata": {},
   "source": [
    "Question1. Write a function that stutters a word as if someone is struggling to read it. The first two letters are repeated twice with an ellipsis ... and space after each, and then the word is pronounced with a question mark ?.<br><br>\n",
    "Examples<br><br>\n",
    "stutter(\"incredible\") ➞ \"in... in... incredible?\"<br><br>\n",
    "\n",
    "stutter(\"enthusiastic\") ➞ \"en... en... enthusiastic?\"<br><br>\n",
    "\n",
    "stutter(\"outstanding\") ➞ \"ou... ou... outstanding?\"<br><br>\n",
    "\n",
    "Hint :- Assume all input is in lower case and at least two characters long."
   ]
  },
  {
   "cell_type": "code",
   "execution_count": 1,
   "id": "3499c5c6",
   "metadata": {},
   "outputs": [
    {
     "name": "stdout",
     "output_type": "stream",
     "text": [
      "in.. in.. incredible?\n",
      "en.. en.. enthusiastic?\n",
      "ou.. ou.. outstanding?\n"
     ]
    }
   ],
   "source": [
    "def stutter(word):\n",
    "    return f'{word[:2]}.. {word[:2]}.. {word}?'\n",
    "\n",
    "\n",
    "print(stutter('incredible'))\n",
    "print(stutter('enthusiastic'))\n",
    "print(stutter('outstanding'))"
   ]
  },
  {
   "cell_type": "markdown",
   "id": "b9a1f6ef",
   "metadata": {},
   "source": [
    "Question 2.Create a function that takes an angle in radians and returns the corresponding angle in degrees rounded to one decimal place.<br>\n",
    "Examples<br>\n",
    "radians_to_degrees(1) ➞ 57.3<br><br>\n",
    "\n",
    "radians_to_degrees(20) ➞ 1145.9<br><br>\n",
    "\n",
    "radians_to_degrees(50) ➞ 2864.8"
   ]
  },
  {
   "cell_type": "code",
   "execution_count": 7,
   "id": "f3df33c9",
   "metadata": {},
   "outputs": [
    {
     "name": "stdout",
     "output_type": "stream",
     "text": [
      "57.3\n",
      "1145.9\n",
      "2864.8\n"
     ]
    }
   ],
   "source": [
    "import math\n",
    "\n",
    "def radians_to_degrees(radians):\n",
    "    return f'{radians * 180 / math.pi:.1f}'\n",
    "\n",
    "\n",
    "print(radians_to_degrees(1))\n",
    "print(radians_to_degrees(20))\n",
    "print(radians_to_degrees(50))"
   ]
  },
  {
   "cell_type": "markdown",
   "id": "b95aed37",
   "metadata": {},
   "source": [
    "Question 3. In this challenge, establish if a given integer num is a Curzon number. If 1 plus 2 elevated to num is exactly divisible by 1 plus 2 multiplied by num, then num is a Curzon number.\n",
    "Given a non-negative integer num, implement a function that returns True if num is a Curzon number, or False otherwise.<br><br>\n",
    "Examples<br><br>\n",
    "is_curzon(5) ➞ True<br>\n",
    "2 ** 5 + 1 = 33<br>\n",
    "2 * 5 + 1 = 11<br>\n",
    "33 is a multiple of 11<br><br>\n",
    "\n",
    "is_curzon(10) ➞ False<br>\n",
    "2 ** 10 + 1 = 1025<br>\n",
    "2 * 10 + 1 = 21<br>\n",
    "1025 is not a multiple of 21<br><br>\n",
    "\n",
    "is_curzon(14) ➞ True<br>\n",
    "2 ** 14 + 1 = 16385<br>\n",
    "2 * 14 + 1 = 29<br>\n",
    "16385 is a multiple of 29"
   ]
  },
  {
   "cell_type": "code",
   "execution_count": 11,
   "id": "6241f5da",
   "metadata": {},
   "outputs": [
    {
     "name": "stdout",
     "output_type": "stream",
     "text": [
      "True\n",
      "False\n",
      "True\n"
     ]
    }
   ],
   "source": [
    "is_curzon = lambda n: (2**n + 1) %  (2*n + 1) == 0\n",
    "\n",
    "print(is_curzon(5))\n",
    "print(is_curzon(10))\n",
    "print(is_curzon(14))"
   ]
  },
  {
   "cell_type": "markdown",
   "id": "d35e3285",
   "metadata": {},
   "source": [
    "Question 4.Given the side length x find the area of a hexagon.<br><br>\n",
    "Examples<br><br>\n",
    "area_of_hexagon(1) ➞ 2.6<br><br>\n",
    "\n",
    "area_of_hexagon(2) ➞ 10.4<br><br>\n",
    "\n",
    "area_of_hexagon(3) ➞ 23.4"
   ]
  },
  {
   "cell_type": "code",
   "execution_count": 14,
   "id": "9a18b7d4",
   "metadata": {},
   "outputs": [
    {
     "name": "stdout",
     "output_type": "stream",
     "text": [
      "2.6\n",
      "10.4\n",
      "23.4\n"
     ]
    }
   ],
   "source": [
    "from math import sqrt\n",
    "\n",
    "area_of_hexagon = lambda x: round(3*sqrt(3)*x**2 / 2, 1)\n",
    "\n",
    "print(area_of_hexagon(1))\n",
    "print(area_of_hexagon(2))\n",
    "print(area_of_hexagon(3))"
   ]
  },
  {
   "cell_type": "markdown",
   "id": "d8bc7f7e",
   "metadata": {},
   "source": [
    "Question 5. Create a function that returns a base-2 (binary) representation of a base-10 (decimal) string number. To convert is simple: ((2) means base-2 and (10) means base-10) 010101001(2) = 1 + 8 + 32 + 128.<br>\n",
    "Going from right to left, the value of the most right bit is 1, now from that every bit to the left will be x2 the value, value of an 8 bit binary numbers are (256, 128, 64, 32, 16, 8, 4, 2, 1).<br><br>\n",
    "Examples<br><br>\n",
    "binary(1) ➞ \"1\"<br>\n",
    "1*1 = 1<br><br>\n",
    "\n",
    "binary(5) ➞ \"101\"<br>\n",
    "1*1 + 1*4 = 5<br><br>\n",
    "\n",
    "binary(10) ➞ \"1010\"<br>\n",
    "1*2 + 1*8 = 10"
   ]
  },
  {
   "cell_type": "code",
   "execution_count": 16,
   "id": "683487b4",
   "metadata": {},
   "outputs": [
    {
     "name": "stdout",
     "output_type": "stream",
     "text": [
      "1\n",
      "101\n",
      "1010\n"
     ]
    }
   ],
   "source": [
    "binary = lambda n: bin(n).replace(\"0b\", \"\")    \n",
    "\n",
    "print(binary(1))\n",
    "print(binary(5))\n",
    "print(binary(10))"
   ]
  },
  {
   "cell_type": "code",
   "execution_count": null,
   "id": "03b1edbe",
   "metadata": {},
   "outputs": [],
   "source": []
  }
 ],
 "metadata": {
  "kernelspec": {
   "display_name": "Python 3 (ipykernel)",
   "language": "python",
   "name": "python3"
  },
  "language_info": {
   "codemirror_mode": {
    "name": "ipython",
    "version": 3
   },
   "file_extension": ".py",
   "mimetype": "text/x-python",
   "name": "python",
   "nbconvert_exporter": "python",
   "pygments_lexer": "ipython3",
   "version": "3.11.0"
  }
 },
 "nbformat": 4,
 "nbformat_minor": 5
}
