{
 "cells": [
  {
   "cell_type": "markdown",
   "id": "5f41bd37",
   "metadata": {},
   "source": [
    "# Assignment_6"
   ]
  },
  {
   "cell_type": "markdown",
   "id": "8f9ee76c",
   "metadata": {},
   "source": [
    "**Q1. What are escape characters, and how do you use them?**"
   ]
  },
  {
   "cell_type": "markdown",
   "id": "1c8a610d",
   "metadata": {},
   "source": [
    "Escape characters represent characters in string values that would otherwise be difficult or impossible to type into code. The escape character allows yus to use double quotes when you normally would not be allowed."
   ]
  },
  {
   "cell_type": "markdown",
   "id": "e8ca2b5a",
   "metadata": {},
   "source": [
    "**Q2. What do the escape characters n and t stand for?**"
   ]
  },
  {
   "cell_type": "markdown",
   "id": "ae5d0ef1",
   "metadata": {},
   "source": [
    "he escape characters n and t stand for newline and tab respectively. \\n is a newline; \\t is a tab"
   ]
  },
  {
   "cell_type": "markdown",
   "id": "5e017c42",
   "metadata": {},
   "source": [
    "**Q3. What is the way to include backslash characters in a string?**"
   ]
  },
  {
   "cell_type": "markdown",
   "id": "1210b3f3",
   "metadata": {},
   "source": [
    "The \\ escape character will represent a backslash character."
   ]
  },
  {
   "cell_type": "markdown",
   "id": "60fa7917",
   "metadata": {},
   "source": [
    "**Q4. The string \"Howl's Moving Castle\" is a correct value. Why isn't the single quote character in the word Howl's not escaped a problem?**"
   ]
  },
  {
   "cell_type": "markdown",
   "id": "134bea56",
   "metadata": {},
   "source": [
    "The single quote in Howl's is fine because we have used double quotes to mark the beginning and end of the string.\n",
    "\n"
   ]
  },
  {
   "cell_type": "markdown",
   "id": "8f3d3e5e",
   "metadata": {},
   "source": [
    "**Q5. How do you write a string of newlines if you don't want to use the n character?**"
   ]
  },
  {
   "cell_type": "markdown",
   "id": "9bc2c8b6",
   "metadata": {},
   "source": [
    "Multiline strings allow us to use newlines in strings without the \\n escape character."
   ]
  },
  {
   "cell_type": "markdown",
   "id": "ec9c0762",
   "metadata": {},
   "source": [
    "**Q6. What are the values of the given expressions? <br>\n",
    "'Hello, world!'[1]<br>\n",
    "'Hello, world!'[0:5]<br>\n",
    "'Hello, world!'[:5]<br>\n",
    "'Hello, world!'[3:]**"
   ]
  },
  {
   "cell_type": "markdown",
   "id": "b4ffda17",
   "metadata": {},
   "source": [
    "'e'<br>\n",
    "'Hello'<br>\n",
    "'Hello'<br>\n",
    "'lo, world!'"
   ]
  },
  {
   "cell_type": "markdown",
   "id": "c07cbf12",
   "metadata": {},
   "source": [
    "**Q7. What are the values of the following expressions?<br>\n",
    "'Hello'.upper()<br>\n",
    "'Hello'.upper().isupper()<br>\n",
    "'Hello'.upper().lower()**"
   ]
  },
  {
   "cell_type": "markdown",
   "id": "0bd1e2c0",
   "metadata": {},
   "source": [
    "'HELLO'<br>\n",
    "True<br>\n",
    "'hello'"
   ]
  },
  {
   "cell_type": "markdown",
   "id": "0890dd86",
   "metadata": {},
   "source": [
    "**Q8. What are the values of the following expressions?<br>\n",
    "'Remember, remember, the fifth of July.'.split()<br>\n",
    "'-'.join('There can only one.'.split())**"
   ]
  },
  {
   "cell_type": "markdown",
   "id": "f86e6f32",
   "metadata": {},
   "source": [
    "['Remember,', 'remember,', 'the', 'fifth', 'of', 'July.']<br>\n",
    "'There-can-only-one.'"
   ]
  },
  {
   "cell_type": "markdown",
   "id": "293aa228",
   "metadata": {},
   "source": [
    "**Q9. What are the methods for right-justifying, left-justifying, and centering a string?**"
   ]
  },
  {
   "cell_type": "markdown",
   "id": "76744dd2",
   "metadata": {},
   "source": [
    "The rjust(), ljust(), and center() string methods, respectively are the methods for right-justifying, left-justifying, and centering a string"
   ]
  },
  {
   "cell_type": "markdown",
   "id": "798ab4c5",
   "metadata": {},
   "source": [
    "**Q10. What is the best way to remove whitespace characters from the start or end?**"
   ]
  },
  {
   "cell_type": "markdown",
   "id": "3809b990",
   "metadata": {},
   "source": [
    "The strip() method remove whitespace from the left and right ends of a string."
   ]
  }
 ],
 "metadata": {
  "kernelspec": {
   "display_name": "ineuron",
   "language": "python",
   "name": "ineuron"
  },
  "language_info": {
   "codemirror_mode": {
    "name": "ipython",
    "version": 3
   },
   "file_extension": ".py",
   "mimetype": "text/x-python",
   "name": "python",
   "nbconvert_exporter": "python",
   "pygments_lexer": "ipython3",
   "version": "3.11.0"
  }
 },
 "nbformat": 4,
 "nbformat_minor": 5
}
