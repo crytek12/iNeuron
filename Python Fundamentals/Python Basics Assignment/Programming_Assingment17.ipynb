{
 "cells": [
  {
   "cell_type": "markdown",
   "id": "cd1e4104",
   "metadata": {},
   "source": [
    "# Programming_Assingment17"
   ]
  },
  {
   "cell_type": "markdown",
   "id": "8e6898e2",
   "metadata": {},
   "source": [
    "Question1. Create a function that takes three arguments a, b, c and returns the sum of the numbers that are evenly divided by c from the range a, b inclusive. <br><br>\n",
    "Examples<br><br>\n",
    "evenly_divisible(1, 10, 20) ➞ 0<br>\n",
    "No number between 1 and 10 can be evenly divided by 20.<br><br>\n",
    "\n",
    "evenly_divisible(1, 10, 2) ➞ 30<br>\n",
    "2 + 4 + 6 + 8 + 10 = 30<br><br>\n",
    "\n",
    "evenly_divisible(1, 10, 3) ➞ 18<br>\n",
    "3 + 6 + 9 = 18"
   ]
  },
  {
   "cell_type": "code",
   "execution_count": 1,
   "id": "d46115a2",
   "metadata": {},
   "outputs": [
    {
     "name": "stdout",
     "output_type": "stream",
     "text": [
      "0\n",
      "30\n",
      "18\n"
     ]
    }
   ],
   "source": [
    "def evenly_divisible(a, b, c):\n",
    "    sum = 0\n",
    "    for i in range(a, b + 1):\n",
    "        if i % c == 0:\n",
    "            sum += i\n",
    "    return sum\n",
    "\n",
    "\n",
    "print(evenly_divisible(1, 10, 20))\n",
    "print(evenly_divisible(1, 10, 2))\n",
    "print(evenly_divisible(1, 10, 3))"
   ]
  },
  {
   "cell_type": "markdown",
   "id": "08511c51",
   "metadata": {},
   "source": [
    "Question2. Create a function that returns True if a given inequality expression is correct and False otherwise.<br><br>\n",
    "Examples<br><br>\n",
    "correct_signs(\"3 < 7 < 11\") ➞ True<br><br>\n",
    "\n",
    "correct_signs(\"13 > 44 > 33 > 1\") ➞ False<br><br>\n",
    "\n",
    "correct_signs(\"1 < 2 < 6 < 9 > 3\") ➞ True<br><br>"
   ]
  },
  {
   "cell_type": "code",
   "execution_count": 4,
   "id": "7678015f",
   "metadata": {},
   "outputs": [
    {
     "name": "stdout",
     "output_type": "stream",
     "text": [
      "True\n",
      "False\n",
      "True\n"
     ]
    }
   ],
   "source": [
    "correct_signs = lambda x: eval(x)\n",
    "\n",
    "print(correct_signs(\"3 < 7 < 11\"))\n",
    "print(correct_signs(\"13 > 44 > 33 > 1\"))\n",
    "print(correct_signs('1 < 2 < 6 < 9 > 3'))"
   ]
  },
  {
   "cell_type": "markdown",
   "id": "ac45edc8",
   "metadata": {},
   "source": [
    "Question3. Create a function that replaces all the vowels in a string with a specified character.<br><br>\n",
    "Examples<br><br>\n",
    "replace_vowels(\"the aardvark\", \"#\") ➞ \"th# ##rdv#rk\"<br><br>\n",
    "\n",
    "replace_vowels(\"minnie mouse\", \"?\") ➞ \"m?nn?? m??s?\"<br><br>\n",
    "\n",
    "replace_vowels(\"shakespeare\", \"*\") ➞ \"sh*k*sp**r*\""
   ]
  },
  {
   "cell_type": "code",
   "execution_count": 6,
   "id": "5f9da308",
   "metadata": {},
   "outputs": [
    {
     "name": "stdout",
     "output_type": "stream",
     "text": [
      "th# ##rdv#rk\n",
      "m?nn?? m??s?\n",
      "sh*k*sp**r*\n"
     ]
    }
   ],
   "source": [
    "import re\n",
    "\n",
    "replace_vowels = lambda s, c: re.sub('a|e|i|o|u', c, s)\n",
    "\n",
    "print(replace_vowels('the aardvark', '#'))\n",
    "print(replace_vowels(\"minnie mouse\", \"?\"))\n",
    "print(replace_vowels(\"shakespeare\", \"*\"))"
   ]
  },
  {
   "cell_type": "markdown",
   "id": "b880fa85",
   "metadata": {},
   "source": [
    "Question4. Write a function that calculates the factorial of a number recursively.<br><br>\n",
    "Examples<br><br>\n",
    "factorial(5) ➞ 120<br><br>\n",
    "\n",
    "factorial(3) ➞ 6<br><br>\n",
    "\n",
    "factorial(1) ➞ 1<br><br>\n",
    "\n",
    "factorial(0) ➞ 1"
   ]
  },
  {
   "cell_type": "code",
   "execution_count": 8,
   "id": "fdbf8a3a",
   "metadata": {},
   "outputs": [
    {
     "name": "stdout",
     "output_type": "stream",
     "text": [
      "120\n",
      "6\n",
      "1\n",
      "1\n"
     ]
    }
   ],
   "source": [
    "def factorial(n):\n",
    "    if n == 0:\n",
    "        return 1\n",
    "    else:\n",
    "        return n * factorial(n - 1)\n",
    "    \n",
    "    \n",
    "print(factorial(5))\n",
    "print(factorial(3))\n",
    "print(factorial(1))\n",
    "print(factorial(0))"
   ]
  },
  {
   "cell_type": "markdown",
   "id": "553b5bd1",
   "metadata": {},
   "source": [
    "Question 5\n",
    "Hamming distance is the number of characters that differ between two strings.<br>\n",
    "To illustrate:<br>\n",
    "String1: \"abcbba\"<br>\n",
    "String2: \"abcbda\"<br><br>\n",
    "\n",
    "Hamming Distance: 1 - \"b\" vs. \"d\" is the only difference.<br>\n",
    "Create a function that computes the hamming distance between two strings.<br><br>\n",
    "Examples<br><br>\n",
    "hamming_distance(\"abcde\", \"bcdef\") ➞ 5<br><br>\n",
    "\n",
    "hamming_distance(\"abcde\", \"abcde\") ➞ 0<br><br>\n",
    "\n",
    "hamming_distance(\"strong\", \"strung\") ➞ 1<br><br>"
   ]
  },
  {
   "cell_type": "code",
   "execution_count": 1,
   "id": "a5659fc0",
   "metadata": {},
   "outputs": [
    {
     "name": "stdout",
     "output_type": "stream",
     "text": [
      "5\n",
      "0\n",
      "1\n"
     ]
    }
   ],
   "source": [
    "def hamming_distance(a, b):\n",
    "    diff = 0\n",
    "    for i in range(len(a)):\n",
    "        if a[i] != b[i]:\n",
    "            diff += 1\n",
    "    return diff\n",
    "\n",
    "\n",
    "print(hamming_distance('abcde', 'bcdef'))\n",
    "print(hamming_distance('abcde', 'abcde'))\n",
    "print(hamming_distance('strong', 'strung'))"
   ]
  },
  {
   "cell_type": "markdown",
   "id": "2463192d",
   "metadata": {},
   "source": []
  }
 ],
 "metadata": {
  "kernelspec": {
   "display_name": "Python 3 (ipykernel)",
   "language": "python",
   "name": "python3"
  },
  "language_info": {
   "codemirror_mode": {
    "name": "ipython",
    "version": 3
   },
   "file_extension": ".py",
   "mimetype": "text/x-python",
   "name": "python",
   "nbconvert_exporter": "python",
   "pygments_lexer": "ipython3",
   "version": "3.11.0"
  }
 },
 "nbformat": 4,
 "nbformat_minor": 5
}
