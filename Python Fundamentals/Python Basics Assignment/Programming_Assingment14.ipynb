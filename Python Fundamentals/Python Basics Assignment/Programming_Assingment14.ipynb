{
 "cells": [
  {
   "cell_type": "markdown",
   "id": "63a6f696",
   "metadata": {},
   "source": [
    "# Programming_Assingment14"
   ]
  },
  {
   "cell_type": "markdown",
   "id": "9eb388ce",
   "metadata": {},
   "source": [
    "**Question 1:**\n",
    "\n",
    "Define a class with a generator which can iterate the numbers, which are divisible by 7, between a given range 0 and n.\n"
   ]
  },
  {
   "cell_type": "code",
   "execution_count": 3,
   "id": "075d6609",
   "metadata": {},
   "outputs": [
    {
     "name": "stdout",
     "output_type": "stream",
     "text": [
      "0\n",
      "7\n",
      "14\n",
      "21\n",
      "28\n",
      "35\n",
      "42\n",
      "49\n",
      "56\n",
      "63\n",
      "70\n",
      "77\n",
      "84\n",
      "91\n",
      "98\n",
      "105\n",
      "112\n",
      "119\n",
      "126\n",
      "133\n",
      "140\n",
      "147\n",
      "154\n",
      "161\n",
      "168\n",
      "175\n",
      "182\n",
      "189\n",
      "196\n",
      "203\n",
      "210\n",
      "217\n",
      "224\n",
      "231\n",
      "238\n",
      "245\n",
      "252\n",
      "259\n",
      "266\n",
      "273\n",
      "280\n",
      "287\n",
      "294\n",
      "301\n",
      "308\n",
      "315\n",
      "322\n",
      "329\n",
      "336\n",
      "343\n",
      "350\n",
      "357\n",
      "364\n",
      "371\n",
      "378\n",
      "385\n",
      "392\n",
      "399\n",
      "406\n",
      "413\n",
      "420\n",
      "427\n",
      "434\n",
      "441\n",
      "448\n",
      "455\n",
      "462\n",
      "469\n",
      "476\n",
      "483\n",
      "490\n",
      "497\n",
      "504\n",
      "511\n",
      "518\n",
      "525\n",
      "532\n",
      "539\n",
      "546\n",
      "553\n",
      "560\n",
      "567\n",
      "574\n",
      "581\n",
      "588\n",
      "595\n",
      "602\n",
      "609\n",
      "616\n",
      "623\n",
      "630\n",
      "637\n",
      "644\n",
      "651\n",
      "658\n",
      "665\n",
      "672\n",
      "679\n",
      "686\n",
      "693\n",
      "700\n",
      "707\n",
      "714\n",
      "721\n",
      "728\n",
      "735\n",
      "742\n",
      "749\n",
      "756\n",
      "763\n",
      "770\n",
      "777\n",
      "784\n",
      "791\n",
      "798\n",
      "805\n",
      "812\n",
      "819\n",
      "826\n",
      "833\n",
      "840\n",
      "847\n",
      "854\n",
      "861\n",
      "868\n",
      "875\n",
      "882\n",
      "889\n",
      "896\n",
      "903\n",
      "910\n",
      "917\n",
      "924\n",
      "931\n",
      "938\n",
      "945\n",
      "952\n",
      "959\n",
      "966\n",
      "973\n",
      "980\n",
      "987\n",
      "994\n"
     ]
    }
   ],
   "source": [
    "class Generator:\n",
    "    def __init__(self, n):\n",
    "        self.n = n\n",
    "        \n",
    "    def generate(self):\n",
    "        for i in range(self.n):\n",
    "            if i % 7 == 0:\n",
    "                yield i\n",
    "                \n",
    "\n",
    "a = Generator(1000)\n",
    "\n",
    "for i in a.generate():\n",
    "    print(i)"
   ]
  },
  {
   "cell_type": "markdown",
   "id": "cd10305d",
   "metadata": {},
   "source": [
    "**Question 2:**\n",
    "Write a program to compute the frequency of the words from the input. The output should output after sorting the key alphanumerically. \n",
    "\n",
    "Suppose the following input is supplied to the program:\n",
    "\n",
    "New to Python or choosing between Python 2 and Python 3? Read Python 2 or Python 3.\n",
    "\n",
    "Then, the output should be:\n",
    "\n",
    "2:2\n",
    "\n",
    "3.:1\n",
    "\n",
    "3?:1\n",
    "\n",
    "New:1\n",
    "\n",
    "Python:5\n",
    "\n",
    "Read:1\n",
    "\n",
    "and:1\n",
    "\n",
    "between:1\n",
    "\n",
    "choosing:1\n",
    "\n",
    "or:2\n",
    "\n",
    "to:1\n"
   ]
  },
  {
   "cell_type": "code",
   "execution_count": 5,
   "id": "99a1c851",
   "metadata": {},
   "outputs": [
    {
     "name": "stdout",
     "output_type": "stream",
     "text": [
      "Enter input: New to Python or choosing between Python 2 and Python 3? Read Python 2 or Python 3.\n",
      "2:2\n",
      "3.:1\n",
      "3?:1\n",
      "New:1\n",
      "Python:5\n",
      "Read:1\n",
      "and:1\n",
      "between:1\n",
      "choosing:1\n",
      "or:2\n",
      "to:1\n"
     ]
    }
   ],
   "source": [
    "d = {}\n",
    "s = input('Enter input: ')\n",
    "\n",
    "for i in s.split():\n",
    "    if i in d:\n",
    "        d[i] += 1\n",
    "    else:\n",
    "        d[i] = 1\n",
    "\n",
    "for i in sorted(d):\n",
    "    print(f'{i}:{d[i]}')"
   ]
  },
  {
   "cell_type": "markdown",
   "id": "84a41af8",
   "metadata": {},
   "source": [
    "**Question 3:**\n",
    "\n",
    "\n",
    "\n",
    "Define a class Person and its two child classes: Male and Female. All classes have a method \"getGender\" which can print \"Male\" for Male class and \"Female\" for Female class.\n"
   ]
  },
  {
   "cell_type": "code",
   "execution_count": 7,
   "id": "da0f6543",
   "metadata": {},
   "outputs": [
    {
     "name": "stdout",
     "output_type": "stream",
     "text": [
      "Male\n",
      "Female\n"
     ]
    }
   ],
   "source": [
    "class Person:\n",
    "    def getGender(self):\n",
    "        print('Get gender')\n",
    "\n",
    "\n",
    "class Male(Person):\n",
    "    def getGender(self):\n",
    "        print('Male')\n",
    "\n",
    "\n",
    "class Female(Person):\n",
    "    def getGender(self):\n",
    "        print('Female')\n",
    "        \n",
    "        \n",
    "m = Male()\n",
    "f = Female()\n",
    "\n",
    "m.getGender()\n",
    "f.getGender()"
   ]
  },
  {
   "cell_type": "markdown",
   "id": "ae9549e5",
   "metadata": {},
   "source": [
    "**Question 4:**<br>\n",
    "Please write a program to generate all sentences where subject is in [\"I\", \"You\"] and verb is in [\"Play\", \"Love\"] and the object is in [\"Hockey\",\"Football\"].\n"
   ]
  },
  {
   "cell_type": "code",
   "execution_count": 8,
   "id": "6d06e600",
   "metadata": {},
   "outputs": [
    {
     "name": "stdout",
     "output_type": "stream",
     "text": [
      "I Play Hockey.\n",
      "I Play Football.\n",
      "I Love Hockey.\n",
      "I Love Football.\n",
      "You Play Hockey.\n",
      "You Play Football.\n",
      "You Love Hockey.\n",
      "You Love Football.\n"
     ]
    }
   ],
   "source": [
    "subjects = [\"I\", \"You\"]\n",
    "verbs = [\"Play\", \"Love\"]\n",
    "objects = [\"Hockey\", \"Football\"]\n",
    "\n",
    "for subj in subjects:\n",
    "    for verb in verbs:\n",
    "        for obj in objects:\n",
    "            print(f\"{subj} {verb} {obj}.\")"
   ]
  },
  {
   "cell_type": "markdown",
   "id": "be66fdb7",
   "metadata": {},
   "source": [
    "**Question 5:**<br>\n",
    "Please write a program to compress and decompress the string \"hello world!hello world!hello world!hello world!\".\n"
   ]
  },
  {
   "cell_type": "code",
   "execution_count": 9,
   "id": "18b663b5",
   "metadata": {},
   "outputs": [
    {
     "name": "stdout",
     "output_type": "stream",
     "text": [
      "Original string: hello world!hello world!hello world!hello world!\n",
      "Compressed string: b'x\\x9c\\xcbH\\xcd\\xc9\\xc9W(\\xcf/\\xcaIQ\\xcc \\x82\\r\\x00\\xbd[\\x11\\xf5'\n",
      "Decompressed string: hello world!hello world!hello world!hello world!\n"
     ]
    }
   ],
   "source": [
    "import zlib\n",
    "\n",
    "# The string to compress\n",
    "original_string = \"hello world!hello world!hello world!hello world!\"\n",
    "\n",
    "# Compress the string\n",
    "compressed_string = zlib.compress(original_string.encode())\n",
    "\n",
    "# Decompress the string\n",
    "decompressed_string = zlib.decompress(compressed_string).decode()\n",
    "\n",
    "print(\"Original string:\", original_string)\n",
    "print(\"Compressed string:\", compressed_string)\n",
    "print(\"Decompressed string:\", decompressed_string)"
   ]
  },
  {
   "cell_type": "markdown",
   "id": "87d01d54",
   "metadata": {},
   "source": [
    "**Question 6:**<br>\n",
    "Please write a binary search function which searches an item in a sorted list. The function should return the index of element to be searched in the list.\n"
   ]
  },
  {
   "cell_type": "code",
   "execution_count": 10,
   "id": "25d36410",
   "metadata": {},
   "outputs": [
    {
     "name": "stdout",
     "output_type": "stream",
     "text": [
      "Element is present at index 3\n"
     ]
    }
   ],
   "source": [
    "def binary_search(arr, x):\n",
    "    low = 0\n",
    "    high = len(arr) - 1\n",
    "    mid = 0\n",
    "\n",
    "    while low <= high:\n",
    "        mid = (high + low) // 2\n",
    "        if arr[mid] < x:\n",
    "            low = mid + 1\n",
    "        elif arr[mid] > x:\n",
    "            high = mid - 1\n",
    "        else:\n",
    "            return mid\n",
    "\n",
    "    return -1\n",
    "\n",
    "\n",
    "arr = [1, 3, 4, 6, 7, 8, 10]\n",
    "x = 6\n",
    "\n",
    "result = binary_search(arr, x)\n",
    "\n",
    "if result != -1:\n",
    "    print(f\"Element is present at index {result}\")\n",
    "else:\n",
    "    print(\"Element is not present in array\")"
   ]
  },
  {
   "cell_type": "code",
   "execution_count": null,
   "id": "b7d14094",
   "metadata": {},
   "outputs": [],
   "source": []
  }
 ],
 "metadata": {
  "kernelspec": {
   "display_name": "Python 3 (ipykernel)",
   "language": "python",
   "name": "python3"
  },
  "language_info": {
   "codemirror_mode": {
    "name": "ipython",
    "version": 3
   },
   "file_extension": ".py",
   "mimetype": "text/x-python",
   "name": "python",
   "nbconvert_exporter": "python",
   "pygments_lexer": "ipython3",
   "version": "3.11.0"
  }
 },
 "nbformat": 4,
 "nbformat_minor": 5
}
