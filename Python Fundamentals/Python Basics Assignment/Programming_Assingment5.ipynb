{
 "cells": [
  {
   "cell_type": "markdown",
   "id": "8f41b69e-aa9e-40d0-b87a-fd162db9a815",
   "metadata": {},
   "source": [
    "# Programming_Assingment5"
   ]
  },
  {
   "cell_type": "markdown",
   "id": "6eb3fec4-34e0-4ebb-95a7-7cb4e740a768",
   "metadata": {},
   "source": [
    "1.\tWrite a Python Program to Find LCM?"
   ]
  },
  {
   "cell_type": "code",
   "execution_count": 1,
   "id": "2f759313-9de6-4063-827b-d65f03f6b310",
   "metadata": {},
   "outputs": [
    {
     "name": "stdin",
     "output_type": "stream",
     "text": [
      "Enter the first number:  12\n",
      "Enter the second number:  7\n"
     ]
    },
    {
     "name": "stdout",
     "output_type": "stream",
     "text": [
      "LCM is 84\n"
     ]
    }
   ],
   "source": [
    "# Take the two numbers as user input\n",
    "num1 = int(input('Enter the first number: '))\n",
    "num2 = int(input('Enter the second number: '))\n",
    "\n",
    "# Computing the LCM\n",
    "counter = 2\n",
    "high = max(num1, num2)\n",
    "low = min(num1, num2)\n",
    "while True:\n",
    "    if high % num1 == 0 and high % num2 == 0:\n",
    "        lcm = high\n",
    "        break\n",
    "    high += 1\n",
    "print('LCM is', lcm)"
   ]
  },
  {
   "cell_type": "markdown",
   "id": "baafabe9-7b0c-47ca-b40a-f88042736311",
   "metadata": {},
   "source": [
    "2.\tWrite a Python Program to Find HCF?"
   ]
  },
  {
   "cell_type": "code",
   "execution_count": 2,
   "id": "1cb1fb97-1b50-402b-8831-a614b2c5c77e",
   "metadata": {},
   "outputs": [
    {
     "name": "stdin",
     "output_type": "stream",
     "text": [
      "Enter the first number:  60\n",
      "Enter the second number:  90\n"
     ]
    },
    {
     "name": "stdout",
     "output_type": "stream",
     "text": [
      "HCF is 30\n"
     ]
    }
   ],
   "source": [
    "# Take the two numbers as user input\n",
    "num1 = int(input('Enter the first number: '))\n",
    "num2 = int(input('Enter the second number: '))\n",
    "\n",
    "# Computing the HCF\n",
    "high = max(num1, num2)\n",
    "low = min(num1, num2)\n",
    "for i in range(1, low + 1):\n",
    "    if num1 % i == 0 and num2 % i == 0:\n",
    "        hcf = i\n",
    "print('HCF is', hcf)"
   ]
  },
  {
   "cell_type": "markdown",
   "id": "4c745099-625e-4b4c-8945-b75cd41e6629",
   "metadata": {},
   "source": [
    "3.\tWrite a Python Program to Convert Decimal to Binary, Octal and Hexadecimal?"
   ]
  },
  {
   "cell_type": "code",
   "execution_count": 3,
   "id": "f74d0730-de59-410a-af6d-f5f995fe0562",
   "metadata": {},
   "outputs": [
    {
     "name": "stdin",
     "output_type": "stream",
     "text": [
      "Enter the decimal number:  5386\n"
     ]
    },
    {
     "name": "stdout",
     "output_type": "stream",
     "text": [
      "5386 in Binary: 1010100001010\n",
      "5386 in Octal: 12412\n",
      "5386 in Hexadecimal: 150A\n"
     ]
    }
   ],
   "source": [
    "# Take decimal number as user input\n",
    "n = int(input('Enter the decimal number: '))\n",
    "n1 = n2 = n3 = n\n",
    "binary = ''\n",
    "octal = ''\n",
    "hexa = ''\n",
    "table = {0: '0', 1: '1', 2: '2', 3: '3', 4: '4',\n",
    "         5: '5', 6: '6', 7: '7',\n",
    "         8: '8', 9: '9', 10: 'A', 11: 'B', 12: 'C',\n",
    "         13: 'D', 14: 'E', 15: 'F'}\n",
    "\n",
    "# Converting Decimal to Binary\n",
    "while n1 // 2 != 0:\n",
    "    binary += str(n1 % 2)\n",
    "    n1 = n1 // 2\n",
    "binary += str(n1)\n",
    "print(f'{n} in Binary: {binary[::-1]}')\n",
    "\n",
    "# Converting Decimal to Octal\n",
    "while n2 // 8 != 0:\n",
    "    octal += str(n2 % 8)\n",
    "    n2 = n2 // 8\n",
    "octal += str(n2)\n",
    "print(f'{n} in Octal: {octal[::-1]}')\n",
    "\n",
    "# Converting Decimal to Hexadecimal\n",
    "if n3 < 16:\n",
    "    print(f'{n} in Hexadecimal: {n3}')\n",
    "else:\n",
    "    while n3 // 16 != 0:\n",
    "        hexa += str(table[n3 % 16])\n",
    "        n3 = n3 // 16\n",
    "    hexa += str(n3)\n",
    "    print(f'{n} in Hexadecimal: {hexa[::-1]}')"
   ]
  },
  {
   "cell_type": "markdown",
   "id": "a6af3e25-dbd6-4dac-b13b-dd9a6ccb11b4",
   "metadata": {},
   "source": [
    "4.\tWrite a Python Program To Find ASCII value of a character?"
   ]
  },
  {
   "cell_type": "code",
   "execution_count": 4,
   "id": "16e6073e-0d2b-4030-8abf-1a4d4970d568",
   "metadata": {},
   "outputs": [
    {
     "name": "stdin",
     "output_type": "stream",
     "text": [
      "Enter the character:  P\n"
     ]
    },
    {
     "name": "stdout",
     "output_type": "stream",
     "text": [
      "ASCII value of P is: 80\n"
     ]
    }
   ],
   "source": [
    "char = input('Enter the character: ')\n",
    "print(f'ASCII value of {char} is: {ord(char)}')"
   ]
  },
  {
   "cell_type": "markdown",
   "id": "34e4eeb8-c2fe-4105-83d3-a0a49eae0a06",
   "metadata": {},
   "source": [
    "5.\tWrite a Python Program to Make a Simple Calculator with 4 basic mathematical operations?"
   ]
  },
  {
   "cell_type": "code",
   "execution_count": 5,
   "id": "ff0f3b9e-c921-4eb2-9838-6a4e6f6a7731",
   "metadata": {},
   "outputs": [
    {
     "name": "stdout",
     "output_type": "stream",
     "text": [
      "Select operation.\n",
      "1.Add\n",
      "2.Subtract\n",
      "3.Multiply\n",
      "4.Divide\n"
     ]
    },
    {
     "name": "stdin",
     "output_type": "stream",
     "text": [
      "Enter choice(1/2/3/4):  3\n",
      "Enter first number:  15\n",
      "Enter second number:  14\n"
     ]
    },
    {
     "name": "stdout",
     "output_type": "stream",
     "text": [
      "15.0 * 14.0 = 210.0\n"
     ]
    },
    {
     "name": "stdin",
     "output_type": "stream",
     "text": [
      "Let's do next calculation? (yes/no):  yes\n",
      "Enter choice(1/2/3/4):  1\n",
      "Enter first number:  24\n",
      "Enter second number:  67.98\n"
     ]
    },
    {
     "name": "stdout",
     "output_type": "stream",
     "text": [
      "24.0 + 67.98 = 91.98\n"
     ]
    },
    {
     "name": "stdin",
     "output_type": "stream",
     "text": [
      "Let's do next calculation? (yes/no):  no\n"
     ]
    }
   ],
   "source": [
    "print(\"Select operation.\")\n",
    "print(\"1.Add\")\n",
    "print(\"2.Subtract\")\n",
    "print(\"3.Multiply\")\n",
    "print(\"4.Divide\")\n",
    "\n",
    "while True:\n",
    "    # Take input from the user\n",
    "    choice = input(\"Enter choice(1/2/3/4): \")\n",
    "    \n",
    "    num1 = float(input(\"Enter first number: \"))\n",
    "    num2 = float(input(\"Enter second number: \"))\n",
    "\n",
    "    match choice:\n",
    "        case '1':\n",
    "            print(f'{num1} + {num2} = {num1 + num2}')\n",
    "        case '2':\n",
    "            print(f'{num1} - {num2} = {num1 - num2}')\n",
    "        case '3':\n",
    "            print(f'{num1} * {num2} = {num1 * num2}')\n",
    "        case '4':\n",
    "            print(f'{num1} / {num2} = {num1 / num2}')\n",
    "        case _:\n",
    "            print('Invalid input')\n",
    "\n",
    "    # Check if user wants another calculation\n",
    "    next_calculation = input(\"Let's do next calculation? (yes/no): \")\n",
    "    if next_calculation == \"no\":\n",
    "      break"
   ]
  },
  {
   "cell_type": "code",
   "execution_count": null,
   "id": "99239482-ac47-4cc5-a578-09b765687836",
   "metadata": {},
   "outputs": [],
   "source": []
  }
 ],
 "metadata": {
  "kernelspec": {
   "display_name": "Python 3 (ipykernel)",
   "language": "python",
   "name": "python3"
  },
  "language_info": {
   "codemirror_mode": {
    "name": "ipython",
    "version": 3
   },
   "file_extension": ".py",
   "mimetype": "text/x-python",
   "name": "python",
   "nbconvert_exporter": "python",
   "pygments_lexer": "ipython3",
   "version": "3.10.6"
  }
 },
 "nbformat": 4,
 "nbformat_minor": 5
}
