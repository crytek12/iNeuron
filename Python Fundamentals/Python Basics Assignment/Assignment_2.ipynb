{
 "cells": [
  {
   "cell_type": "markdown",
   "id": "01a8f5c3",
   "metadata": {},
   "source": [
    "# Assignment_2"
   ]
  },
  {
   "cell_type": "markdown",
   "id": "2875c704",
   "metadata": {},
   "source": [
    "**Q1. What are the two values of the Boolean data type? How do you write them?**"
   ]
  },
  {
   "cell_type": "markdown",
   "id": "a32f8de5",
   "metadata": {},
   "source": [
    "1. True <br>\n",
    "2. False"
   ]
  },
  {
   "cell_type": "markdown",
   "id": "4b9b2b75",
   "metadata": {},
   "source": [
    "**Q2. What are the three different types of Boolean operators?**"
   ]
  },
  {
   "cell_type": "markdown",
   "id": "8fda2716",
   "metadata": {},
   "source": [
    "1. and <br>\n",
    "2. or <br>\n",
    "3. not"
   ]
  },
  {
   "cell_type": "markdown",
   "id": "8cd0896d",
   "metadata": {},
   "source": [
    "**Q3. Make a list of each Boolean operator's truth tables (i.e. every possible combination of Boolean    values for the operator and what it evaluate).**"
   ]
  },
  {
   "cell_type": "markdown",
   "id": "689c6b64",
   "metadata": {},
   "source": [
    "|  **A**  |  **B**  |**A and B**  |  **A or B** |\n",
    "|---------|---------|-------------|-------------|\n",
    "|  True   |  True   |     True    |    True     |\n",
    "|  False  |  True   |     False   |    True     |\n",
    "|  True   |  False  |     False   |    True     |\n",
    "|  False  |  False  |     False   |    False    | <br>\n",
    "\n",
    "<br>\n",
    "\n",
    "|  **A**  | **not A** |\n",
    "|---------|-----------|\n",
    "|  True   |    False  |\n",
    "|  False  |    True   |"
   ]
  },
  {
   "cell_type": "markdown",
   "id": "504f27d0",
   "metadata": {},
   "source": [
    "**Q4. What are the values of the following expressions?**"
   ]
  },
  {
   "cell_type": "markdown",
   "id": "e425221b",
   "metadata": {},
   "source": [
    "1. (5 > 4) and (3 == 5) &rarr;  False\n",
    "2. not (5 > 4) &rarr; False\n",
    "3. (5 > 4) or (3 == 5) &rarr; True\n",
    "4. not ((5 > 4) or (3 == 5)) &rarr; False\n",
    "5. (True and True) and (True == False) &rarr; False\n",
    "6. (not False) or (not True) &rarr; True\n"
   ]
  },
  {
   "cell_type": "markdown",
   "id": "201299e5",
   "metadata": {},
   "source": [
    "**Q5. What are the six comparison operators?**"
   ]
  },
  {
   "cell_type": "markdown",
   "id": "149731be",
   "metadata": {},
   "source": [
    "<, >, <=, >=, ==, !="
   ]
  },
  {
   "cell_type": "markdown",
   "id": "7b7520b7",
   "metadata": {},
   "source": [
    "**Q6. How do you tell the difference between the equal to and assignment operators? Describe a condition and when you would use one.**"
   ]
  },
  {
   "cell_type": "markdown",
   "id": "c6a7142c",
   "metadata": {},
   "source": [
    "Equal to (==) opearator, which has two equals to symbol is used in checking the equality of two operands provided. This is unlike in math, where we use single equals to (=) check the equality. \n",
    "\n",
    "<br>\n",
    "\n",
    "Assignment operator (=) is applied to assign values from the right side of the operator to the value on the left side.\n",
    "\n",
    "<br>\n",
    "\n",
    "Examples: <br>\n",
    "4 == 5 &rarr; False (Here == is used since using = makes no sense) <br>\n",
    "x = 4 (Here = is used to assign 4 to the variable (placeholder) x. We can't use == here as we are <br> &emsp;&emsp;&ensp; looking for assignment and not comparison) "
   ]
  },
  {
   "cell_type": "markdown",
   "id": "876b9f1c",
   "metadata": {},
   "source": [
    "**Q7. Identify the three blocks in this code: <br>\n",
    "&emsp;&emsp;&ensp;spam = 0 <br>\n",
    "&emsp;&emsp;&ensp;if spam == 10: <br>\n",
    "&emsp;&emsp;&ensp;&emsp;print('eggs') <br>\n",
    "&emsp;&emsp;&ensp;if spam > 5: <br>\n",
    "&emsp;&emsp;&ensp;&emsp;print('bacon') <br>\n",
    "&emsp;&emsp;&ensp;else: <br>\n",
    "&emsp;&emsp;&ensp;&emsp;print('ham') <br>\n",
    "&emsp;&emsp;&ensp;&emsp;print('spam') <br>\n",
    "&emsp;&emsp;&ensp;&emsp;print('spam')** <br>"
   ]
  },
  {
   "cell_type": "markdown",
   "id": "d2d209c7",
   "metadata": {},
   "source": [
    "The three blocks in the code are <br>\n",
    "1. If block\n",
    "2. If block\n",
    "3. Else block"
   ]
  },
  {
   "cell_type": "markdown",
   "id": "5e8cc072",
   "metadata": {},
   "source": [
    "**Q8. Write code that prints Hello if 1 is stored in spam, prints Howdy if 2 is stored in spam, and prints Greetings! if anything else is stored in spam.**"
   ]
  },
  {
   "cell_type": "code",
   "execution_count": 3,
   "id": "7bcf2a07",
   "metadata": {},
   "outputs": [
    {
     "name": "stdout",
     "output_type": "stream",
     "text": [
      "Enter the value: 3\n",
      "Greetings!\n"
     ]
    }
   ],
   "source": [
    "spam = input('Enter the value: ')\n",
    "\n",
    "match spam:\n",
    "    case '1':\n",
    "        print('Hello')\n",
    "    case '2':\n",
    "        print('Howdy')\n",
    "    case _:\n",
    "        print('Greetings!')\n",
    "        "
   ]
  },
  {
   "cell_type": "markdown",
   "id": "dc6dd90c",
   "metadata": {},
   "source": [
    "**Q9. If your programme is stuck in an endless loop, what keys you’ll press?**"
   ]
  },
  {
   "cell_type": "markdown",
   "id": "aa2bd4e7",
   "metadata": {},
   "source": [
    "Ctrl + C"
   ]
  },
  {
   "cell_type": "markdown",
   "id": "e868146f",
   "metadata": {},
   "source": [
    "**Q10. How can you tell the difference between break and continue?**"
   ]
  },
  {
   "cell_type": "markdown",
   "id": "645e0c2c",
   "metadata": {},
   "source": [
    "The main difference between break and continue statement is that when break keyword is encountered, it will exit the loop.\n",
    "\n",
    "In case of continue keyword, the current iteration that is running will be stopped, and it will proceed with the next iteration."
   ]
  },
  {
   "cell_type": "markdown",
   "id": "ab200a52",
   "metadata": {},
   "source": [
    "**Q11. In a for loop, what is the difference between range(10), range(0, 10), and range(0, 10, 1)?**"
   ]
  },
  {
   "cell_type": "markdown",
   "id": "32033673",
   "metadata": {},
   "source": [
    "All three are the same, which returns an immutable sequence type."
   ]
  },
  {
   "cell_type": "markdown",
   "id": "ed96d8b6",
   "metadata": {},
   "source": [
    "**Q12. Write a short program that prints the numbers 1 to 10 using a for loop. Then write an equivalent program that prints the numbers 1 to 10 using a while loop.**"
   ]
  },
  {
   "cell_type": "code",
   "execution_count": 1,
   "id": "664926b3",
   "metadata": {},
   "outputs": [
    {
     "name": "stdout",
     "output_type": "stream",
     "text": [
      "1\n",
      "2\n",
      "3\n",
      "4\n",
      "5\n",
      "6\n",
      "7\n",
      "8\n",
      "9\n",
      "10\n"
     ]
    }
   ],
   "source": [
    "# Using for loop\n",
    "for i in range(1, 11):\n",
    "    print(i)"
   ]
  },
  {
   "cell_type": "code",
   "execution_count": 2,
   "id": "324e0be1",
   "metadata": {},
   "outputs": [
    {
     "name": "stdout",
     "output_type": "stream",
     "text": [
      "1\n",
      "2\n",
      "3\n",
      "4\n",
      "5\n",
      "6\n",
      "7\n",
      "8\n",
      "9\n",
      "10\n"
     ]
    }
   ],
   "source": [
    "# Using while loop\n",
    "i = 1\n",
    "while i < 11:\n",
    "    print(i)\n",
    "    i += 1"
   ]
  },
  {
   "cell_type": "markdown",
   "id": "1eb419d2",
   "metadata": {},
   "source": [
    "**Q13. If you had a function named bacon() inside a module named spam, how would you call it after importing spam?**"
   ]
  },
  {
   "cell_type": "markdown",
   "id": "de4bb439",
   "metadata": {},
   "source": [
    "spam.bacon()"
   ]
  },
  {
   "cell_type": "code",
   "execution_count": null,
   "id": "aad2fb43",
   "metadata": {},
   "outputs": [],
   "source": []
  }
 ],
 "metadata": {
  "kernelspec": {
   "display_name": "ineuron",
   "language": "python",
   "name": "ineuron"
  },
  "language_info": {
   "codemirror_mode": {
    "name": "ipython",
    "version": 3
   },
   "file_extension": ".py",
   "mimetype": "text/x-python",
   "name": "python",
   "nbconvert_exporter": "python",
   "pygments_lexer": "ipython3",
   "version": "3.11.0"
  }
 },
 "nbformat": 4,
 "nbformat_minor": 5
}
