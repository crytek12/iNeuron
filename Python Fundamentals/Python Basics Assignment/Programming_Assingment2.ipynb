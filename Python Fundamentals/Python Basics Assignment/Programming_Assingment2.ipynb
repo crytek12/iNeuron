{
 "cells": [
  {
   "cell_type": "markdown",
   "id": "523a1dc0-c66d-405a-92f9-c9dff35ee968",
   "metadata": {},
   "source": [
    "# Programming_Assingment2"
   ]
  },
  {
   "cell_type": "markdown",
   "id": "73b72abb-b356-4972-aa06-05ea497e2f22",
   "metadata": {},
   "source": [
    "1.\tWrite a Python program to convert kilometers to miles?"
   ]
  },
  {
   "cell_type": "code",
   "execution_count": 1,
   "id": "4eff7087-c5a7-4c41-8c54-9f89b1d36d50",
   "metadata": {},
   "outputs": [
    {
     "name": "stdin",
     "output_type": "stream",
     "text": [
      "Enter value in kilometers:  3.5\n"
     ]
    },
    {
     "name": "stdout",
     "output_type": "stream",
     "text": [
      "3.50 kilometers is equal to 2.17 miles\n"
     ]
    }
   ],
   "source": [
    "# Taking kilometers input from the user\n",
    "km = float(input('Enter value in kilometers: '))\n",
    "\n",
    "# calculate and print in miles\n",
    "mi = km * 0.621371\n",
    "print(f'{km:.2f} kilometers is equal to {mi:.2f} miles')"
   ]
  },
  {
   "cell_type": "markdown",
   "id": "2eba9a23-7848-404f-a2b3-733bb1388ad7",
   "metadata": {},
   "source": [
    "2.\tWrite a Python program to convert Celsius to Fahrenheit?"
   ]
  },
  {
   "cell_type": "code",
   "execution_count": 2,
   "id": "da3dfcbd-1c15-4930-b9f3-5eeae8939696",
   "metadata": {},
   "outputs": [
    {
     "name": "stdin",
     "output_type": "stream",
     "text": [
      "Enter value in celsius:  37.5\n"
     ]
    },
    {
     "name": "stdout",
     "output_type": "stream",
     "text": [
      "37.5 degree Celsius is equal to 99.5 degree Fahrenheit\n"
     ]
    }
   ],
   "source": [
    "# Taking celsius input from user\n",
    "c = float(input('Enter value in celsius: '))\n",
    "\n",
    "# calculate and print in fahrenheit\n",
    "f = (c * 1.8) + 32\n",
    "print(f'{c:.1f} degree Celsius is equal to {f:.1f} degree Fahrenheit')"
   ]
  },
  {
   "cell_type": "markdown",
   "id": "344217e6-fe0f-473a-8101-88be4f21ac84",
   "metadata": {},
   "source": [
    "3.\tWrite a Python program to display calendar?"
   ]
  },
  {
   "cell_type": "code",
   "execution_count": 3,
   "id": "2f0f9eef-9b11-435c-8cf2-60a8db36c4e2",
   "metadata": {},
   "outputs": [
    {
     "name": "stdin",
     "output_type": "stream",
     "text": [
      "Enter the year (yyyy):  2014\n",
      "Enter the month (mm):  11\n"
     ]
    },
    {
     "name": "stdout",
     "output_type": "stream",
     "text": [
      "   November 2014\n",
      "Mo Tu We Th Fr Sa Su\n",
      "                1  2\n",
      " 3  4  5  6  7  8  9\n",
      "10 11 12 13 14 15 16\n",
      "17 18 19 20 21 22 23\n",
      "24 25 26 27 28 29 30\n",
      "\n"
     ]
    }
   ],
   "source": [
    "# importing calendar module\n",
    "import calendar\n",
    "\n",
    "# Taking year and month input from user\n",
    "year = int(input('Enter the year (yyyy): '))\n",
    "month = int(input('Enter the month (mm): '))\n",
    "\n",
    "# Displaying the calendar\n",
    "print(calendar.month(year, month))"
   ]
  },
  {
   "cell_type": "markdown",
   "id": "97988cd6-4765-4d42-9ca3-8f2ba540c3cf",
   "metadata": {},
   "source": [
    "4.\tWrite a Python program to solve quadratic equation?"
   ]
  },
  {
   "cell_type": "code",
   "execution_count": 4,
   "id": "70a0a8f8-6047-44af-b89c-54c08eeb228e",
   "metadata": {},
   "outputs": [
    {
     "name": "stdin",
     "output_type": "stream",
     "text": [
      "Enter a as an integer:  1\n",
      "Enter b as an integer:  5\n",
      "Enter c as an integer:  6\n"
     ]
    },
    {
     "name": "stdout",
     "output_type": "stream",
     "text": [
      "The solution are (-3+0j) and (-2+0j)\n"
     ]
    }
   ],
   "source": [
    "# import complex math module\n",
    "import cmath\n",
    "\n",
    "# Enter the coefficients \n",
    "a = int(input('Enter a as an integer: '))\n",
    "b = int(input('Enter b as an integer: '))\n",
    "c = int(input('Enter c as an integer: '))\n",
    "\n",
    "# calculate the discriminant\n",
    "d = (b**2) - (4*a*c)\n",
    "\n",
    "# find two solutions\n",
    "sol1 = (-b-cmath.sqrt(d))/(2*a)\n",
    "sol2 = (-b+cmath.sqrt(d))/(2*a)\n",
    "\n",
    "print(f'The solution are {sol1} and {sol2}')"
   ]
  },
  {
   "cell_type": "markdown",
   "id": "713900bd-1c8f-4d6e-83b8-c7f08e69fb35",
   "metadata": {},
   "source": [
    "5.\tWrite a Python program to swap two variables without temp variable?"
   ]
  },
  {
   "cell_type": "code",
   "execution_count": 5,
   "id": "cf057515-9e82-462a-96ae-99873b331b6d",
   "metadata": {},
   "outputs": [
    {
     "name": "stdin",
     "output_type": "stream",
     "text": [
      "Enter value of x:  5\n",
      "Enter value of y:  10\n"
     ]
    },
    {
     "name": "stdout",
     "output_type": "stream",
     "text": [
      "The value of x after swapping: 10\n",
      "The value of y after swapping: 5\n"
     ]
    }
   ],
   "source": [
    "# To take inputs from the user\n",
    "x = input('Enter value of x: ')\n",
    "y = input('Enter value of y: ')\n",
    "\n",
    "# Swap the values without a temporary variable\n",
    "x, y = y, x\n",
    "\n",
    "print(f'The value of x after swapping: {x}')\n",
    "print(f'The value of y after swapping: {y}')"
   ]
  },
  {
   "cell_type": "code",
   "execution_count": null,
   "id": "a3c85f08-3b8d-4bf3-b561-407443424fb7",
   "metadata": {},
   "outputs": [],
   "source": []
  }
 ],
 "metadata": {
  "kernelspec": {
   "display_name": "Python 3 (ipykernel)",
   "language": "python",
   "name": "python3"
  },
  "language_info": {
   "codemirror_mode": {
    "name": "ipython",
    "version": 3
   },
   "file_extension": ".py",
   "mimetype": "text/x-python",
   "name": "python",
   "nbconvert_exporter": "python",
   "pygments_lexer": "ipython3",
   "version": "3.10.6"
  }
 },
 "nbformat": 4,
 "nbformat_minor": 5
}
