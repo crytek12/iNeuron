{
 "cells": [
  {
   "cell_type": "markdown",
   "id": "036b61b9",
   "metadata": {},
   "source": [
    "# Assignment_3"
   ]
  },
  {
   "cell_type": "markdown",
   "id": "95c28aac",
   "metadata": {},
   "source": [
    "**Q1. Why are functions advantageous to have in your programs?**"
   ]
  },
  {
   "cell_type": "markdown",
   "id": "a49fb3fb",
   "metadata": {},
   "source": [
    "Functions enable programmers to break down or decompose a problem into smaller chunks, each of which performs a particular task. Once a function is created, the details of how it works can almost be forgotten about. In this way the detail is abstracted, allowing the programmer to focus on the bigger picture.\n",
    "\n",
    "\n",
    "Once a programmer defines a function, they can then call it whenever they need it, simply using its name. Additionally, in order to work, the function will probably require some inputs or parameters, which are given to the function each time it is called."
   ]
  },
  {
   "cell_type": "markdown",
   "id": "dc85ca28",
   "metadata": {},
   "source": [
    "**Q2. When does the code in a function run: when it's specified or when it's called?**"
   ]
  },
  {
   "cell_type": "markdown",
   "id": "7729ca23",
   "metadata": {},
   "source": [
    "The code in a function runs when it is called"
   ]
  },
  {
   "cell_type": "markdown",
   "id": "5cdb09a2",
   "metadata": {},
   "source": [
    "**Q3. What statement creates a function?**"
   ]
  },
  {
   "cell_type": "markdown",
   "id": "5bc5be2f",
   "metadata": {},
   "source": [
    "def is a keyword in Python which is used to create user defined functions"
   ]
  },
  {
   "cell_type": "markdown",
   "id": "d790eeef",
   "metadata": {},
   "source": [
    "**Q4. What is the difference between a function and a function call?**"
   ]
  },
  {
   "cell_type": "markdown",
   "id": "39b8a17f",
   "metadata": {},
   "source": [
    "A function is a piece of code which enhanced the reusability and modularity of your program. It means that piece of code need not be written again. <br><br>\n",
    "A function call means invoking or calling that function. Unless a function is called there is no use of that function."
   ]
  },
  {
   "cell_type": "markdown",
   "id": "2b893513",
   "metadata": {},
   "source": [
    "**Q5. How many global scopes are there in a Python program? How many local scopes?**"
   ]
  },
  {
   "cell_type": "markdown",
   "id": "e7e488f3",
   "metadata": {},
   "source": [
    "There can be only one global scope in a python program. And there can be n number of local scopes in a program as per the developer's wish."
   ]
  },
  {
   "cell_type": "markdown",
   "id": "97deeb0c",
   "metadata": {},
   "source": [
    "**Q6. What happens to variables in a local scope when the function call returns?**"
   ]
  },
  {
   "cell_type": "markdown",
   "id": "d060ae49",
   "metadata": {},
   "source": [
    "When a function returns, the local scope is destroyed, and all the variables in it are forgotten."
   ]
  },
  {
   "cell_type": "markdown",
   "id": "756e9bf7",
   "metadata": {},
   "source": [
    "**Q7. What is the concept of a return value? Is it possible to have a return value in an expression?**"
   ]
  },
  {
   "cell_type": "markdown",
   "id": "0de93041",
   "metadata": {},
   "source": [
    "A return value is the value that a function call evaluates to. Like any value, a return value can be used as part of an expression."
   ]
  },
  {
   "cell_type": "markdown",
   "id": "9a678500",
   "metadata": {},
   "source": [
    "**Q8. If a function does not have a return statement, what is the return value of a call to that function?**"
   ]
  },
  {
   "cell_type": "markdown",
   "id": "dea5ffd7",
   "metadata": {},
   "source": [
    "If there is no return statement for a function, its return value is None."
   ]
  },
  {
   "cell_type": "markdown",
   "id": "5b29f2b2",
   "metadata": {},
   "source": [
    "**Q9. How do you make a function variable refer to the global variable?**"
   ]
  },
  {
   "cell_type": "markdown",
   "id": "bd72c478",
   "metadata": {},
   "source": [
    "A global statement will force a variable in a function to refer to the global variable."
   ]
  },
  {
   "cell_type": "markdown",
   "id": "6a6fd3dc",
   "metadata": {},
   "source": [
    "**Q10. What is the data type of None?**"
   ]
  },
  {
   "cell_type": "markdown",
   "id": "cd9273c1",
   "metadata": {},
   "source": [
    "The data type of None is NoneType."
   ]
  },
  {
   "cell_type": "markdown",
   "id": "c2368d5e",
   "metadata": {},
   "source": [
    "**Q11. What does the sentence import areallyourpetsnamederic do?**"
   ]
  },
  {
   "cell_type": "markdown",
   "id": "cfe88339",
   "metadata": {},
   "source": [
    "That import statement imports a module named areallyourpetsnamederic."
   ]
  },
  {
   "cell_type": "markdown",
   "id": "21d889ef",
   "metadata": {},
   "source": [
    "**Q12. If you had a bacon() feature in a spam module, what would you call it after importing spam?**"
   ]
  },
  {
   "cell_type": "markdown",
   "id": "dd7fb62c",
   "metadata": {},
   "source": [
    "This function can be called with spam.bacon()"
   ]
  },
  {
   "cell_type": "markdown",
   "id": "cc7097b4",
   "metadata": {},
   "source": [
    "**Q13. What can you do to save a programme from crashing if it encounters an error?**"
   ]
  },
  {
   "cell_type": "markdown",
   "id": "25c5435a",
   "metadata": {},
   "source": [
    "Place the line of code that might cause an error in a try clause."
   ]
  },
  {
   "cell_type": "markdown",
   "id": "c8259d82",
   "metadata": {},
   "source": [
    "**Q14. What is the purpose of the try clause? What is the purpose of the except clause?**"
   ]
  },
  {
   "cell_type": "markdown",
   "id": "ae901d56",
   "metadata": {},
   "source": [
    "The code that could potentially cause an error goes in the try clause. <br>\n",
    "The code that executes if an error happens goes in the except clause."
   ]
  },
  {
   "cell_type": "code",
   "execution_count": null,
   "id": "bc211e30",
   "metadata": {},
   "outputs": [],
   "source": []
  }
 ],
 "metadata": {
  "kernelspec": {
   "display_name": "ineuron",
   "language": "python",
   "name": "ineuron"
  },
  "language_info": {
   "codemirror_mode": {
    "name": "ipython",
    "version": 3
   },
   "file_extension": ".py",
   "mimetype": "text/x-python",
   "name": "python",
   "nbconvert_exporter": "python",
   "pygments_lexer": "ipython3",
   "version": "3.11.0"
  }
 },
 "nbformat": 4,
 "nbformat_minor": 5
}
