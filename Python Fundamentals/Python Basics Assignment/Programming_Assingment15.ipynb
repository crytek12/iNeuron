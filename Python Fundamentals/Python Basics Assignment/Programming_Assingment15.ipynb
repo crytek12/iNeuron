{
 "cells": [
  {
   "cell_type": "markdown",
   "id": "cc735014",
   "metadata": {},
   "source": [
    "# Programming_Assingment15"
   ]
  },
  {
   "cell_type": "markdown",
   "id": "94e906b9",
   "metadata": {},
   "source": [
    "**Question 1:**\n",
    "Please write a program using generator to print the numbers which can be divisible by 5 and 7 between 0 and n in comma separated form while n is input by console.<br><br>\n",
    "Example:<br>\n",
    "If the following n is given as input to the program:<br><br>\n",
    "100<br><br>\n",
    "Then, the output of the program should be:<br><br>\n",
    "0,35,70\n"
   ]
  },
  {
   "cell_type": "code",
   "execution_count": 7,
   "id": "d71504af",
   "metadata": {},
   "outputs": [
    {
     "name": "stdout",
     "output_type": "stream",
     "text": [
      "Enter n: 100\n",
      "0, 35, 70"
     ]
    }
   ],
   "source": [
    "def gen_5_and_7(n):\n",
    "    \"\"\"\n",
    "    Generator function to yield numbers divisible\n",
    "    by both 5 and 7 between 0 and n\n",
    "    \"\"\"\n",
    "    for i in range(n):\n",
    "        if i % 35 == 0:\n",
    "            yield i\n",
    "            \n",
    "\n",
    "n = int(input('Enter n: '))\n",
    "gen = gen_5_and_7(n + 1)\n",
    "try:\n",
    "    print(next(gen), end='')\n",
    "    for i in gen:\n",
    "        print(',',i, end='')\n",
    "except StopIteration:\n",
    "    pass"
   ]
  },
  {
   "cell_type": "markdown",
   "id": "cb442bee",
   "metadata": {},
   "source": [
    "**Question 2:**\n",
    "Please write a program using generator to print the even numbers between 0 and n in comma separated form while n is input by console.<br><br>\n",
    "Example:\n",
    "If the following n is given as input to the program:<br><br>\n",
    "10<br><br>\n",
    "Then, the output of the program should be:<br><br>\n",
    "0,2,4,6,8,10\n"
   ]
  },
  {
   "cell_type": "code",
   "execution_count": 8,
   "id": "38e5c8a4",
   "metadata": {},
   "outputs": [
    {
     "name": "stdout",
     "output_type": "stream",
     "text": [
      "Enter n: 10\n",
      "0, 2, 4, 6, 8, 10\n"
     ]
    }
   ],
   "source": [
    " def gen_even(n):\n",
    "    \"\"\"\n",
    "    Generator function to yield numbers that are even \n",
    "    and range between 0 and n\n",
    "    \"\"\"\n",
    "    for i in range(n):\n",
    "        if i % 2 == 0:\n",
    "            yield i\n",
    "            \n",
    "            \n",
    "n = int(input('Enter n: '))\n",
    "print(*gen_even(n + 1), sep=\", \")"
   ]
  },
  {
   "cell_type": "markdown",
   "id": "48a2692a",
   "metadata": {},
   "source": [
    "**Question 3:**<br><br>\n",
    "The Fibonacci Sequence is computed based on the following formula:<br><br>\n",
    "f(n)=0 if n=0\n",
    "f(n)=1 if n=1\n",
    "f(n)=f(n-1)+f(n-2) if n>1<br><br>\n",
    "Please write a program using list comprehension to print the Fibonacci Sequence in comma separated form with a given n input by console.<br><br>\n",
    "Example:\n",
    "If the following n is given as input to the program:<br><br>\n",
    "7<br><br>\n",
    "\n",
    "Then, the output of the program should be:<br>\n",
    "0,1,1,2,3,5,8,13\n"
   ]
  },
  {
   "cell_type": "code",
   "execution_count": 32,
   "id": "6e800d83",
   "metadata": {},
   "outputs": [
    {
     "name": "stdout",
     "output_type": "stream",
     "text": [
      "Enter the number of Fibonacci numbers to generate: 7\n",
      "0, 1, 1, 2, 3, 5, 8, 13\n"
     ]
    }
   ],
   "source": [
    "n = int(input(\"Enter the number of Fibonacci numbers to generate: \"))\n",
    "fib_list = [0, 1] + [fib_list[i - 1] + fib_list[i - 2] for i in range(2, n + 1)]\n",
    "print(', '.join(map(str, fib_list)))"
   ]
  },
  {
   "cell_type": "markdown",
   "id": "843c6457",
   "metadata": {},
   "source": [
    "**Question 4:**<br><br>\n",
    "Assuming that we have some email addresses in the \"username@companyname.com\" format, please write program to print the user name of a given email address. Both user names and company names are composed of letters only.<br><br>\n",
    "Example:\n",
    "If the following email address is given as input to the program:<br><br>\n",
    "john@google.com<br><br>\n",
    "Then, the output of the program should be:<br><br>\n",
    "john\n"
   ]
  },
  {
   "cell_type": "code",
   "execution_count": 35,
   "id": "3d601ec8",
   "metadata": {},
   "outputs": [
    {
     "name": "stdout",
     "output_type": "stream",
     "text": [
      "john"
     ]
    }
   ],
   "source": [
    "email = 'john@google.com'\n",
    "for i in email:\n",
    "    if i == '@':\n",
    "        break\n",
    "    print(i, end='')"
   ]
  },
  {
   "cell_type": "markdown",
   "id": "4417c0d0",
   "metadata": {},
   "source": [
    "Question 5:<br><br>\n",
    "Define a class named Shape and its subclass Square. The Square class has an init function which takes a length as argument. Both classes have a area function which can print the area of the shape where Shape's area is 0 by default.\n"
   ]
  },
  {
   "cell_type": "code",
   "execution_count": 36,
   "id": "0da18527",
   "metadata": {},
   "outputs": [
    {
     "name": "stdout",
     "output_type": "stream",
     "text": [
      "0\n",
      "25\n"
     ]
    }
   ],
   "source": [
    "class Shape:\n",
    "    def area(self):\n",
    "        return 0\n",
    "\n",
    "\n",
    "class Square(Shape):\n",
    "    def __init__(self, length):\n",
    "        self.length = length\n",
    "        \n",
    "    def area(self):\n",
    "        return self.length ** 2\n",
    "\n",
    "shape = Shape()\n",
    "print(shape.area())\n",
    "\n",
    "square = Square(5)\n",
    "print(square.area())"
   ]
  },
  {
   "cell_type": "code",
   "execution_count": null,
   "id": "b2c11300",
   "metadata": {},
   "outputs": [],
   "source": []
  }
 ],
 "metadata": {
  "kernelspec": {
   "display_name": "Python 3 (ipykernel)",
   "language": "python",
   "name": "python3"
  },
  "language_info": {
   "codemirror_mode": {
    "name": "ipython",
    "version": 3
   },
   "file_extension": ".py",
   "mimetype": "text/x-python",
   "name": "python",
   "nbconvert_exporter": "python",
   "pygments_lexer": "ipython3",
   "version": "3.11.0"
  }
 },
 "nbformat": 4,
 "nbformat_minor": 5
}
