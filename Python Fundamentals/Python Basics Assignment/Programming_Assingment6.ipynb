{
 "cells": [
  {
   "cell_type": "markdown",
   "id": "361a7f8c-3347-408c-9ea3-41bec8be9293",
   "metadata": {},
   "source": [
    "# Programming_Assingment6"
   ]
  },
  {
   "cell_type": "markdown",
   "id": "9d6bcce9-6c14-4c7b-9e0e-77475a3f9d1c",
   "metadata": {},
   "source": [
    "1.\tWrite a Python Program to Display Fibonacci Sequence Using Recursion?"
   ]
  },
  {
   "cell_type": "code",
   "execution_count": 1,
   "id": "b6d7fa5e-6d4a-4c16-b990-36a02b3c39cd",
   "metadata": {},
   "outputs": [
    {
     "name": "stdin",
     "output_type": "stream",
     "text": [
      "Enter the number of terms for the sequence:  20\n"
     ]
    },
    {
     "name": "stdout",
     "output_type": "stream",
     "text": [
      "Fibonnaci sequence of first 20 terms is as below\n",
      "0 1 1 2 3 5 8 13 21 34 55 89 144 233 377 610 987 1597 2584 4181 "
     ]
    }
   ],
   "source": [
    "def main():\n",
    "    # Take user input for a number and generation of the sequence\n",
    "    num = int(input('Enter the number of terms for the sequence: '))\n",
    "    print(f'Fibonnaci sequence of first {num} terms is as below')\n",
    "    fib(num)\n",
    "    \n",
    "\n",
    "def fib(n, n1 = 0, n2 = 1):\n",
    "    '''\n",
    "    Generating the fibonacci sequence\n",
    "    \n",
    "    Parameters:\n",
    "    n (int): number of terms\n",
    "    n1 (int): first term of the sequence\n",
    "    n2 (int): second term of the sequence\n",
    "    \n",
    "    Returns:\n",
    "    The sequence\n",
    "    '''\n",
    "    if n == 1:\n",
    "        print(n1, end=' ')\n",
    "        return\n",
    "    else:\n",
    "        print(n1, end=' ')\n",
    "        nth = n1 + n2\n",
    "        \n",
    "        # update values\n",
    "        n -= 1\n",
    "        n1 = n2\n",
    "        n2 = nth\n",
    "        \n",
    "        # Calling the function again (recursion)\n",
    "        fib(n, n1, n2)\n",
    "    \n",
    "if __name__ == '__main__':    \n",
    "    main()"
   ]
  },
  {
   "cell_type": "markdown",
   "id": "3642ddec-702b-4d8f-b4cd-826b6cb8e87a",
   "metadata": {},
   "source": [
    "2.\tWrite a Python Program to Find Factorial of Number Using Recursion?"
   ]
  },
  {
   "cell_type": "code",
   "execution_count": 2,
   "id": "927b81e0-07ae-4ccc-957a-4ae73ea8e64e",
   "metadata": {},
   "outputs": [
    {
     "name": "stdin",
     "output_type": "stream",
     "text": [
      "Enter a number:  5\n"
     ]
    },
    {
     "name": "stdout",
     "output_type": "stream",
     "text": [
      "Factorial of 5: 120\n"
     ]
    }
   ],
   "source": [
    "def main():\n",
    "    # Take user input to find the factorial\n",
    "    n = int(input('Enter a number: '))\n",
    "    print(f'Factorial of {n}:', fact(n))\n",
    "\n",
    "    \n",
    "def fact(n):\n",
    "    '''\n",
    "    Computing the factorial of given number n\n",
    "    \n",
    "    Parameters:\n",
    "    n (int): number whose factorial is to be calculated\n",
    "    \n",
    "    Returns:\n",
    "    int: The factorial of a number\n",
    "    '''\n",
    "    if n == 0:\n",
    "        return 1\n",
    "    else:\n",
    "        return n * fact(n - 1)\n",
    "    \n",
    "if __name__ == '__main__':\n",
    "    main()"
   ]
  },
  {
   "cell_type": "markdown",
   "id": "703148a6-80c0-4c89-8d8b-37fd7392eeb8",
   "metadata": {},
   "source": [
    "3.\tWrite a Python Program to calculate your Body Mass Index?"
   ]
  },
  {
   "cell_type": "code",
   "execution_count": 3,
   "id": "7dbce89a-c01f-4e08-98ac-42f7bae72b59",
   "metadata": {},
   "outputs": [
    {
     "name": "stdin",
     "output_type": "stream",
     "text": [
      "Enter your weight(in kg):  60\n",
      "Enter your height(in m):  1.52\n"
     ]
    },
    {
     "name": "stdout",
     "output_type": "stream",
     "text": [
      "BMI of weight 60.0kgs and height 1.52m: 25.97\n"
     ]
    }
   ],
   "source": [
    "# Take user input for weight and height\n",
    "weight = float(input('Enter your weight(in kg): '))\n",
    "height = float(input('Enter your height(in m): '))\n",
    "\n",
    "print(f'BMI of weight {weight}kgs and height {height}m: {weight / height ** 2:.2f}')"
   ]
  },
  {
   "cell_type": "markdown",
   "id": "a6f06842-7da8-4128-b3cc-44f2a6d202bb",
   "metadata": {},
   "source": [
    "4.\tWrite a Python Program to calculate the natural logarithm of any number?"
   ]
  },
  {
   "cell_type": "code",
   "execution_count": 4,
   "id": "98ebcd6f-b013-4205-843c-70e131ea9f34",
   "metadata": {},
   "outputs": [
    {
     "name": "stdin",
     "output_type": "stream",
     "text": [
      "Enter a number:  2\n"
     ]
    },
    {
     "name": "stdout",
     "output_type": "stream",
     "text": [
      "Natural logarithm of 2.0 is 0.69\n"
     ]
    }
   ],
   "source": [
    "# Importing log function from math module\n",
    "from math import log\n",
    "\n",
    "# Take user input for a number and print the logarithmic value\n",
    "n = float(input('Enter a number: '))\n",
    "print(f'Natural logarithm of {n} is {log(n):.2f}')"
   ]
  },
  {
   "cell_type": "markdown",
   "id": "f10de3a8-6e6e-4f21-bf24-641fc57ecbd2",
   "metadata": {},
   "source": [
    "5.\tWrite a Python Program for cube sum of first n natural numbers?"
   ]
  },
  {
   "cell_type": "code",
   "execution_count": 5,
   "id": "247ebec8-3112-4748-aed2-b6577d903312",
   "metadata": {},
   "outputs": [
    {
     "name": "stdin",
     "output_type": "stream",
     "text": [
      "Enter the number:  7\n"
     ]
    },
    {
     "name": "stdout",
     "output_type": "stream",
     "text": [
      "The sum of first 7 natural numbers: 784\n"
     ]
    }
   ],
   "source": [
    "# Take user input for a number\n",
    "n = int(input('Enter the number: '))\n",
    "\n",
    "# Calculating the cube sum of first n natural numbers and printing the result\n",
    "sum = (n*(n +1) // 2) ** 2\n",
    "print(f'The sum of first {n} natural numbers: {sum}')"
   ]
  },
  {
   "cell_type": "code",
   "execution_count": null,
   "id": "46ecdd36-bbb5-4885-9173-f2149747794b",
   "metadata": {},
   "outputs": [],
   "source": []
  }
 ],
 "metadata": {
  "kernelspec": {
   "display_name": "Python 3 (ipykernel)",
   "language": "python",
   "name": "python3"
  },
  "language_info": {
   "codemirror_mode": {
    "name": "ipython",
    "version": 3
   },
   "file_extension": ".py",
   "mimetype": "text/x-python",
   "name": "python",
   "nbconvert_exporter": "python",
   "pygments_lexer": "ipython3",
   "version": "3.10.6"
  }
 },
 "nbformat": 4,
 "nbformat_minor": 5
}
