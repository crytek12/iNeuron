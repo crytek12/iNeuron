{
 "cells": [
  {
   "cell_type": "markdown",
   "id": "902f2c9b",
   "metadata": {},
   "source": [
    "# Assignment_8"
   ]
  },
  {
   "cell_type": "markdown",
   "id": "e1265d8d",
   "metadata": {},
   "source": [
    "**Q1. Is the Python Standard Library included with PyInputPlus?**"
   ]
  },
  {
   "cell_type": "markdown",
   "id": "c717e18d",
   "metadata": {},
   "source": [
    "PyInputPlus is a third-party library and not part of the Python Standard Library. It provides additional input validation functions that can be used in place of the built-in input() function in Python. It is not included in Python by default and must be installed separately."
   ]
  },
  {
   "cell_type": "markdown",
   "id": "ea9c2e05",
   "metadata": {},
   "source": [
    "**Q2. Why is PyInputPlus commonly imported with import pyinputplus as pypi?**"
   ]
  },
  {
   "cell_type": "markdown",
   "id": "d85db756",
   "metadata": {},
   "source": [
    "It is common to import PyInputPlus using the alias \"pypi\" because it's a shorter and more convenient way to refer to the library, especially when used frequently throughout a program. Also, using an alias can help avoid naming conflicts with other modules in a project that have the same name as the library.\n",
    "It's a personal preference to use an alias or not, and it's not a requirement."
   ]
  },
  {
   "cell_type": "markdown",
   "id": "b27cfbda",
   "metadata": {},
   "source": [
    "**Q3. How do you distinguish between inputInt() and inputFloat()?**"
   ]
  },
  {
   "cell_type": "markdown",
   "id": "4a871521",
   "metadata": {},
   "source": [
    "The inputInt() function in PyInputPlus is used to get an integer input from the user, while the inputFloat() function is used to get a floating-point number input from the user.\n",
    "You can use inputInt() when you expect the user to input an integer and you want to validate that the input is indeed an integer and within a specific range if any.\n",
    "You can use inputFloat() when you expect the user to input a float number and you want to validate that the input is indeed a float and within a specific range if any.\n",
    "Both functions have similar arguments and provide similar validation options, the only difference is the type of input that they expect and validate."
   ]
  },
  {
   "cell_type": "markdown",
   "id": "2dc0df7a",
   "metadata": {},
   "source": [
    "**Q4. Using PyInputPlus, how do you ensure that the user enters a whole number between 0 and 99?**"
   ]
  },
  {
   "cell_type": "markdown",
   "id": "99045adf",
   "metadata": {},
   "source": [
    "You can use the inputInt() function from PyInputPlus to ensure that the user enters a whole number between 0 and 99.\n",
    "You would pass in the min and max arguments to the inputInt() function to set the range of valid inputs."
   ]
  },
  {
   "cell_type": "code",
   "execution_count": null,
   "id": "3797bb21",
   "metadata": {},
   "outputs": [],
   "source": [
    "import pyinputplus as pypi\n",
    "\n",
    "user_input = pypi.inputInt(min=0, max=99)"
   ]
  },
  {
   "cell_type": "markdown",
   "id": "a9569eab",
   "metadata": {},
   "source": [
    "This will ensure that the user can only enter a whole number between 0 and 99, any input outside of this range will be considered invalid and the user will be prompted to enter a valid number."
   ]
  },
  {
   "cell_type": "markdown",
   "id": "7075c33f",
   "metadata": {},
   "source": [
    "**Q5. What is transferred to the keyword arguments allowRegexes and blockRegexes?**"
   ]
  },
  {
   "cell_type": "markdown",
   "id": "e1151cfa",
   "metadata": {},
   "source": [
    "In PyInputPlus, the input() function, and its variations (e.g. inputInt(), inputFloat(), etc) accepts two keyword arguments allowRegexes and blockRegexes.\n",
    "\n",
    "allowRegexes is a list of regular expressions that are used to validate the user input. If the user input matches any of the regular expressions in the list, the input is considered valid.\n",
    "\n",
    "blockRegexes is a list of regular expressions that are used to invalidate the user input. If the user input matches any of the regular expressions in the list, the input is considered invalid.\n",
    "\n",
    "For example, you could use allowRegexes to ensure that the user enters a valid email address, by providing a regular expression that validates the email format. Similarly, you can use blockRegexes to block certain words, phrases, or characters that you don't want the user to enter.\n",
    "\n",
    "Here's an example:"
   ]
  },
  {
   "cell_type": "code",
   "execution_count": null,
   "id": "fd1c9b9a",
   "metadata": {},
   "outputs": [],
   "source": [
    "import pyinputplus as pypi\n",
    "\n",
    "allowRegexes = [r'\\w+@\\w+\\.com']\n",
    "blockRegexes = [r'admin', r'password']\n",
    "\n",
    "user_input = pypi.inputStr(allowRegexes=allowRegexes, blockRegexes=blockRegexes)"
   ]
  },
  {
   "cell_type": "markdown",
   "id": "34d13678",
   "metadata": {},
   "source": [
    "This will ensure that user input is a string that contains a valid email address (ending in .com) and does not contain the words \"admin\" or \"password\".\n",
    "\n",
    "It is to be noted that if you use both allowRegexes and blockRegexes then the input will be only considered valid if it passes both conditions, that is it should match at least one of the allowRegexes and should not match any of the blockRegexes."
   ]
  },
  {
   "cell_type": "markdown",
   "id": "5a5043e6",
   "metadata": {},
   "source": [
    "**Q6. If a blank input is entered three times, what does inputStr(limit=3) do?**"
   ]
  },
  {
   "cell_type": "markdown",
   "id": "a6e65dac",
   "metadata": {},
   "source": [
    "If you call inputStr(limit=3) with the limit argument set to 3, it will prompt the user to enter a string and will accept blank input. If the user enters a blank input three times, PyInputPlus will raise an RetryLimitException and the program will stop executing."
   ]
  },
  {
   "cell_type": "markdown",
   "id": "9fe20ecd",
   "metadata": {},
   "source": [
    "**Q7. If blank input is entered three times, what does inputStr(limit=3, default='hello') do?**"
   ]
  },
  {
   "cell_type": "markdown",
   "id": "d1240508",
   "metadata": {},
   "source": [
    "If you call inputStr(limit=3, default='hello') with the limit argument set to 3, it will prompt the user to enter a string, and if the user enters a blank input three times, PyInputPlus will return the default value 'hello' and will not raise a RetryLimitException."
   ]
  },
  {
   "cell_type": "code",
   "execution_count": null,
   "id": "75900dec",
   "metadata": {},
   "outputs": [],
   "source": []
  }
 ],
 "metadata": {
  "kernelspec": {
   "display_name": "Python 3 (ipykernel)",
   "language": "python",
   "name": "python3"
  },
  "language_info": {
   "codemirror_mode": {
    "name": "ipython",
    "version": 3
   },
   "file_extension": ".py",
   "mimetype": "text/x-python",
   "name": "python",
   "nbconvert_exporter": "python",
   "pygments_lexer": "ipython3",
   "version": "3.11.0"
  }
 },
 "nbformat": 4,
 "nbformat_minor": 5
}
