{
 "cells": [
  {
   "cell_type": "markdown",
   "id": "ba962f08",
   "metadata": {},
   "source": [
    "# Assignment_9"
   ]
  },
  {
   "cell_type": "markdown",
   "id": "2f0fc288",
   "metadata": {},
   "source": [
    "**Q1. To what does a relative path refer?**"
   ]
  },
  {
   "cell_type": "markdown",
   "id": "c13a1b45",
   "metadata": {},
   "source": [
    "A relative path refers to a file or directory location in relation to the current directory. It specifies the location of a file or directory by providing a path that is relative to the current directory."
   ]
  },
  {
   "cell_type": "markdown",
   "id": "63aeb7ca",
   "metadata": {},
   "source": [
    "**Q2. What does an absolute path start with your operating system?**"
   ]
  },
  {
   "cell_type": "markdown",
   "id": "6d9fff5f",
   "metadata": {},
   "source": [
    "C:\\"
   ]
  },
  {
   "cell_type": "markdown",
   "id": "f8a91c00",
   "metadata": {},
   "source": [
    "**Q3. What do the functions os.getcwd() and os.chdir() do?**"
   ]
  },
  {
   "cell_type": "markdown",
   "id": "d788cfdc",
   "metadata": {},
   "source": [
    "os.getcwd() returns a string representing the current working directory (cwd). The current working directory is the directory where the Python script is running, and it's where Python will look for files and directories specified with relative paths.\n",
    "\n",
    "os.chdir(path) changes the current working directory to the specified path. The path can be either an absolute or a relative path. After calling this function, all relative paths used in the script will be based on the new working directory."
   ]
  },
  {
   "cell_type": "markdown",
   "id": "942f5a87",
   "metadata": {},
   "source": [
    "**Q4. What are the . and .. folders?**"
   ]
  },
  {
   "cell_type": "markdown",
   "id": "0e7a251e",
   "metadata": {},
   "source": [
    ". (dot) is a shorthand for the current directory. It can be used in a file path to refer to the directory that the script or command is currently in. For example, the relative path ./file.txt refers to a file named file.txt in the current directory.\n",
    "\n",
    ".. (dot-dot) is a shorthand for the parent directory. It can be used in a file path to refer to the directory that is one level above the current directory. For example, the relative path ../file.txt refers to a file named file.txt in the parent directory."
   ]
  },
  {
   "cell_type": "markdown",
   "id": "27195efa",
   "metadata": {},
   "source": [
    "**Q5. In C:\\bacon\\eggs\\spam.txt, which part is the dir name, and which part is the base name?**"
   ]
  },
  {
   "cell_type": "markdown",
   "id": "7e702815",
   "metadata": {},
   "source": [
    "In the file path C:\\bacon\\eggs\\spam.txt:\n",
    "\n",
    "- The directory name is C:\\bacon\\eggs. It represents the path to the directory that contains the file spam.txt.\n",
    "- The base name is spam.txt. It represents the name of the file."
   ]
  },
  {
   "cell_type": "markdown",
   "id": "277eddbb",
   "metadata": {},
   "source": [
    "**Q6. What are the three “mode” arguments that can be passed to the open() function?**"
   ]
  },
  {
   "cell_type": "markdown",
   "id": "df8be0c6",
   "metadata": {},
   "source": [
    "The mode argument is used to specify the mode in which the file is opened. The mode argument is a string that can take one of the following three values:\n",
    "\n",
    "- 'r': This is the default mode. It opens the file for reading. If the file does not exist, it raises a FileNotFoundError.\n",
    "- 'w': It opens the file for writing. If the file does not exist, it creates a new file. If the file already exists, its contents are truncated (deleted) before opening.\n",
    "- 'a': It opens the file for appending. If the file does not exist, it creates a new file. If the file already exists, the new data is added to the end of the file."
   ]
  },
  {
   "cell_type": "markdown",
   "id": "578ff482",
   "metadata": {},
   "source": [
    "**Q7. What happens if an existing file is opened in write mode?**"
   ]
  },
  {
   "cell_type": "markdown",
   "id": "7a471435",
   "metadata": {},
   "source": [
    "If the file already exists, its contents are truncated (deleted) before opening."
   ]
  },
  {
   "cell_type": "markdown",
   "id": "f294efc8",
   "metadata": {},
   "source": [
    "**Q8. How do you tell the difference between read() and readlines()?**"
   ]
  },
  {
   "cell_type": "markdown",
   "id": "cf649b2d",
   "metadata": {},
   "source": [
    "file.read() method reads the entire contents of a file as a single string. It reads the file from the current file pointer position, and returns the entire contents of the file as a string. If the file is large, it may consume a lot of memory.\n",
    "\n",
    "file.readlines() method reads the entire contents of a file and returns the content as a list of strings, where each element of the list is a line from the file. Each line includes the newline character at the end."
   ]
  },
  {
   "cell_type": "markdown",
   "id": "2c8d7f10",
   "metadata": {},
   "source": [
    "**Q9. What data structure does a shelf value resemble?**"
   ]
  },
  {
   "cell_type": "markdown",
   "id": "beaed27f",
   "metadata": {},
   "source": [
    "A shelf value resemble a dictionary data structure in the sense that it stores key-value pairs, where you can access the values using their corresponding keys. In a shelf you can use the keys to store and retrieve values, in a similar way to how you would use keys to access values in a dictionary."
   ]
  },
  {
   "cell_type": "code",
   "execution_count": null,
   "id": "65e97c1f",
   "metadata": {},
   "outputs": [],
   "source": []
  }
 ],
 "metadata": {
  "kernelspec": {
   "display_name": "Python 3 (ipykernel)",
   "language": "python",
   "name": "python3"
  },
  "language_info": {
   "codemirror_mode": {
    "name": "ipython",
    "version": 3
   },
   "file_extension": ".py",
   "mimetype": "text/x-python",
   "name": "python",
   "nbconvert_exporter": "python",
   "pygments_lexer": "ipython3",
   "version": "3.11.0"
  }
 },
 "nbformat": 4,
 "nbformat_minor": 5
}
