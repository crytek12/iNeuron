{
 "cells": [
  {
   "cell_type": "markdown",
   "id": "cda6e029-e66b-401c-a89a-1dc9464e275f",
   "metadata": {},
   "source": [
    "# Programming_Assingment4"
   ]
  },
  {
   "cell_type": "markdown",
   "id": "7817b217-91f1-464e-a673-b7b89c85f0f2",
   "metadata": {},
   "source": [
    "1.\tWrite a Python Program to Find the Factorial of a Number?"
   ]
  },
  {
   "cell_type": "code",
   "execution_count": 1,
   "id": "e52384eb-20a3-410d-a124-a1f95bc1fb62",
   "metadata": {},
   "outputs": [
    {
     "name": "stdin",
     "output_type": "stream",
     "text": [
      "Enter a number:  16\n"
     ]
    },
    {
     "name": "stdout",
     "output_type": "stream",
     "text": [
      "Factorial: 20922789888000\n"
     ]
    }
   ],
   "source": [
    "# To compute factorial of a given number\n",
    "def fact(n):\n",
    "    if n == 0:\n",
    "        return 1\n",
    "    else:\n",
    "        return n * fact(n - 1)\n",
    "    \n",
    "print('Factorial:', fact(int(input('Enter a number: '))))"
   ]
  },
  {
   "cell_type": "markdown",
   "id": "334f1209-d30e-4e7c-acae-30d536ca8a2e",
   "metadata": {},
   "source": [
    "2.\tWrite a Python Program to Display the multiplication Table?"
   ]
  },
  {
   "cell_type": "code",
   "execution_count": 2,
   "id": "67bfb4a4-a624-4776-a2f0-f78b08df4702",
   "metadata": {},
   "outputs": [
    {
     "name": "stdin",
     "output_type": "stream",
     "text": [
      "Enter a number whose table you would like:  23\n"
     ]
    },
    {
     "name": "stdout",
     "output_type": "stream",
     "text": [
      "23 x 1 = 23\n",
      "23 x 2 = 46\n",
      "23 x 3 = 69\n",
      "23 x 4 = 92\n",
      "23 x 5 = 115\n",
      "23 x 6 = 138\n",
      "23 x 7 = 161\n",
      "23 x 8 = 184\n",
      "23 x 9 = 207\n",
      "23 x 10 = 230\n"
     ]
    }
   ],
   "source": [
    "# Take user input for a number\n",
    "num = int(input('Enter a number whose table you would like: '))\n",
    "\n",
    "# Print the table\n",
    "for i in range(1, 11):\n",
    "    print(f'{num} x {i} = {num * i}')"
   ]
  },
  {
   "cell_type": "markdown",
   "id": "adca98df-243a-47ac-b0e7-05c847abf672",
   "metadata": {},
   "source": [
    "3.\tWrite a Python Program to Print the Fibonacci sequence?"
   ]
  },
  {
   "cell_type": "code",
   "execution_count": 3,
   "id": "a013af79-79b5-4432-91f8-bed2c558947a",
   "metadata": {},
   "outputs": [
    {
     "name": "stdin",
     "output_type": "stream",
     "text": [
      "Enter the number of terms for the sequence:  20\n"
     ]
    },
    {
     "name": "stdout",
     "output_type": "stream",
     "text": [
      "0 1 1 2 3 5 8 13 21 34 55 89 144 233 377 610 987 1597 2584 4181 "
     ]
    }
   ],
   "source": [
    "# Take user input for a number\n",
    "num = int(input('Enter the number of terms for the sequence: '))\n",
    "\n",
    "# First two terms\n",
    "n1, n2 = 0, 1\n",
    "count = 0\n",
    "\n",
    "# Generating the sequence\n",
    "if num == 1:\n",
    "    print(n1, end=' ')\n",
    "else:\n",
    "    while count < num:\n",
    "        print(n1, end=' ')\n",
    "        nth = n1 + n2\n",
    "        # update values\n",
    "        n1 = n2\n",
    "        n2 = nth\n",
    "        count += 1"
   ]
  },
  {
   "cell_type": "markdown",
   "id": "3c38997d-e6dd-4bff-b3f0-dd8f430632e5",
   "metadata": {},
   "source": [
    "4.\tWrite a Python Program to Check Armstrong Number?"
   ]
  },
  {
   "cell_type": "code",
   "execution_count": 4,
   "id": "22a0f710-2a7e-41ba-b295-84d687699c68",
   "metadata": {},
   "outputs": [
    {
     "name": "stdin",
     "output_type": "stream",
     "text": [
      "Enter a number:  153\n"
     ]
    },
    {
     "name": "stdout",
     "output_type": "stream",
     "text": [
      "153 is an armstrong number\n"
     ]
    }
   ],
   "source": [
    "# Take user input for a number\n",
    "n = input('Enter a number: ')\n",
    "add = 0\n",
    "\n",
    "for i in n:\n",
    "    add += int(i) ** len(n)\n",
    "\n",
    "# Check if armstrong or not\n",
    "if add == int(n):\n",
    "    print(n, 'is an armstrong number')\n",
    "else:\n",
    "    print(n, 'is not an armstrong number')"
   ]
  },
  {
   "cell_type": "markdown",
   "id": "010d67fe-338c-4362-80d6-fefacd25422c",
   "metadata": {},
   "source": [
    "5.\tWrite a Python Program to Find Armstrong Number in an Interval?"
   ]
  },
  {
   "cell_type": "code",
   "execution_count": 5,
   "id": "4ed550b6-3912-4e3a-9b81-9d5a17ac1db0",
   "metadata": {},
   "outputs": [
    {
     "name": "stdin",
     "output_type": "stream",
     "text": [
      "Enter the lower bound of the interval:  0\n",
      "Enter the upper bound of the interval:  10000\n"
     ]
    },
    {
     "name": "stdout",
     "output_type": "stream",
     "text": [
      "Armstrong numbers between 0 and 10000 are:\n",
      "0 1 2 3 4 5 6 7 8 9 153 370 371 407 1634 8208 9474 "
     ]
    }
   ],
   "source": [
    "# Take user input for the limits\n",
    "lower = int(input('Enter the lower bound of the interval: '))\n",
    "upper = int(input('Enter the upper bound of the interval: '))\n",
    "\n",
    "print('Armstrong numbers between', lower, 'and', upper, 'are:')\n",
    "\n",
    "for n in range(lower, upper + 1):\n",
    "    num = str(n)\n",
    "    total = 0\n",
    "    for i in num:\n",
    "        total += int(i) ** len(num)\n",
    "        \n",
    "    if total == n:\n",
    "        print(n, end=' ')"
   ]
  },
  {
   "cell_type": "markdown",
   "id": "399f2d8f-0689-42eb-98bb-6d20d0d3ffed",
   "metadata": {},
   "source": [
    "6.\tWrite a Python Program to Find the Sum of Natural Numbers?"
   ]
  },
  {
   "cell_type": "code",
   "execution_count": 6,
   "id": "247f473c-9988-4b38-b3a8-859be2a457f5",
   "metadata": {},
   "outputs": [
    {
     "name": "stdin",
     "output_type": "stream",
     "text": [
      "Enter a number:  20\n"
     ]
    },
    {
     "name": "stdout",
     "output_type": "stream",
     "text": [
      "Sum of first 20 natural numbers is: 210\n"
     ]
    }
   ],
   "source": [
    "# Take user input for a number\n",
    "n = int(input('Enter a number: '))\n",
    "\n",
    "# Print the sum of n natural numbers\n",
    "print(f'Sum of first {n} natural numbers is: {n*(n+1)//2}')"
   ]
  },
  {
   "cell_type": "code",
   "execution_count": null,
   "id": "2b7367d7-8d97-4e32-ae24-5189521a91ea",
   "metadata": {},
   "outputs": [],
   "source": []
  }
 ],
 "metadata": {
  "kernelspec": {
   "display_name": "Python 3 (ipykernel)",
   "language": "python",
   "name": "python3"
  },
  "language_info": {
   "codemirror_mode": {
    "name": "ipython",
    "version": 3
   },
   "file_extension": ".py",
   "mimetype": "text/x-python",
   "name": "python",
   "nbconvert_exporter": "python",
   "pygments_lexer": "ipython3",
   "version": "3.10.6"
  }
 },
 "nbformat": 4,
 "nbformat_minor": 5
}
