{
 "cells": [
  {
   "cell_type": "code",
   "execution_count": 2,
   "id": "c3375ad6-2e5d-4002-80c7-57c0698e0c96",
   "metadata": {},
   "outputs": [
    {
     "data": {
      "text/plain": [
       "26"
      ]
     },
     "execution_count": 2,
     "metadata": {},
     "output_type": "execute_result"
    }
   ],
   "source": [
    "s = 'This is basic python class'\n",
    "len(s)"
   ]
  },
  {
   "cell_type": "code",
   "execution_count": 3,
   "id": "4b547ef1-88b1-4c59-99c8-9051def4bc67",
   "metadata": {},
   "outputs": [
    {
     "name": "stdout",
     "output_type": "stream",
     "text": [
      "26\n"
     ]
    }
   ],
   "source": [
    "count = 0\n",
    "for i in s:\n",
    "    count += 1\n",
    "print(count)"
   ]
  },
  {
   "cell_type": "code",
   "execution_count": 4,
   "id": "b49c0951-0880-4b5d-905c-bf8491c0a884",
   "metadata": {},
   "outputs": [
    {
     "data": {
      "text/plain": [
       "'ssalc nohtyp cisab si sihT'"
      ]
     },
     "execution_count": 4,
     "metadata": {},
     "output_type": "execute_result"
    }
   ],
   "source": [
    "s[::-1]"
   ]
  },
  {
   "cell_type": "code",
   "execution_count": 11,
   "id": "4eb25ba5-45bb-44fd-b91c-9c7da0132e7a",
   "metadata": {},
   "outputs": [
    {
     "name": "stdout",
     "output_type": "stream",
     "text": [
      "ssalc nohtyp cisab si sihT"
     ]
    }
   ],
   "source": [
    "# While loop\n",
    "i = len(s) - 1\n",
    "while i >= 0:\n",
    "    print(s[i], end='')\n",
    "    i -= 1"
   ]
  },
  {
   "cell_type": "code",
   "execution_count": 14,
   "id": "1a7e364c-0edc-4254-9cab-5c34d10b7fa5",
   "metadata": {},
   "outputs": [
    {
     "name": "stdout",
     "output_type": "stream",
     "text": [
      "ssalc nohtyp cisab si sihT"
     ]
    }
   ],
   "source": [
    "# For loop\n",
    "for i in range(len(s) - 1, -1, -1):\n",
    "    print(s[i], end='')"
   ]
  },
  {
   "cell_type": "code",
   "execution_count": 17,
   "id": "3dd0bf21-1b0a-4126-aa67-1ee926c4b6fd",
   "metadata": {},
   "outputs": [
    {
     "name": "stdout",
     "output_type": "stream",
     "text": [
      "i is a vowel\n",
      "n is not a vowel\n",
      "e is a vowel\n",
      "u is a vowel\n",
      "r is not a vowel\n",
      "o is a vowel\n",
      "n is not a vowel\n"
     ]
    }
   ],
   "source": [
    "s = 'ineuron'\n",
    "v = 'AaEeIiOoUu'\n",
    "\n",
    "for i in s:\n",
    "    if i in v:\n",
    "        print(f'{i} is a vowel')\n",
    "    else:\n",
    "        print(f'{i} is not a vowel')"
   ]
  },
  {
   "cell_type": "code",
   "execution_count": 20,
   "id": "5223f051-6aa9-4da0-aa12-a274be787373",
   "metadata": {},
   "outputs": [
    {
     "data": {
      "text/plain": [
       "True"
      ]
     },
     "execution_count": 20,
     "metadata": {},
     "output_type": "execute_result"
    }
   ],
   "source": [
    "'s' in 'sudh'"
   ]
  },
  {
   "cell_type": "code",
   "execution_count": 5,
   "id": "6af479ab-d098-4ada-82dc-85f2ff338066",
   "metadata": {},
   "outputs": [
    {
     "name": "stdout",
     "output_type": "stream",
     "text": [
      "eye is palindrome\n"
     ]
    }
   ],
   "source": [
    "# Check if string is palindrome or not\n",
    "s = 'eye'\n",
    "reverse = ''\n",
    "\n",
    "for i in range(len(s) - 1, -1, -1):\n",
    "    reverse += s[i]\n",
    "\n",
    "if reverse == s:\n",
    "    print(s, 'is palindrome')\n",
    "else:\n",
    "    print(s, 'is not palindrome')"
   ]
  },
  {
   "cell_type": "code",
   "execution_count": 14,
   "id": "44879d23",
   "metadata": {},
   "outputs": [
    {
     "name": "stdout",
     "output_type": "stream",
     "text": [
      "sudh is not a palindrome\n"
     ]
    }
   ],
   "source": [
    "word = 'sudh'\n",
    "for i in range(len(word)):\n",
    "    if word[i] != word[len(word)-1-i]:\n",
    "        print(word, 'is not a palindrome')\n",
    "        break\n",
    "else:\n",
    "    print(word, 'is a palindrome')"
   ]
  },
  {
   "cell_type": "code",
   "execution_count": 16,
   "id": "3a26f55d",
   "metadata": {},
   "outputs": [],
   "source": [
    "d = {'india': 'IN', \n",
    "     'canada': 'CA',\n",
    "     'china':'CH',\n",
    "     'united states':'US'}"
   ]
  },
  {
   "cell_type": "code",
   "execution_count": 17,
   "id": "14f23322",
   "metadata": {},
   "outputs": [
    {
     "data": {
      "text/plain": [
       "True"
      ]
     },
     "execution_count": 17,
     "metadata": {},
     "output_type": "execute_result"
    }
   ],
   "source": [
    "'india' in d"
   ]
  },
  {
   "cell_type": "code",
   "execution_count": 37,
   "id": "566a6c6c",
   "metadata": {},
   "outputs": [
    {
     "data": {
      "text/plain": [
       "['india', 'china']"
      ]
     },
     "execution_count": 37,
     "metadata": {},
     "output_type": "execute_result"
    }
   ],
   "source": [
    "[x for x in d if len(x) <= 5]"
   ]
  },
  {
   "cell_type": "code",
   "execution_count": 38,
   "id": "5e29fc01",
   "metadata": {},
   "outputs": [
    {
     "data": {
      "text/plain": [
       "['canada', 'united states']"
      ]
     },
     "execution_count": 38,
     "metadata": {},
     "output_type": "execute_result"
    }
   ],
   "source": [
    "[x for x in d if len(x) > 5]"
   ]
  },
  {
   "cell_type": "code",
   "execution_count": 64,
   "id": "307eb099",
   "metadata": {},
   "outputs": [],
   "source": [
    "d_1 = {'ineuron': {'a': 14,\n",
    "                   'b': 10,\n",
    "                   'c': 4\n",
    "                  },\n",
    "       'course': {'d': 45,\n",
    "                  'e': 34,\n",
    "                  'f': 1\n",
    "                 }\n",
    "      }"
   ]
  },
  {
   "cell_type": "code",
   "execution_count": 65,
   "id": "1f01ef58",
   "metadata": {},
   "outputs": [
    {
     "data": {
      "text/plain": [
       "[14, 45]"
      ]
     },
     "execution_count": 65,
     "metadata": {},
     "output_type": "execute_result"
    }
   ],
   "source": [
    "# for i in d_1.values():\n",
    "#     print(max(i.values()))\n",
    "[max(i.values()) for i in d_1.values()]"
   ]
  },
  {
   "cell_type": "code",
   "execution_count": 66,
   "id": "65d37a62",
   "metadata": {},
   "outputs": [],
   "source": [
    "d_1 = {'ineuron': {'a': 14,\n",
    "                   'b': 10,\n",
    "                   'c': 4\n",
    "                  },\n",
    "       'course': {'d': 45,\n",
    "                  'e': 34,\n",
    "                  'f': 1\n",
    "                 },\n",
    "       'g': 34,\n",
    "       'h': [45, 6, 7, 8, 9, 3],\n",
    "       'i': (45, 34, 2),\n",
    "       'k': 'sudh'\n",
    "      }"
   ]
  },
  {
   "cell_type": "code",
   "execution_count": 68,
   "id": "5d35f0d0",
   "metadata": {},
   "outputs": [
    {
     "name": "stdout",
     "output_type": "stream",
     "text": [
      "45\n"
     ]
    }
   ],
   "source": [
    "l = []\n",
    "for i in d_1.values():\n",
    "    if type(i) != str:\n",
    "        if type(i) == dict:\n",
    "            l.append(max(i.values()))\n",
    "        elif type(i) == int:\n",
    "            l.append(i)\n",
    "        else:\n",
    "            l.append(max(i))\n",
    "print(max(l))"
   ]
  },
  {
   "cell_type": "code",
   "execution_count": null,
   "id": "80da37ac",
   "metadata": {},
   "outputs": [],
   "source": []
  }
 ],
 "metadata": {
  "kernelspec": {
   "display_name": "Python 3 (ipykernel)",
   "language": "python",
   "name": "python3"
  },
  "language_info": {
   "codemirror_mode": {
    "name": "ipython",
    "version": 3
   },
   "file_extension": ".py",
   "mimetype": "text/x-python",
   "name": "python",
   "nbconvert_exporter": "python",
   "pygments_lexer": "ipython3",
   "version": "3.9.13"
  }
 },
 "nbformat": 4,
 "nbformat_minor": 5
}
