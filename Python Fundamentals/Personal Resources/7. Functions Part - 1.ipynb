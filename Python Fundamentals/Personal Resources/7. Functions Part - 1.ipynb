{
 "cells": [
  {
   "cell_type": "code",
   "execution_count": 1,
   "id": "fad6ad02",
   "metadata": {},
   "outputs": [
    {
     "data": {
      "text/plain": [
       "4"
      ]
     },
     "execution_count": 1,
     "metadata": {},
     "output_type": "execute_result"
    }
   ],
   "source": [
    "len('sudh')"
   ]
  },
  {
   "cell_type": "code",
   "execution_count": 2,
   "id": "d811f0d2",
   "metadata": {},
   "outputs": [
    {
     "name": "stdout",
     "output_type": "stream",
     "text": [
      "dkjbnjvndjbndlbksn\n"
     ]
    }
   ],
   "source": [
    "print('dkjbnjvndjbndlbksn')"
   ]
  },
  {
   "cell_type": "code",
   "execution_count": 3,
   "id": "6d1dc225",
   "metadata": {},
   "outputs": [],
   "source": [
    "def test():\n",
    "    pass"
   ]
  },
  {
   "cell_type": "code",
   "execution_count": 4,
   "id": "ab631ff1",
   "metadata": {},
   "outputs": [],
   "source": [
    "def test1():\n",
    "    print('this is my first fun')"
   ]
  },
  {
   "cell_type": "code",
   "execution_count": 5,
   "id": "1fb0e327",
   "metadata": {},
   "outputs": [
    {
     "name": "stdout",
     "output_type": "stream",
     "text": [
      "this is my first fun\n"
     ]
    }
   ],
   "source": [
    "test1()"
   ]
  },
  {
   "cell_type": "code",
   "execution_count": 6,
   "id": "5ef55dfd",
   "metadata": {},
   "outputs": [
    {
     "name": "stdout",
     "output_type": "stream",
     "text": [
      "this is my first fun\n"
     ]
    }
   ],
   "source": [
    "test1()"
   ]
  },
  {
   "cell_type": "code",
   "execution_count": 7,
   "id": "3b1efe39",
   "metadata": {},
   "outputs": [
    {
     "name": "stdout",
     "output_type": "stream",
     "text": [
      "this is my first fun\n"
     ]
    }
   ],
   "source": [
    "test1()"
   ]
  },
  {
   "cell_type": "code",
   "execution_count": 8,
   "id": "eac6baae",
   "metadata": {},
   "outputs": [
    {
     "name": "stdout",
     "output_type": "stream",
     "text": [
      "this is my first fun\n"
     ]
    }
   ],
   "source": [
    "a = test1()"
   ]
  },
  {
   "cell_type": "code",
   "execution_count": 9,
   "id": "ee962231",
   "metadata": {},
   "outputs": [],
   "source": [
    "a"
   ]
  },
  {
   "cell_type": "code",
   "execution_count": 11,
   "id": "65a8d8f5",
   "metadata": {},
   "outputs": [
    {
     "name": "stdout",
     "output_type": "stream",
     "text": [
      "this is my first fun\n"
     ]
    },
    {
     "ename": "TypeError",
     "evalue": "unsupported operand type(s) for +: 'NoneType' and 'str'",
     "output_type": "error",
     "traceback": [
      "\u001b[1;31m---------------------------------------------------------------------------\u001b[0m",
      "\u001b[1;31mTypeError\u001b[0m                                 Traceback (most recent call last)",
      "\u001b[1;32m~\\AppData\\Local\\Temp\\ipykernel_220\\2353928779.py\u001b[0m in \u001b[0;36m<module>\u001b[1;34m\u001b[0m\n\u001b[1;32m----> 1\u001b[1;33m \u001b[0mtest1\u001b[0m\u001b[1;33m(\u001b[0m\u001b[1;33m)\u001b[0m \u001b[1;33m+\u001b[0m \u001b[1;34m'sudh'\u001b[0m\u001b[1;33m\u001b[0m\u001b[1;33m\u001b[0m\u001b[0m\n\u001b[0m\u001b[0;32m      2\u001b[0m \u001b[1;31m# a + 'sudh'\u001b[0m\u001b[1;33m\u001b[0m\u001b[1;33m\u001b[0m\u001b[0m\n",
      "\u001b[1;31mTypeError\u001b[0m: unsupported operand type(s) for +: 'NoneType' and 'str'"
     ]
    }
   ],
   "source": [
    "test1() + 'sudh'\n",
    "# a + 'sudh'"
   ]
  },
  {
   "cell_type": "code",
   "execution_count": 13,
   "id": "31f96b74",
   "metadata": {},
   "outputs": [
    {
     "data": {
      "text/plain": [
       "'sudhkumar'"
      ]
     },
     "execution_count": 13,
     "metadata": {},
     "output_type": "execute_result"
    }
   ],
   "source": [
    "'sudh' + 'kumar'"
   ]
  },
  {
   "cell_type": "code",
   "execution_count": 14,
   "id": "6998879c",
   "metadata": {},
   "outputs": [
    {
     "name": "stdout",
     "output_type": "stream",
     "text": [
      "this is my first fun\n"
     ]
    },
    {
     "data": {
      "text/plain": [
       "NoneType"
      ]
     },
     "execution_count": 14,
     "metadata": {},
     "output_type": "execute_result"
    }
   ],
   "source": [
    "type(test1())"
   ]
  },
  {
   "cell_type": "code",
   "execution_count": 15,
   "id": "e09fc186",
   "metadata": {},
   "outputs": [
    {
     "name": "stdout",
     "output_type": "stream",
     "text": [
      "this is my first fun\n"
     ]
    }
   ],
   "source": [
    "a = test1()"
   ]
  },
  {
   "cell_type": "code",
   "execution_count": 16,
   "id": "3ba01caa",
   "metadata": {},
   "outputs": [
    {
     "data": {
      "text/plain": [
       "'None'"
      ]
     },
     "execution_count": 16,
     "metadata": {},
     "output_type": "execute_result"
    }
   ],
   "source": [
    "str(a)"
   ]
  },
  {
   "cell_type": "code",
   "execution_count": 17,
   "id": "31578fc9",
   "metadata": {},
   "outputs": [],
   "source": [
    "def test2():\n",
    "    return 'this is my first fun'"
   ]
  },
  {
   "cell_type": "code",
   "execution_count": 18,
   "id": "5ae5a24f",
   "metadata": {},
   "outputs": [
    {
     "data": {
      "text/plain": [
       "'this is my first fun'"
      ]
     },
     "execution_count": 18,
     "metadata": {},
     "output_type": "execute_result"
    }
   ],
   "source": [
    "test2()"
   ]
  },
  {
   "cell_type": "code",
   "execution_count": 19,
   "id": "5522398f",
   "metadata": {},
   "outputs": [
    {
     "data": {
      "text/plain": [
       "str"
      ]
     },
     "execution_count": 19,
     "metadata": {},
     "output_type": "execute_result"
    }
   ],
   "source": [
    "type(test2())"
   ]
  },
  {
   "cell_type": "code",
   "execution_count": 20,
   "id": "9ef6be85",
   "metadata": {},
   "outputs": [
    {
     "data": {
      "text/plain": [
       "'this is my first funsudh'"
      ]
     },
     "execution_count": 20,
     "metadata": {},
     "output_type": "execute_result"
    }
   ],
   "source": [
    "test2() + 'sudh'"
   ]
  },
  {
   "cell_type": "code",
   "execution_count": 21,
   "id": "92089e34",
   "metadata": {},
   "outputs": [],
   "source": [
    "def test3():\n",
    "    return 235435"
   ]
  },
  {
   "cell_type": "code",
   "execution_count": 22,
   "id": "49e10d2f",
   "metadata": {},
   "outputs": [
    {
     "data": {
      "text/plain": [
       "235435"
      ]
     },
     "execution_count": 22,
     "metadata": {},
     "output_type": "execute_result"
    }
   ],
   "source": [
    "test3()"
   ]
  },
  {
   "cell_type": "code",
   "execution_count": 23,
   "id": "274732ea",
   "metadata": {},
   "outputs": [
    {
     "data": {
      "text/plain": [
       "int"
      ]
     },
     "execution_count": 23,
     "metadata": {},
     "output_type": "execute_result"
    }
   ],
   "source": [
    "type(test3())"
   ]
  },
  {
   "cell_type": "code",
   "execution_count": 24,
   "id": "ac43c78d",
   "metadata": {},
   "outputs": [],
   "source": [
    "def test4():\n",
    "    return 4, 3, 'sudh', [1, 2, 3, 4, 5]"
   ]
  },
  {
   "cell_type": "code",
   "execution_count": 27,
   "id": "93a4f5de",
   "metadata": {},
   "outputs": [],
   "source": [
    "b = test4()"
   ]
  },
  {
   "cell_type": "code",
   "execution_count": 28,
   "id": "7071e710",
   "metadata": {},
   "outputs": [
    {
     "data": {
      "text/plain": [
       "(4, 3, 'sudh', [1, 2, 3, 4, 5])"
      ]
     },
     "execution_count": 28,
     "metadata": {},
     "output_type": "execute_result"
    }
   ],
   "source": [
    "b"
   ]
  },
  {
   "cell_type": "code",
   "execution_count": 29,
   "id": "72b5322b",
   "metadata": {},
   "outputs": [
    {
     "data": {
      "text/plain": [
       "3"
      ]
     },
     "execution_count": 29,
     "metadata": {},
     "output_type": "execute_result"
    }
   ],
   "source": [
    "b[1]"
   ]
  },
  {
   "cell_type": "code",
   "execution_count": 30,
   "id": "da5508bb",
   "metadata": {},
   "outputs": [
    {
     "data": {
      "text/plain": [
       "[1, 2, 3, 4, 5]"
      ]
     },
     "execution_count": 30,
     "metadata": {},
     "output_type": "execute_result"
    }
   ],
   "source": [
    "b[-1]"
   ]
  },
  {
   "cell_type": "code",
   "execution_count": 31,
   "id": "e703f00a",
   "metadata": {},
   "outputs": [],
   "source": [
    "x, y, u, v = test4()"
   ]
  },
  {
   "cell_type": "code",
   "execution_count": 32,
   "id": "fbfdef77",
   "metadata": {},
   "outputs": [
    {
     "data": {
      "text/plain": [
       "4"
      ]
     },
     "execution_count": 32,
     "metadata": {},
     "output_type": "execute_result"
    }
   ],
   "source": [
    "x"
   ]
  },
  {
   "cell_type": "code",
   "execution_count": 33,
   "id": "ebc7adaf",
   "metadata": {},
   "outputs": [
    {
     "data": {
      "text/plain": [
       "3"
      ]
     },
     "execution_count": 33,
     "metadata": {},
     "output_type": "execute_result"
    }
   ],
   "source": [
    "y"
   ]
  },
  {
   "cell_type": "code",
   "execution_count": 34,
   "id": "040d5410",
   "metadata": {},
   "outputs": [
    {
     "data": {
      "text/plain": [
       "'sudh'"
      ]
     },
     "execution_count": 34,
     "metadata": {},
     "output_type": "execute_result"
    }
   ],
   "source": [
    "u"
   ]
  },
  {
   "cell_type": "code",
   "execution_count": 35,
   "id": "01f59abe",
   "metadata": {},
   "outputs": [
    {
     "data": {
      "text/plain": [
       "[1, 2, 3, 4, 5]"
      ]
     },
     "execution_count": 35,
     "metadata": {},
     "output_type": "execute_result"
    }
   ],
   "source": [
    "v"
   ]
  },
  {
   "cell_type": "code",
   "execution_count": 36,
   "id": "1bfaacca",
   "metadata": {},
   "outputs": [],
   "source": [
    "def test5():\n",
    "    a = 6 * 7 / 6\n",
    "    return a"
   ]
  },
  {
   "cell_type": "code",
   "execution_count": 37,
   "id": "83a91e7d",
   "metadata": {},
   "outputs": [
    {
     "data": {
      "text/plain": [
       "7.0"
      ]
     },
     "execution_count": 37,
     "metadata": {},
     "output_type": "execute_result"
    }
   ],
   "source": [
    "test5()"
   ]
  },
  {
   "cell_type": "code",
   "execution_count": 38,
   "id": "fbb7742b",
   "metadata": {},
   "outputs": [
    {
     "data": {
      "text/plain": [
       "5"
      ]
     },
     "execution_count": 38,
     "metadata": {},
     "output_type": "execute_result"
    }
   ],
   "source": [
    "len('fsdfs')"
   ]
  },
  {
   "cell_type": "code",
   "execution_count": 39,
   "id": "783fc7aa",
   "metadata": {},
   "outputs": [],
   "source": [
    "l = [3, 4, 5, 6, 7, 7, 'sudh', [1, 3, 4, 54, 56]]"
   ]
  },
  {
   "cell_type": "code",
   "execution_count": 40,
   "id": "25040d13",
   "metadata": {},
   "outputs": [
    {
     "data": {
      "text/plain": [
       "[3, 4, 5, 6, 7, 7]"
      ]
     },
     "execution_count": 40,
     "metadata": {},
     "output_type": "execute_result"
    }
   ],
   "source": [
    "# List Comprehension\n",
    "[x for x in l if type(x) == int]"
   ]
  },
  {
   "cell_type": "code",
   "execution_count": 49,
   "id": "74f410c5",
   "metadata": {},
   "outputs": [],
   "source": [
    "def filt(l):\n",
    "    l1 = []\n",
    "    if type(l) == list:\n",
    "        for i in l:\n",
    "            if type(i) == int:\n",
    "                l1.append(i)\n",
    "    return l1"
   ]
  },
  {
   "cell_type": "code",
   "execution_count": 50,
   "id": "e32216f8",
   "metadata": {},
   "outputs": [
    {
     "data": {
      "text/plain": [
       "[3, 4, 5, 6, 7, 7]"
      ]
     },
     "execution_count": 50,
     "metadata": {},
     "output_type": "execute_result"
    }
   ],
   "source": [
    "filt(l)"
   ]
  },
  {
   "cell_type": "code",
   "execution_count": 51,
   "id": "4a60585a",
   "metadata": {},
   "outputs": [
    {
     "data": {
      "text/plain": [
       "[]"
      ]
     },
     "execution_count": 51,
     "metadata": {},
     "output_type": "execute_result"
    }
   ],
   "source": [
    "filt('sudh')"
   ]
  },
  {
   "cell_type": "code",
   "execution_count": 52,
   "id": "ab51ded5",
   "metadata": {},
   "outputs": [],
   "source": [
    "def key(d):\n",
    "    if type(d) == dict:\n",
    "        return list(d.keys())\n",
    "    else:\n",
    "        return 'you have not passed a dicionary'"
   ]
  },
  {
   "cell_type": "code",
   "execution_count": 53,
   "id": "9f58d63f",
   "metadata": {},
   "outputs": [
    {
     "data": {
      "text/plain": [
       "'you have not passed a dicionary'"
      ]
     },
     "execution_count": 53,
     "metadata": {},
     "output_type": "execute_result"
    }
   ],
   "source": [
    "key('viasnvinv')"
   ]
  },
  {
   "cell_type": "code",
   "execution_count": 54,
   "id": "30c7dec3",
   "metadata": {},
   "outputs": [
    {
     "data": {
      "text/plain": [
       "['a', 'b', 'c']"
      ]
     },
     "execution_count": 54,
     "metadata": {},
     "output_type": "execute_result"
    }
   ],
   "source": [
    "key({'a': 'dsfsf', 'b': 2354234, 'c': [4, 5, 76, 78]})"
   ]
  },
  {
   "cell_type": "code",
   "execution_count": 55,
   "id": "1fba94d1",
   "metadata": {},
   "outputs": [],
   "source": [
    "def add_two_lists(l1, l2):\n",
    "    if type(l1) == list and type(l2) == list:\n",
    "        # l1.exend(l2) also works\n",
    "        return l1 + l2\n",
    "    else:\n",
    "        return 'make sure to pass both arguments as list'"
   ]
  },
  {
   "cell_type": "code",
   "execution_count": 57,
   "id": "e54e091c",
   "metadata": {},
   "outputs": [
    {
     "ename": "TypeError",
     "evalue": "add_two_lists() missing 1 required positional argument: 'l2'",
     "output_type": "error",
     "traceback": [
      "\u001b[1;31m---------------------------------------------------------------------------\u001b[0m",
      "\u001b[1;31mTypeError\u001b[0m                                 Traceback (most recent call last)",
      "\u001b[1;32m~\\AppData\\Local\\Temp\\ipykernel_220\\511567801.py\u001b[0m in \u001b[0;36m<module>\u001b[1;34m\u001b[0m\n\u001b[1;32m----> 1\u001b[1;33m \u001b[0madd_two_lists\u001b[0m\u001b[1;33m(\u001b[0m\u001b[1;36m345\u001b[0m\u001b[1;33m)\u001b[0m\u001b[1;33m\u001b[0m\u001b[1;33m\u001b[0m\u001b[0m\n\u001b[0m",
      "\u001b[1;31mTypeError\u001b[0m: add_two_lists() missing 1 required positional argument: 'l2'"
     ]
    }
   ],
   "source": [
    "add_two_lists(345)"
   ]
  },
  {
   "cell_type": "code",
   "execution_count": 58,
   "id": "a7f74dca",
   "metadata": {},
   "outputs": [
    {
     "data": {
      "text/plain": [
       "'make sure to pass both arguments as list'"
      ]
     },
     "execution_count": 58,
     "metadata": {},
     "output_type": "execute_result"
    }
   ],
   "source": [
    "add_two_lists(34234, 'dhavbs')"
   ]
  },
  {
   "cell_type": "code",
   "execution_count": 56,
   "id": "33214344",
   "metadata": {},
   "outputs": [
    {
     "data": {
      "text/plain": [
       "[1, 2, 3, 4, 5, 6]"
      ]
     },
     "execution_count": 56,
     "metadata": {},
     "output_type": "execute_result"
    }
   ],
   "source": [
    "add_two_lists([1, 2, 3], [4, 5, 6])"
   ]
  },
  {
   "cell_type": "code",
   "execution_count": 60,
   "id": "6bab620a",
   "metadata": {},
   "outputs": [],
   "source": [
    "def pattern(n):\n",
    "    for i in range(n):\n",
    "        print('*' * (i + 1))"
   ]
  },
  {
   "cell_type": "code",
   "execution_count": 61,
   "id": "72a5a113",
   "metadata": {},
   "outputs": [
    {
     "name": "stdout",
     "output_type": "stream",
     "text": [
      "*\n",
      "**\n",
      "***\n"
     ]
    }
   ],
   "source": [
    "pattern(3)"
   ]
  },
  {
   "cell_type": "code",
   "execution_count": 72,
   "id": "42fd6392",
   "metadata": {},
   "outputs": [],
   "source": [
    "def create_pyramid(n):\n",
    "    '''\n",
    "    This is a function which will help you to create a pyramid with n rows\n",
    "    '''\n",
    "    for i in range(1, n + 1):\n",
    "        for j in range(1, 2*n):\n",
    "            if j in range(n - (i - 1), n + i, 2):\n",
    "                    print('*', end='')\n",
    "            else:\n",
    "                print(end=' ')\n",
    "        print()"
   ]
  },
  {
   "cell_type": "code",
   "execution_count": 73,
   "id": "dbf5b046",
   "metadata": {},
   "outputs": [
    {
     "name": "stdout",
     "output_type": "stream",
     "text": [
      "   *   \n",
      "  * *  \n",
      " * * * \n",
      "* * * *\n"
     ]
    }
   ],
   "source": [
    "create_pyramid(4)"
   ]
  },
  {
   "cell_type": "code",
   "execution_count": 76,
   "id": "af4b284b",
   "metadata": {},
   "outputs": [
    {
     "name": "stdout",
     "output_type": "stream",
     "text": [
      "Help on built-in function print in module builtins:\n",
      "\n",
      "print(...)\n",
      "    print(value, ..., sep=' ', end='\\n', file=sys.stdout, flush=False)\n",
      "    \n",
      "    Prints the values to a stream, or to sys.stdout by default.\n",
      "    Optional keyword arguments:\n",
      "    file:  a file-like object (stream); defaults to the current sys.stdout.\n",
      "    sep:   string inserted between values, default a space.\n",
      "    end:   string appended after the last value, default a newline.\n",
      "    flush: whether to forcibly flush the stream.\n",
      "\n"
     ]
    }
   ],
   "source": [
    "help(print)"
   ]
  },
  {
   "cell_type": "code",
   "execution_count": 77,
   "id": "184878df",
   "metadata": {},
   "outputs": [
    {
     "name": "stdout",
     "output_type": "stream",
     "text": [
      "Help on function create_pyramid in module __main__:\n",
      "\n",
      "create_pyramid(n)\n",
      "    This is a function which will help you to create a pyramid with n rows\n",
      "\n"
     ]
    }
   ],
   "source": [
    "help(create_pyramid)"
   ]
  },
  {
   "cell_type": "markdown",
   "id": "63271d54",
   "metadata": {},
   "source": [
    "#### Tasks\n",
    "1. Write a function which will take string and return a length of it without using an inbuilt function    len\n",
    "2. Write a function which will be able to print an index of all the primitive element which you will      pass\n",
    "3. Write a function which will take input as a dictionary and give me output as a list of all the          values even in the case of 2 level nesting it should work.\n",
    "4. Write a function which will take another function as an input and return me an output \n",
    "5. Write a function which will take  multiple lists as an input and give me concatenation of all the      elements as an output.\n",
    "6. Write a function which will be able to take a list as an input and return an index of each element      like the builtin index function but even if we have a repetitive element it should return index\n",
    "7. Write a function which will return list of all the file name from a dictionary.\n",
    "8. Write a funcntion which will be able to show your system configuration. \n",
    "9. Write a function which will be able to show date and time.\n",
    "10. Write a function which will be able to read an image file and show it to you.\n",
    "11. Write a function which can read video file and play for you.\n",
    "12. Write a function which can move a file from one directory to another directory. \n",
    "13. Write a function which will be able to shutdown your system.\n",
    "14. Write a function which will be able to access your mail.\n",
    "15. Write a function by which I can send a mail to anyone.\n",
    "16. Write a function to read a complete PDF file.\n",
    "17. Write a function to read a word file.\n",
    "18. Write a function which can help you to filter only word file from a directory.\n",
    "19. Write a function by which you can print the IP address of your system.\n",
    "20. Write a function by which you will be able to append two PDF files."
   ]
  },
  {
   "cell_type": "code",
   "execution_count": 89,
   "id": "41373d3d",
   "metadata": {},
   "outputs": [
    {
     "name": "stdout",
     "output_type": "stream",
     "text": [
      "10\n"
     ]
    }
   ],
   "source": [
    "# Write a function which will take string and return a length of it without using an inbuilt function len\n",
    "def length(s):\n",
    "    '''Return the length of a string'''\n",
    "    l = 0\n",
    "    for i in s:\n",
    "        l += 1\n",
    "    return l\n",
    "\n",
    "print(length('I love you'))"
   ]
  },
  {
   "cell_type": "code",
   "execution_count": 88,
   "id": "bc18f837",
   "metadata": {},
   "outputs": [
    {
     "name": "stdout",
     "output_type": "stream",
     "text": [
      "98 has index 0\n",
      "45j has index 1\n",
      "[1, 2, 3] has index 2\n"
     ]
    }
   ],
   "source": [
    "# Write a function which will be able to print an index of all the primitive element which you will pass\n",
    "def index(n):\n",
    "    '''Print the index of the elements in an iterable that is passed'''\n",
    "    if type(n) in [list, tuple, str]:\n",
    "        for index, value in enumerate(n):\n",
    "            print(f'{value} has index {index}')\n",
    "    else:\n",
    "        print('Make sure to pass the right iterable object')\n",
    "\n",
    "index((98, 45j, [1, 2, 3]))"
   ]
  },
  {
   "cell_type": "code",
   "execution_count": 2,
   "id": "f11686da",
   "metadata": {},
   "outputs": [
    {
     "data": {
      "text/plain": [
       "[4, 6, 7, 8, 5, 8, 4, 9]"
      ]
     },
     "execution_count": 2,
     "metadata": {},
     "output_type": "execute_result"
    }
   ],
   "source": [
    "# Write a function which will take input as a dictionary and give me output as a list of all the values \n",
    "# even in the case of 2 level nesting it should work.\n",
    "l = []\n",
    "def dict_values(d):\n",
    "    \"\"\"List of all the values in a dictionary\"\"\"\n",
    "    for i in d.values():\n",
    "        if type(i) != dict:\n",
    "            l.append(i)\n",
    "        else:\n",
    "            dict_values(i)\n",
    "    return l\n",
    "    \n",
    "    \n",
    "dict_values({'a': 4, \n",
    "             'b': 6, \n",
    "             'c': {'d': 7, 'e': 8, 'f':{'g': 5, 'h': 8, 'i':{'j': 4, 'k': 9}}}})"
   ]
  },
  {
   "cell_type": "code",
   "execution_count": 3,
   "id": "34dc85ee",
   "metadata": {},
   "outputs": [
    {
     "name": "stdout",
     "output_type": "stream",
     "text": [
      "hippity hoppity!!\n"
     ]
    }
   ],
   "source": [
    "# Write a function which will take another function as an input and return me an output\n",
    "def test2(fun):\n",
    "    \"\"\"Takes another function as an input and perfrom tasks accordingly\"\"\"\n",
    "    return fun()\n",
    "    \n",
    "def test1():\n",
    "    return 'hippity hoppity!!'\n",
    "\n",
    "print(test2(test1))"
   ]
  },
  {
   "cell_type": "code",
   "execution_count": 3,
   "id": "60fbe758",
   "metadata": {},
   "outputs": [
    {
     "name": "stdout",
     "output_type": "stream",
     "text": [
      "[1, 2, 3, 4, 5, 6, 7, 8, 9]\n"
     ]
    }
   ],
   "source": [
    "# Write a function which will take multiple lists as an input and give me concatenation of \n",
    "# all the elements as an output.\n",
    "def concatenate_lists(*args):\n",
    "    \"\"\"Returns a concatenation of all the lists passed as input\"\"\"\n",
    "    value = []\n",
    "    for i in args:\n",
    "        value += i\n",
    "    return value\n",
    "\n",
    "print(concatenate_lists([1, 2, 3], [4, 5, 6], [7, 8, 9]))    "
   ]
  },
  {
   "cell_type": "code",
   "execution_count": 105,
   "id": "54cf15bc",
   "metadata": {},
   "outputs": [
    {
     "name": "stdout",
     "output_type": "stream",
     "text": [
      "1 has index of 0\n",
      "2 has index of 1\n",
      "1 has index of 2\n",
      "2 has index of 3\n",
      "3 has index of 4\n",
      "4 has index of 5\n",
      "3 has index of 6\n",
      "1 has index of 7\n"
     ]
    }
   ],
   "source": [
    "# Write a function which will be able to take a list as an input and return an index of each element \n",
    "# like the builtin index function but even if we have a repetitive element it should return index\n",
    "def get_index(l):\n",
    "    \"\"\"Return the index of each element in a list, even for those elements which occur more than once\"\"\"\n",
    "    for i, j in enumerate(l):\n",
    "        print(f'{j} has index of {i}')\n",
    "\n",
    "get_index([1, 2, 1, 2, 3, 4, 3, 1])"
   ]
  },
  {
   "cell_type": "code",
   "execution_count": 112,
   "id": "662f35a7",
   "metadata": {},
   "outputs": [
    {
     "name": "stdout",
     "output_type": "stream",
     "text": [
      "Enter a directory (folder) path: D:\\Cool Images\n",
      "Files and directories in D:\\Cool Images is\n",
      "['1337.jpg', '20210923_103811.jpg', '5-Yato-profile-picture.png', '790ce320-e059-44a2-a0c9-d94393906046.jpeg', 'a.jpg', 'New folder', 'pexels-baskin-creative-studios-1766838.jpg', 'pexels-quintin-gellar-313782.jpg', 'places', 'Screenshot (1385).png', 'web_banner.jpeg']\n"
     ]
    }
   ],
   "source": [
    "# Write a function which will return list of all the file name from a dictionary.\n",
    "import os\n",
    "\n",
    "def dir_list(path):\n",
    "    \"\"\"Returns the list of all the file and folders from a directory\"\"\"\n",
    "    return os.listdir(path)\n",
    "            \n",
    "path = input('Enter a directory (folder) path: ')\n",
    "if os.path.exists(path):\n",
    "    print(f'Files and directories in {path} is\\n{dir_list(path)}')\n",
    "else:\n",
    "    print('The specified directory does not exist')"
   ]
  },
  {
   "cell_type": "code",
   "execution_count": 14,
   "id": "3ab3ca68",
   "metadata": {},
   "outputs": [
    {
     "name": "stdout",
     "output_type": "stream",
     "text": [
      "OS Name: Microsoft Windows 10 Pro\n",
      "OS Version: 10.0.19045 19045\n",
      "CPU: Intel(R) Core(TM) i5-7200U CPU @ 2.50GHz\n",
      "RAM: 11.877574920654297 GB\n",
      "Graphics Card: NVIDIA GeForce 920MX\n"
     ]
    }
   ],
   "source": [
    "# Write a funcntion which will be able to show your system configuration. (RAM, processor, GPU)\n",
    "import wmi\n",
    "\n",
    "def sys_config():\n",
    "    \"\"\"Print the system configuration (RAM, processor, GPU etc.)\"\"\"\n",
    "    computer = wmi.WMI()\n",
    "    computer_info = computer.Win32_ComputerSystem()[0]\n",
    "    os_info = computer.Win32_OperatingSystem()[0]\n",
    "    proc_info = computer.Win32_Processor()[0]\n",
    "    gpu_info = computer.Win32_VideoController()[0]\n",
    "\n",
    "    os_name = os_info.Name.encode('utf-8').split(b'|')[0].decode('utf-8')\n",
    "    os_version = ' '.join([os_info.Version, os_info.BuildNumber])\n",
    "    system_ram = float(os_info.TotalVisibleMemorySize) / 1048576\n",
    "\n",
    "    print(f'OS Name: {os_name}')\n",
    "    print(f'OS Version: {os_version}')\n",
    "    print(f'CPU: {proc_info.Name}')\n",
    "    print(f'RAM: {system_ram} GB')\n",
    "    print(f'Graphics Card: {gpu_info.Name}')\n",
    "\n",
    "\n",
    "sys_config()"
   ]
  },
  {
   "cell_type": "code",
   "execution_count": 5,
   "id": "829a84dd",
   "metadata": {},
   "outputs": [
    {
     "name": "stdout",
     "output_type": "stream",
     "text": [
      "27/12/2022 14:25:16\n"
     ]
    }
   ],
   "source": [
    "# Write a function which will be able to show date and time.\n",
    "from datetime import datetime \n",
    "\n",
    "def date_and_time():\n",
    "    \"\"\"Returns current date and time\"\"\"\n",
    "    # datetime object containing current date and time\n",
    "    now = datetime.now()\n",
    "\n",
    "    # dd/mm/YY H:M:S\n",
    "    dt_string = now.strftime(\"%d/%m/%Y %H:%M:%S\")\n",
    "    return dt_string\n",
    "\n",
    "print(date_and_time())"
   ]
  },
  {
   "cell_type": "code",
   "execution_count": 13,
   "id": "d3b9b2f0",
   "metadata": {},
   "outputs": [
    {
     "name": "stdout",
     "output_type": "stream",
     "text": [
      "Enter a directory (folder) path: D:\\Cool Images\n",
      "Enter the image file name: 1337.jpg\n"
     ]
    }
   ],
   "source": [
    "# Write a function which will be able to read an image file and show it to you.\n",
    "from PIL import Image\n",
    "\n",
    "def show(p):\n",
    "    \"\"\"Read and show the image from its path\"\"\"\n",
    "    # Read image from it's path\n",
    "    img = Image.open(p)\n",
    "    # Show picture\n",
    "    img.show()\n",
    "    \n",
    "path = input('Enter a directory (folder) path: ')\n",
    "file = input('Enter the image file name: ')\n",
    "show(path + '\\\\' + file)"
   ]
  },
  {
   "cell_type": "code",
   "execution_count": 15,
   "id": "4ac05fd3",
   "metadata": {},
   "outputs": [
    {
     "name": "stdout",
     "output_type": "stream",
     "text": [
      "Enter a directory (folder) path: D:\\Cool Images\\New folder\n",
      "Enter the video file name: 20220818_224643.mp4\n"
     ]
    }
   ],
   "source": [
    "# Write a function which can read video file and play for you\n",
    "import cv2\n",
    "\n",
    "def play_videoFile(filePath, mirror=False):\n",
    "    \"\"\"Read and play a video file from the specified path\"\"\"\n",
    "    cap = cv2.VideoCapture(filePath)\n",
    "    cv2.namedWindow('Video Life2Coding',cv2.WINDOW_AUTOSIZE)\n",
    "    while True:\n",
    "        ret_val, frame = cap.read()\n",
    "        if mirror:\n",
    "            frame = cv2.flip(frame, 1)\n",
    "        cv2.imshow('Video Life2Coding', frame)\n",
    "        if cv2.waitKey(1) == 27:\n",
    "            break  # esc to quit\n",
    "    cv2.destroyAllWindows()\n",
    "    \n",
    "path = input('Enter a directory (folder) path: ')\n",
    "file = input('Enter the video file name: ')\n",
    "play_videoFile(path + '\\\\' + file)"
   ]
  },
  {
   "cell_type": "code",
   "execution_count": 17,
   "id": "735d1c4d",
   "metadata": {},
   "outputs": [
    {
     "name": "stdout",
     "output_type": "stream",
     "text": [
      "Enter the source directory: D:\\Cool Images\n",
      "Enter the destination directory: D:\\Cool Images\\New folder\n",
      "Enter the file name: 1337.jpg\n"
     ]
    }
   ],
   "source": [
    "# Write a function which can move a file from one directory to another directory\n",
    "from shutil import move\n",
    "\n",
    "def mv(src, dst, file):\n",
    "    \"\"\"Move a file from source directory to destination folder\"\"\"\n",
    "    move(src + '\\\\' + file, dst + '\\\\' + file)\n",
    "\n",
    "src_folder = input('Enter the source directory: ')\n",
    "dst_folder = input('Enter the destination directory: ')\n",
    "file_name = input('Enter the file name: ')\n",
    "\n",
    "mv(src_folder, dst_folder, file_name)"
   ]
  },
  {
   "cell_type": "code",
   "execution_count": 1,
   "id": "ea53946c",
   "metadata": {},
   "outputs": [],
   "source": [
    "# Write a function which will be able to shutdown your system\n",
    "import os\n",
    "\n",
    "def shut_down():\n",
    "    \"\"\"Function to shut down your system\"\"\"\n",
    "    os.system('shutdown /s /t 1')\n",
    "\n",
    "shut_down()"
   ]
  },
  {
   "cell_type": "code",
   "execution_count": null,
   "id": "9752e04e",
   "metadata": {},
   "outputs": [],
   "source": [
    "# Write a function which can help you to filter only word file from a directory.\n",
    "import os, re\n",
    "\n",
    "def filter_only_word(path):\n",
    "    \"\"\"Returns the list of all the word files from a directory\"\"\"\n",
    "    return [f for f in os.listdir(path) if re.match(r'[0-9] )]"
   ]
  }
 ],
 "metadata": {
  "kernelspec": {
   "display_name": "ineuron",
   "language": "python",
   "name": "ineuron"
  },
  "language_info": {
   "codemirror_mode": {
    "name": "ipython",
    "version": 3
   },
   "file_extension": ".py",
   "mimetype": "text/x-python",
   "name": "python",
   "nbconvert_exporter": "python",
   "pygments_lexer": "ipython3",
   "version": "3.11.0"
  }
 },
 "nbformat": 4,
 "nbformat_minor": 5
}
