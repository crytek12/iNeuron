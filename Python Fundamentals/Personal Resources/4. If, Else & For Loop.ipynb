{
 "cells": [
  {
   "cell_type": "code",
   "execution_count": 1,
   "id": "62b06d1e-040a-4204-b6af-9582b32980bf",
   "metadata": {},
   "outputs": [],
   "source": [
    "a = 10"
   ]
  },
  {
   "cell_type": "code",
   "execution_count": 2,
   "id": "035d07ad-d556-4a5c-854e-7a9e4dfba89b",
   "metadata": {},
   "outputs": [],
   "source": [
    "if a < 15:\n",
    "   pass"
   ]
  },
  {
   "cell_type": "code",
   "execution_count": 3,
   "id": "89fbc6ef-526f-4235-9eef-6d7cfeef9c78",
   "metadata": {},
   "outputs": [
    {
     "name": "stdout",
     "output_type": "stream",
     "text": [
      "my name is sudh\n"
     ]
    }
   ],
   "source": [
    "if a < 15:\n",
    "    print('my name is sudh')"
   ]
  },
  {
   "cell_type": "code",
   "execution_count": 4,
   "id": "ef4bb942-b8e9-4e0d-bb82-a4283a4803e8",
   "metadata": {},
   "outputs": [],
   "source": [
    "if 24 < 15:\n",
    "    print('my name is sudh')"
   ]
  },
  {
   "cell_type": "code",
   "execution_count": 5,
   "id": "3f6f26cd-44cd-457e-b714-27b856d2b9c6",
   "metadata": {},
   "outputs": [
    {
     "name": "stdout",
     "output_type": "stream",
     "text": [
      "if statement is wrong\n"
     ]
    }
   ],
   "source": [
    "if 10 < 3:\n",
    "    print('10 is less than 3')\n",
    "else:\n",
    "    print('if statement is wrong')"
   ]
  },
  {
   "cell_type": "code",
   "execution_count": 6,
   "id": "6343a66d-18b2-4262-afeb-c06fba90a8f4",
   "metadata": {},
   "outputs": [
    {
     "name": "stdout",
     "output_type": "stream",
     "text": [
      "10 is less than 3\n"
     ]
    }
   ],
   "source": [
    "if 5 < 10:\n",
    "    print('10 is less than 3')\n",
    "else:\n",
    "    print('if statement is wrong')"
   ]
  },
  {
   "cell_type": "code",
   "execution_count": 8,
   "id": "29ac5004-1299-4341-8594-6e879f918eb2",
   "metadata": {},
   "outputs": [
    {
     "name": "stdin",
     "output_type": "stream",
     "text": [
      " 10\n"
     ]
    },
    {
     "name": "stdout",
     "output_type": "stream",
     "text": [
      "i will be able to buy phone\n"
     ]
    }
   ],
   "source": [
    "income = int(input())\n",
    "if income < 50:\n",
    "    print('i will be able to buy phone')\n",
    "elif income < 70:\n",
    "    print('i will be able to buy a car')\n",
    "elif income < 90:\n",
    "    print('i will be able to rent a house')\n",
    "else:\n",
    "    print('i wont be able to buy anyhing')"
   ]
  },
  {
   "cell_type": "code",
   "execution_count": 1,
   "id": "60630d89-1a6d-479a-a600-a96259768271",
   "metadata": {},
   "outputs": [
    {
     "name": "stdin",
     "output_type": "stream",
     "text": [
      " 4565\n"
     ]
    },
    {
     "name": "stdout",
     "output_type": "stream",
     "text": [
      "Discount will be  228.25\n"
     ]
    }
   ],
   "source": [
    "total_price = int(input())\n",
    "if total_price > 20000:\n",
    "    discount = total_price * .20\n",
    "    print('Discount will be ', discount)\n",
    "elif total_price <= 7000:\n",
    "    discount = total_price * .05\n",
    "    print('Discount will be ', discount)\n",
    "else:\n",
    "    print('wont be able to give any discount')"
   ]
  },
  {
   "cell_type": "code",
   "execution_count": 4,
   "id": "c55d418d-931b-4f02-9c61-18a0184b93ba",
   "metadata": {},
   "outputs": [
    {
     "name": "stdin",
     "output_type": "stream",
     "text": [
      " SUDHANSHU5\n"
     ]
    },
    {
     "name": "stdout",
     "output_type": "stream",
     "text": [
      "you will be able ot get a discount of 5%\n",
      "you will be able to get one neuron with this amount  6726.0\n"
     ]
    }
   ],
   "source": [
    "coup = input()\n",
    "if coup == 'SUDHANSHU5':\n",
    "    print('you will be able ot get a discount of 5%')\n",
    "    paid_amount = 7080 * 0.95\n",
    "    print('you will be able to get one neuron with this amount ', paid_amount)\n",
    "else:\n",
    "    print('kindly use a valid coupon code')"
   ]
  },
  {
   "cell_type": "code",
   "execution_count": 6,
   "id": "135e5ce1-e5be-4f98-aed8-324bcf2e0a39",
   "metadata": {},
   "outputs": [
    {
     "name": "stdin",
     "output_type": "stream",
     "text": [
      " 2\n"
     ]
    },
    {
     "name": "stdout",
     "output_type": "stream",
     "text": [
      "it may take 6 month for transition\n"
     ]
    }
   ],
   "source": [
    "study_hour = int(input())\n",
    "if study_hour < 1:\n",
    "    print('it may take 8-9 month of time to make a transition')\n",
    "elif 1 < study_hour < 4:\n",
    "    print('it may take 6 month for transition')\n",
    "elif study_hour > 10:\n",
    "    print('it will take 3 month of time for transition')\n",
    "else:\n",
    "    print('it will be difficult')"
   ]
  },
  {
   "cell_type": "code",
   "execution_count": 7,
   "id": "e3081f14-7341-41f4-a08d-6e2d9305dfe3",
   "metadata": {},
   "outputs": [
    {
     "name": "stdout",
     "output_type": "stream",
     "text": [
      "valid\n"
     ]
    }
   ],
   "source": [
    "a = 9\n",
    "if a == 9:\n",
    "    print('valid')"
   ]
  },
  {
   "cell_type": "code",
   "execution_count": 11,
   "id": "6dfde841-08d8-4eef-8f79-1b1ca35cefe8",
   "metadata": {},
   "outputs": [
    {
     "name": "stdin",
     "output_type": "stream",
     "text": [
      "enter a string to start  oneneuron\n",
      "enter a course name  DSA\n",
      "enter a service  fn\n"
     ]
    },
    {
     "name": "stdout",
     "output_type": "stream",
     "text": [
      "yes it's available under one neuron...\n"
     ]
    }
   ],
   "source": [
    "s = input('enter a string to start ')\n",
    "course = input('enter a course name ')\n",
    "service = input('enter a service ')\n",
    "if s == 'oneneuron':\n",
    "    if course == 'DSA':\n",
    "        print('yes it\\'s available under one neuron...')\n",
    "    elif course == 'Blockchain':\n",
    "        print('this is not available as of now, kindly raise your demand...')\n",
    "    elif course == 'FSDS':\n",
    "        print('yes it\\'s available, you can start learning')\n",
    "    else:\n",
    "        print('this course is not available, kindly raise your demand')\n",
    "elif s == 'oneneuronservice':\n",
    "    if service == 'courserequest':\n",
    "        print('*NOTE: Dear Learner, you can raise demand related...')\n",
    "    elif service == 'module':\n",
    "        print('*Note: Dear Learner,... new course module,...')\n",
    "    elif service == 'doubt':\n",
    "        print('*NOTE: Dear Learner,... doubt clearing,...')\n",
    "    elif service == 'workwithus':\n",
    "        print('*NOTE: Dear Learner,... work with our team;...')\n",
    "    else:\n",
    "        print('kindly provide us your feedback and we will fulfil')\n",
    "else:\n",
    "    print('kindly connect with our team')"
   ]
  },
  {
   "cell_type": "code",
   "execution_count": 1,
   "id": "686fbc21-67bd-44aa-8094-d12da401b7a4",
   "metadata": {},
   "outputs": [
    {
     "name": "stdout",
     "output_type": "stream",
     "text": [
      "1\n",
      "2\n",
      "3\n",
      "4\n",
      "5\n",
      "6\n",
      "7\n"
     ]
    }
   ],
   "source": [
    "l = [1, 2, 3, 4, 5, 6, 7]\n",
    "for i in l:\n",
    "    print(i)"
   ]
  },
  {
   "cell_type": "code",
   "execution_count": 3,
   "id": "4ca009d7-9b2e-4d36-a112-1ee031a81126",
   "metadata": {},
   "outputs": [
    {
     "name": "stdout",
     "output_type": "stream",
     "text": [
      "s\n",
      "u\n",
      "d\n",
      "h\n"
     ]
    }
   ],
   "source": [
    "for i in 'sudh':\n",
    "    print(i)"
   ]
  },
  {
   "cell_type": "code",
   "execution_count": 4,
   "id": "d2d0e274-3c3a-4212-ad95-094ba7bf1187",
   "metadata": {},
   "outputs": [
    {
     "name": "stdout",
     "output_type": "stream",
     "text": [
      "1\n",
      "2\n",
      "3\n",
      "4\n",
      "5\n",
      "6\n",
      "6\n"
     ]
    }
   ],
   "source": [
    "t = (1, 2, 3, 4, 5, 6, 6)\n",
    "for i in t:\n",
    "    print(i)"
   ]
  },
  {
   "cell_type": "code",
   "execution_count": 12,
   "id": "681be8ea-d74d-4182-960f-3788cc9c73ac",
   "metadata": {},
   "outputs": [],
   "source": [
    "l = [1, 4, 5.6, 4 + 7j, 'sudh']"
   ]
  },
  {
   "cell_type": "code",
   "execution_count": 13,
   "id": "633389e0-28fd-4fd2-a072-df3eb9922c43",
   "metadata": {},
   "outputs": [
    {
     "name": "stdout",
     "output_type": "stream",
     "text": [
      "<class 'int'> type of 1\n",
      "<class 'int'> type of 4\n",
      "<class 'float'> type of 5.6\n",
      "<class 'complex'> type of (4+7j)\n",
      "<class 'str'> type of sudh\n"
     ]
    }
   ],
   "source": [
    "for i in l:\n",
    "    print(type(i), 'type of', i)"
   ]
  },
  {
   "cell_type": "code",
   "execution_count": 14,
   "id": "0a0ea1fb-f935-47b1-8ad9-738834c7c40c",
   "metadata": {},
   "outputs": [
    {
     "data": {
      "text/plain": [
       "int"
      ]
     },
     "execution_count": 14,
     "metadata": {},
     "output_type": "execute_result"
    }
   ],
   "source": [
    "type(1)"
   ]
  },
  {
   "cell_type": "code",
   "execution_count": 16,
   "id": "9e6436e7-66e5-4ff2-a9c0-5edb73f23c74",
   "metadata": {},
   "outputs": [
    {
     "name": "stdout",
     "output_type": "stream",
     "text": [
      "3\n",
      "6\n",
      "7.6\n"
     ]
    }
   ],
   "source": [
    "l = [1, 4, 5.6]\n",
    "l1 = []\n",
    "for i in l:\n",
    "    print(i + 2)\n",
    "    l1.append(i + 2)"
   ]
  },
  {
   "cell_type": "code",
   "execution_count": 17,
   "id": "e1b659d9-3b0f-4ccf-873e-e75b4641b67e",
   "metadata": {},
   "outputs": [
    {
     "data": {
      "text/plain": [
       "[3, 6, 7.6]"
      ]
     },
     "execution_count": 17,
     "metadata": {},
     "output_type": "execute_result"
    }
   ],
   "source": [
    "l1"
   ]
  },
  {
   "cell_type": "code",
   "execution_count": 18,
   "id": "77724191-898e-4d76-98ad-a9b7b2efc927",
   "metadata": {},
   "outputs": [],
   "source": [
    "l = [2, 45, 78, 12, 'sudh', 6 + 7j, [56, 67, 78]]"
   ]
  },
  {
   "cell_type": "code",
   "execution_count": 19,
   "id": "ba47dbeb-a319-4cff-ba1c-9bd99bc40522",
   "metadata": {},
   "outputs": [
    {
     "name": "stdout",
     "output_type": "stream",
     "text": [
      "2\n",
      "45\n",
      "78\n",
      "12\n"
     ]
    }
   ],
   "source": [
    "for i in l:\n",
    "    if type(i) == int:\n",
    "        print(i)"
   ]
  },
  {
   "cell_type": "code",
   "execution_count": 20,
   "id": "d09670cb-e5d1-48a6-9d38-a1283e5f050e",
   "metadata": {},
   "outputs": [],
   "source": [
    "l = [2, 45, 78, 12, 'sudh', 6 + 7j, [56, 67, 78, 'dsfdsf']]"
   ]
  },
  {
   "cell_type": "code",
   "execution_count": 21,
   "id": "2f2a35b0-30cc-43a0-8da7-ff54369a8fd3",
   "metadata": {},
   "outputs": [
    {
     "name": "stdout",
     "output_type": "stream",
     "text": [
      "2\n",
      "45\n",
      "78\n",
      "12\n",
      "56\n",
      "67\n",
      "78\n"
     ]
    }
   ],
   "source": [
    "for i in l:\n",
    "    if type(i) == int:\n",
    "        print(i)\n",
    "    elif type(i) == list:\n",
    "        for j in i:\n",
    "            if type(j) == int:\n",
    "                print(j)"
   ]
  },
  {
   "cell_type": "code",
   "execution_count": 43,
   "id": "91338681-f4ba-49f5-b802-130c8a9c6cb5",
   "metadata": {},
   "outputs": [],
   "source": [
    "l = [2, 45, 78, 12, 12, 12, 12, 'sudh', 6 + 7j, [56, 67, 78, 'dsfdsf'], 'tejan']\n",
    "# Q1. Try to print the index of all the element\n",
    "# Q2. Try to extract all the list of characters if element is string\n",
    "# Q3. Try to return a list after doing a square of all the int element"
   ]
  },
  {
   "cell_type": "code",
   "execution_count": 44,
   "id": "4380380d-f1e2-4c58-be8c-54a485c90066",
   "metadata": {},
   "outputs": [
    {
     "name": "stdout",
     "output_type": "stream",
     "text": [
      "index 0 for an element 2\n",
      "index 1 for an element 45\n",
      "index 2 for an element 78\n",
      "index 3 for an element 12\n",
      "index 4 for an element 12\n",
      "index 5 for an element 12\n",
      "index 6 for an element 12\n",
      "index 7 for an element sudh\n",
      "index 8 for an element (6+7j)\n",
      "index 9 for an element [56, 67, 78, 'dsfdsf']\n",
      "index 10 for an element tejan\n"
     ]
    }
   ],
   "source": [
    "# Q1. Try to print the index of all the element\n",
    "# for i in range(len(l)):\n",
    "#     print(i)\n",
    "\n",
    "for index, value in enumerate(l):\n",
    "    print(f'index {index} for an element {value}')"
   ]
  },
  {
   "cell_type": "code",
   "execution_count": 48,
   "id": "84109d8e-b7dd-4dae-ab67-1bf1f1925278",
   "metadata": {},
   "outputs": [
    {
     "name": "stdout",
     "output_type": "stream",
     "text": [
      "['s', 'u', 'd', 'h']\n",
      "['t', 'e', 'j', 'a', 'n']\n"
     ]
    }
   ],
   "source": [
    "# Q2. Try to extract all the list of characters if element is string\n",
    "for i in l:\n",
    "    if type(i) == str:\n",
    "        l1 = []\n",
    "        for j in i:\n",
    "            l1.append(j)\n",
    "        print(l1)"
   ]
  },
  {
   "cell_type": "code",
   "execution_count": 46,
   "id": "ab66c951-9f26-4f1c-b3a3-d8248fb885bf",
   "metadata": {},
   "outputs": [
    {
     "name": "stdout",
     "output_type": "stream",
     "text": [
      "[4, 2025, 6084, 144, 144, 144, 144]\n"
     ]
    }
   ],
   "source": [
    "# Q3. Try to return a list after doing a square of all the int element\n",
    "l2 = []\n",
    "for i in l:\n",
    "    if type(i) == int:\n",
    "       l2.append(i * i) \n",
    "print(l2)"
   ]
  },
  {
   "cell_type": "code",
   "execution_count": null,
   "id": "481c7f34-6477-4394-a739-e3d2c01d232b",
   "metadata": {},
   "outputs": [],
   "source": []
  }
 ],
 "metadata": {
  "kernelspec": {
   "display_name": "Python 3 (ipykernel)",
   "language": "python",
   "name": "python3"
  },
  "language_info": {
   "codemirror_mode": {
    "name": "ipython",
    "version": 3
   },
   "file_extension": ".py",
   "mimetype": "text/x-python",
   "name": "python",
   "nbconvert_exporter": "python",
   "pygments_lexer": "ipython3",
   "version": "3.10.6"
  }
 },
 "nbformat": 4,
 "nbformat_minor": 5
}
