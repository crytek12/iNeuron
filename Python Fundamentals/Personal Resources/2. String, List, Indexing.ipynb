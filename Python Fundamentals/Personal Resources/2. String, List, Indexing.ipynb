{
 "cells": [
  {
   "cell_type": "code",
   "execution_count": 1,
   "id": "3bc459a6-dd4a-4cbe-bf92-80cb150f88b0",
   "metadata": {},
   "outputs": [],
   "source": [
    "s = \"sudh\""
   ]
  },
  {
   "cell_type": "code",
   "execution_count": 3,
   "id": "944a6bcb-9435-4f71-b88b-cc2bb9600349",
   "metadata": {},
   "outputs": [
    {
     "data": {
      "text/plain": [
       "str"
      ]
     },
     "execution_count": 3,
     "metadata": {},
     "output_type": "execute_result"
    }
   ],
   "source": [
    "type(s)"
   ]
  },
  {
   "cell_type": "code",
   "execution_count": 4,
   "id": "b501d5f8-f065-427d-819c-086b7ffa26d9",
   "metadata": {},
   "outputs": [
    {
     "data": {
      "text/plain": [
       "'s'"
      ]
     },
     "execution_count": 4,
     "metadata": {},
     "output_type": "execute_result"
    }
   ],
   "source": [
    "s[0]"
   ]
  },
  {
   "cell_type": "code",
   "execution_count": 5,
   "id": "bdb373be-b63c-45a2-9ee1-4921a40483b9",
   "metadata": {},
   "outputs": [
    {
     "data": {
      "text/plain": [
       "'u'"
      ]
     },
     "execution_count": 5,
     "metadata": {},
     "output_type": "execute_result"
    }
   ],
   "source": [
    "s[1]"
   ]
  },
  {
   "cell_type": "code",
   "execution_count": 6,
   "id": "ef56a065-07d2-4832-8218-7aca243432b7",
   "metadata": {},
   "outputs": [
    {
     "data": {
      "text/plain": [
       "'d'"
      ]
     },
     "execution_count": 6,
     "metadata": {},
     "output_type": "execute_result"
    }
   ],
   "source": [
    "s[2]"
   ]
  },
  {
   "cell_type": "code",
   "execution_count": 7,
   "id": "2eb81939-e5fd-48bd-9fe2-e60f33d6aa75",
   "metadata": {},
   "outputs": [
    {
     "data": {
      "text/plain": [
       "'h'"
      ]
     },
     "execution_count": 7,
     "metadata": {},
     "output_type": "execute_result"
    }
   ],
   "source": [
    "s[3]"
   ]
  },
  {
   "cell_type": "code",
   "execution_count": 8,
   "id": "f244c066-e4be-422a-854c-b0b4fec7ff13",
   "metadata": {},
   "outputs": [
    {
     "data": {
      "text/plain": [
       "'h'"
      ]
     },
     "execution_count": 8,
     "metadata": {},
     "output_type": "execute_result"
    }
   ],
   "source": [
    "s[-1]"
   ]
  },
  {
   "cell_type": "code",
   "execution_count": 9,
   "id": "bb265d10-f602-4b71-b842-639e49aade5f",
   "metadata": {},
   "outputs": [
    {
     "data": {
      "text/plain": [
       "'d'"
      ]
     },
     "execution_count": 9,
     "metadata": {},
     "output_type": "execute_result"
    }
   ],
   "source": [
    "s[-2]"
   ]
  },
  {
   "cell_type": "code",
   "execution_count": 10,
   "id": "c55db5da-eaca-43ae-b6e8-7142d2048de0",
   "metadata": {},
   "outputs": [],
   "source": [
    "a = \"my name is sudh\""
   ]
  },
  {
   "cell_type": "code",
   "execution_count": 11,
   "id": "1c2c0c02-92c9-4cec-b1f2-5af6ec48f318",
   "metadata": {},
   "outputs": [
    {
     "data": {
      "text/plain": [
       "'h'"
      ]
     },
     "execution_count": 11,
     "metadata": {},
     "output_type": "execute_result"
    }
   ],
   "source": [
    "a[-1]"
   ]
  },
  {
   "cell_type": "code",
   "execution_count": 12,
   "id": "6d31d817-facd-4cb8-ba4b-71393518c499",
   "metadata": {},
   "outputs": [
    {
     "data": {
      "text/plain": [
       "'m'"
      ]
     },
     "execution_count": 12,
     "metadata": {},
     "output_type": "execute_result"
    }
   ],
   "source": [
    "a[0]"
   ]
  },
  {
   "cell_type": "code",
   "execution_count": 13,
   "id": "81b5b1b7-aa53-4956-8ec5-8a19b47cb12a",
   "metadata": {},
   "outputs": [
    {
     "ename": "IndexError",
     "evalue": "string index out of range",
     "output_type": "error",
     "traceback": [
      "\u001b[0;31m---------------------------------------------------------------------------\u001b[0m",
      "\u001b[0;31mIndexError\u001b[0m                                Traceback (most recent call last)",
      "Cell \u001b[0;32mIn [13], line 1\u001b[0m\n\u001b[0;32m----> 1\u001b[0m \u001b[43ma\u001b[49m\u001b[43m[\u001b[49m\u001b[38;5;241;43m100\u001b[39;49m\u001b[43m]\u001b[49m\n",
      "\u001b[0;31mIndexError\u001b[0m: string index out of range"
     ]
    }
   ],
   "source": [
    "a[100]"
   ]
  },
  {
   "cell_type": "code",
   "execution_count": 14,
   "id": "f3c0a524-d3b8-45fa-8ce7-21654af515ac",
   "metadata": {},
   "outputs": [
    {
     "data": {
      "text/plain": [
       "'my name'"
      ]
     },
     "execution_count": 14,
     "metadata": {},
     "output_type": "execute_result"
    }
   ],
   "source": [
    "a[0:7]"
   ]
  },
  {
   "cell_type": "code",
   "execution_count": 15,
   "id": "2e4ac7d3-1123-4c36-b3b3-6726f397c9a5",
   "metadata": {},
   "outputs": [],
   "source": [
    "b = 'ineuron'"
   ]
  },
  {
   "cell_type": "code",
   "execution_count": 16,
   "id": "0ed82b0f-c32e-4dfe-b66d-d4b01b5da419",
   "metadata": {},
   "outputs": [
    {
     "data": {
      "text/plain": [
       "'ine'"
      ]
     },
     "execution_count": 16,
     "metadata": {},
     "output_type": "execute_result"
    }
   ],
   "source": [
    "b[0:3]"
   ]
  },
  {
   "cell_type": "code",
   "execution_count": 17,
   "id": "5ad75693-c3da-42f1-904c-5109fe473b5c",
   "metadata": {},
   "outputs": [
    {
     "data": {
      "text/plain": [
       "'ineuron'"
      ]
     },
     "execution_count": 17,
     "metadata": {},
     "output_type": "execute_result"
    }
   ],
   "source": [
    "b[0:300]"
   ]
  },
  {
   "cell_type": "code",
   "execution_count": 18,
   "id": "93efb5af-eb47-4eed-955a-6703f422bc10",
   "metadata": {},
   "outputs": [
    {
     "ename": "IndexError",
     "evalue": "string index out of range",
     "output_type": "error",
     "traceback": [
      "\u001b[0;31m---------------------------------------------------------------------------\u001b[0m",
      "\u001b[0;31mIndexError\u001b[0m                                Traceback (most recent call last)",
      "Cell \u001b[0;32mIn [18], line 1\u001b[0m\n\u001b[0;32m----> 1\u001b[0m \u001b[43mb\u001b[49m\u001b[43m[\u001b[49m\u001b[38;5;241;43m300\u001b[39;49m\u001b[43m]\u001b[49m\n",
      "\u001b[0;31mIndexError\u001b[0m: string index out of range"
     ]
    }
   ],
   "source": [
    "b[300] "
   ]
  },
  {
   "cell_type": "code",
   "execution_count": 19,
   "id": "fda19840-07d5-4e40-b8e1-39fb04aa49d7",
   "metadata": {},
   "outputs": [
    {
     "data": {
      "text/plain": [
       "'n'"
      ]
     },
     "execution_count": 19,
     "metadata": {},
     "output_type": "execute_result"
    }
   ],
   "source": [
    "b[-1]"
   ]
  },
  {
   "cell_type": "code",
   "execution_count": 20,
   "id": "cce82a6c-bbb0-4c1d-8bfb-4b8544eecd60",
   "metadata": {},
   "outputs": [
    {
     "ename": "IndexError",
     "evalue": "string index out of range",
     "output_type": "error",
     "traceback": [
      "\u001b[0;31m---------------------------------------------------------------------------\u001b[0m",
      "\u001b[0;31mIndexError\u001b[0m                                Traceback (most recent call last)",
      "Cell \u001b[0;32mIn [20], line 1\u001b[0m\n\u001b[0;32m----> 1\u001b[0m \u001b[43mb\u001b[49m\u001b[43m[\u001b[49m\u001b[38;5;241;43m-\u001b[39;49m\u001b[38;5;241;43m100\u001b[39;49m\u001b[43m]\u001b[49m\n",
      "\u001b[0;31mIndexError\u001b[0m: string index out of range"
     ]
    }
   ],
   "source": [
    "b[-100]"
   ]
  },
  {
   "cell_type": "code",
   "execution_count": 21,
   "id": "3631b763-f12b-48ce-8b15-215e04f19456",
   "metadata": {},
   "outputs": [],
   "source": [
    "a = 'kumar'"
   ]
  },
  {
   "cell_type": "code",
   "execution_count": 22,
   "id": "80e39791-a424-45a8-8d3c-177052f21cd3",
   "metadata": {},
   "outputs": [
    {
     "data": {
      "text/plain": [
       "'kumar'"
      ]
     },
     "execution_count": 22,
     "metadata": {},
     "output_type": "execute_result"
    }
   ],
   "source": [
    "a[0:]"
   ]
  },
  {
   "cell_type": "code",
   "execution_count": 23,
   "id": "8a352fc7-7a4a-48ca-8077-3a98ab1899c1",
   "metadata": {},
   "outputs": [
    {
     "data": {
      "text/plain": [
       "'kumar'"
      ]
     },
     "execution_count": 23,
     "metadata": {},
     "output_type": "execute_result"
    }
   ],
   "source": [
    "a[0:300]"
   ]
  },
  {
   "cell_type": "code",
   "execution_count": 24,
   "id": "29f3a471-9796-4318-916e-15d548ef2c93",
   "metadata": {},
   "outputs": [
    {
     "data": {
      "text/plain": [
       "'kumar'"
      ]
     },
     "execution_count": 24,
     "metadata": {},
     "output_type": "execute_result"
    }
   ],
   "source": [
    "a[0:300:1]"
   ]
  },
  {
   "cell_type": "code",
   "execution_count": 26,
   "id": "cec3cdda-80ab-46a6-8991-10de6b2a6474",
   "metadata": {},
   "outputs": [
    {
     "data": {
      "text/plain": [
       "'kmr'"
      ]
     },
     "execution_count": 26,
     "metadata": {},
     "output_type": "execute_result"
    }
   ],
   "source": [
    "a[0:300:2]"
   ]
  },
  {
   "cell_type": "code",
   "execution_count": 27,
   "id": "67291dee-9b7d-4ffb-a504-08ac830174f5",
   "metadata": {},
   "outputs": [
    {
     "data": {
      "text/plain": [
       "'ka'"
      ]
     },
     "execution_count": 27,
     "metadata": {},
     "output_type": "execute_result"
    }
   ],
   "source": [
    "a[0:300:3]"
   ]
  },
  {
   "cell_type": "code",
   "execution_count": 28,
   "id": "49e33b12-7cde-4d1e-ab18-59ca2e61edfa",
   "metadata": {},
   "outputs": [
    {
     "data": {
      "text/plain": [
       "''"
      ]
     },
     "execution_count": 28,
     "metadata": {},
     "output_type": "execute_result"
    }
   ],
   "source": [
    "a[0:100:-1]"
   ]
  },
  {
   "cell_type": "code",
   "execution_count": 30,
   "id": "39d0c9ca-d3cb-4f57-a355-4be03d81f715",
   "metadata": {},
   "outputs": [
    {
     "data": {
      "text/plain": [
       "''"
      ]
     },
     "execution_count": 30,
     "metadata": {},
     "output_type": "execute_result"
    }
   ],
   "source": [
    "a[-1:-4]"
   ]
  },
  {
   "cell_type": "code",
   "execution_count": 31,
   "id": "4fa7baa5-1d12-4610-896d-588c3ae942fb",
   "metadata": {},
   "outputs": [
    {
     "data": {
      "text/plain": [
       "'ram'"
      ]
     },
     "execution_count": 31,
     "metadata": {},
     "output_type": "execute_result"
    }
   ],
   "source": [
    "a[-1:-4:-1]"
   ]
  },
  {
   "cell_type": "code",
   "execution_count": 32,
   "id": "b9e2ff1f-a73e-4990-8863-39bfb2eeea58",
   "metadata": {},
   "outputs": [
    {
     "data": {
      "text/plain": [
       "'k'"
      ]
     },
     "execution_count": 32,
     "metadata": {},
     "output_type": "execute_result"
    }
   ],
   "source": [
    "a[0:-10:-1]"
   ]
  },
  {
   "cell_type": "code",
   "execution_count": 33,
   "id": "526a0ee8-d54b-4db0-9425-d55174591e8f",
   "metadata": {},
   "outputs": [
    {
     "data": {
      "text/plain": [
       "'kumar'"
      ]
     },
     "execution_count": 33,
     "metadata": {},
     "output_type": "execute_result"
    }
   ],
   "source": [
    "a"
   ]
  },
  {
   "cell_type": "code",
   "execution_count": 34,
   "id": "0b394ebc-72eb-4203-ab0c-c73fb316ee80",
   "metadata": {},
   "outputs": [
    {
     "data": {
      "text/plain": [
       "'kumar'"
      ]
     },
     "execution_count": 34,
     "metadata": {},
     "output_type": "execute_result"
    }
   ],
   "source": [
    "a[:]"
   ]
  },
  {
   "cell_type": "code",
   "execution_count": 36,
   "id": "7623f93a-ba5c-4a2f-8a94-038b35e121bd",
   "metadata": {},
   "outputs": [
    {
     "data": {
      "text/plain": [
       "'kumar'"
      ]
     },
     "execution_count": 36,
     "metadata": {},
     "output_type": "execute_result"
    }
   ],
   "source": [
    "a[::]"
   ]
  },
  {
   "cell_type": "code",
   "execution_count": 37,
   "id": "3a70f9cc-2358-417a-adaf-b5e95428d311",
   "metadata": {},
   "outputs": [
    {
     "data": {
      "text/plain": [
       "'kumar'"
      ]
     },
     "execution_count": 37,
     "metadata": {},
     "output_type": "execute_result"
    }
   ],
   "source": [
    "a[:8]"
   ]
  },
  {
   "cell_type": "code",
   "execution_count": 38,
   "id": "36e7c32f-25f0-431a-a86f-0e410a9778b1",
   "metadata": {},
   "outputs": [
    {
     "data": {
      "text/plain": [
       "'ar'"
      ]
     },
     "execution_count": 38,
     "metadata": {},
     "output_type": "execute_result"
    }
   ],
   "source": [
    "a[-2:]"
   ]
  },
  {
   "cell_type": "code",
   "execution_count": 39,
   "id": "3c388aaa-6073-47ec-8e78-bb1e22ad252e",
   "metadata": {},
   "outputs": [
    {
     "data": {
      "text/plain": [
       "'a'"
      ]
     },
     "execution_count": 39,
     "metadata": {},
     "output_type": "execute_result"
    }
   ],
   "source": [
    "a[-2:-1]"
   ]
  },
  {
   "cell_type": "code",
   "execution_count": 40,
   "id": "bbf7f286-a8cc-4a22-9e0b-691d62ec592b",
   "metadata": {},
   "outputs": [
    {
     "data": {
      "text/plain": [
       "'ramuk'"
      ]
     },
     "execution_count": 40,
     "metadata": {},
     "output_type": "execute_result"
    }
   ],
   "source": [
    " a[::-1]"
   ]
  },
  {
   "cell_type": "code",
   "execution_count": 42,
   "id": "586da906-4784-4c85-99d7-44645d6d712d",
   "metadata": {},
   "outputs": [
    {
     "data": {
      "text/plain": [
       "'ramuk'"
      ]
     },
     "execution_count": 42,
     "metadata": {},
     "output_type": "execute_result"
    }
   ],
   "source": [
    "a[-1::-1]"
   ]
  },
  {
   "cell_type": "code",
   "execution_count": 43,
   "id": "510c85f1-39db-4127-8879-c857375fd639",
   "metadata": {},
   "outputs": [],
   "source": [
    "a = 'i am working with ineuron'"
   ]
  },
  {
   "cell_type": "code",
   "execution_count": 44,
   "id": "047d0c15-b779-457f-b8ae-88d6c5f74bef",
   "metadata": {},
   "outputs": [
    {
     "data": {
      "text/plain": [
       "'norueni htiw gnikrow ma i'"
      ]
     },
     "execution_count": 44,
     "metadata": {},
     "output_type": "execute_result"
    }
   ],
   "source": [
    "a[::-1]"
   ]
  },
  {
   "cell_type": "code",
   "execution_count": 45,
   "id": "d4beab1d-1785-4a91-819e-7cc8ba4d41af",
   "metadata": {},
   "outputs": [
    {
     "data": {
      "text/plain": [
       "''"
      ]
     },
     "execution_count": 45,
     "metadata": {},
     "output_type": "execute_result"
    }
   ],
   "source": [
    "a[-5:5]"
   ]
  },
  {
   "cell_type": "code",
   "execution_count": 46,
   "id": "37713af5-f29c-4fc7-aa7c-1a9968008f61",
   "metadata": {},
   "outputs": [
    {
     "data": {
      "text/plain": [
       "'eni htiw gnikro'"
      ]
     },
     "execution_count": 46,
     "metadata": {},
     "output_type": "execute_result"
    }
   ],
   "source": [
    "a[-5:5:-1]"
   ]
  },
  {
   "cell_type": "code",
   "execution_count": 47,
   "id": "d4de9b90-36e8-46c7-be05-8cb2c267fa62",
   "metadata": {},
   "outputs": [
    {
     "data": {
      "text/plain": [
       "'orueni h'"
      ]
     },
     "execution_count": 47,
     "metadata": {},
     "output_type": "execute_result"
    }
   ],
   "source": [
    "a[-2:-10:-1]"
   ]
  },
  {
   "cell_type": "code",
   "execution_count": 48,
   "id": "0e29ef09-a8c0-477e-80c9-f9585bab94e8",
   "metadata": {},
   "outputs": [
    {
     "data": {
      "text/plain": [
       "'imoi tiun'"
      ]
     },
     "execution_count": 48,
     "metadata": {},
     "output_type": "execute_result"
    }
   ],
   "source": [
    "a[0:100:3]"
   ]
  },
  {
   "cell_type": "code",
   "execution_count": 49,
   "id": "3bf72e6b-6337-4e2a-a141-8b218f1b8eac",
   "metadata": {},
   "outputs": [
    {
     "data": {
      "text/plain": [
       "'sudhsudhsudh'"
      ]
     },
     "execution_count": 49,
     "metadata": {},
     "output_type": "execute_result"
    }
   ],
   "source": [
    "\"sudh\"*3"
   ]
  },
  {
   "cell_type": "code",
   "execution_count": 50,
   "id": "0c657c77-0315-4026-adf5-a94735fa460b",
   "metadata": {},
   "outputs": [
    {
     "data": {
      "text/plain": [
       "'sudhkumar'"
      ]
     },
     "execution_count": 50,
     "metadata": {},
     "output_type": "execute_result"
    }
   ],
   "source": [
    "\"sudh\" + \"kumar\""
   ]
  },
  {
   "cell_type": "code",
   "execution_count": 51,
   "id": "c99bdb10-ddf5-454b-850a-ac5800480588",
   "metadata": {},
   "outputs": [
    {
     "data": {
      "text/plain": [
       "'i am working with ineuron'"
      ]
     },
     "execution_count": 51,
     "metadata": {},
     "output_type": "execute_result"
    }
   ],
   "source": [
    "a"
   ]
  },
  {
   "cell_type": "code",
   "execution_count": 52,
   "id": "ca328a11-4df0-4691-81b7-c189edc4851c",
   "metadata": {},
   "outputs": [
    {
     "data": {
      "text/plain": [
       "25"
      ]
     },
     "execution_count": 52,
     "metadata": {},
     "output_type": "execute_result"
    }
   ],
   "source": [
    "len(a)"
   ]
  },
  {
   "cell_type": "code",
   "execution_count": 53,
   "id": "12d050fd-e56e-4a8e-8255-0353609a586b",
   "metadata": {},
   "outputs": [
    {
     "data": {
      "text/plain": [
       "'i am working with ineuron'"
      ]
     },
     "execution_count": 53,
     "metadata": {},
     "output_type": "execute_result"
    }
   ],
   "source": [
    "a"
   ]
  },
  {
   "cell_type": "code",
   "execution_count": 54,
   "id": "df74a137-452f-46d1-bd60-8a89fc7fa25d",
   "metadata": {},
   "outputs": [
    {
     "data": {
      "text/plain": [
       "2"
      ]
     },
     "execution_count": 54,
     "metadata": {},
     "output_type": "execute_result"
    }
   ],
   "source": [
    "a.find('a')"
   ]
  },
  {
   "cell_type": "code",
   "execution_count": 55,
   "id": "39e70f8d-a66c-498d-8eab-d097be54e8bf",
   "metadata": {},
   "outputs": [
    {
     "data": {
      "text/plain": [
       "0"
      ]
     },
     "execution_count": 55,
     "metadata": {},
     "output_type": "execute_result"
    }
   ],
   "source": [
    "a.find('i')"
   ]
  },
  {
   "cell_type": "code",
   "execution_count": 56,
   "id": "3c1cf8d8-fe46-4efe-8072-06e46986a439",
   "metadata": {},
   "outputs": [
    {
     "data": {
      "text/plain": [
       "-1"
      ]
     },
     "execution_count": 56,
     "metadata": {},
     "output_type": "execute_result"
    }
   ],
   "source": [
    "a.find('ia')"
   ]
  },
  {
   "cell_type": "code",
   "execution_count": 57,
   "id": "4753b97a-fb7c-4479-9197-94992116a06d",
   "metadata": {},
   "outputs": [
    {
     "data": {
      "text/plain": [
       "9"
      ]
     },
     "execution_count": 57,
     "metadata": {},
     "output_type": "execute_result"
    }
   ],
   "source": [
    "a.find('in')"
   ]
  },
  {
   "cell_type": "code",
   "execution_count": 58,
   "id": "36b3252f-4c7d-4f6b-94b1-bf17a4f6d8e7",
   "metadata": {},
   "outputs": [
    {
     "data": {
      "text/plain": [
       "4"
      ]
     },
     "execution_count": 58,
     "metadata": {},
     "output_type": "execute_result"
    }
   ],
   "source": [
    "a.count('i')"
   ]
  },
  {
   "cell_type": "code",
   "execution_count": 59,
   "id": "d5373869-69ed-4e79-a9cf-c2ca0e50ab82",
   "metadata": {},
   "outputs": [
    {
     "data": {
      "text/plain": [
       "0"
      ]
     },
     "execution_count": 59,
     "metadata": {},
     "output_type": "execute_result"
    }
   ],
   "source": [
    "a.count('x')"
   ]
  },
  {
   "cell_type": "code",
   "execution_count": 60,
   "id": "8ebef2ec-598b-4ae5-84b4-6929cc5aae74",
   "metadata": {},
   "outputs": [
    {
     "data": {
      "text/plain": [
       "'i am working with ineuron'"
      ]
     },
     "execution_count": 60,
     "metadata": {},
     "output_type": "execute_result"
    }
   ],
   "source": [
    "a"
   ]
  },
  {
   "cell_type": "code",
   "execution_count": 62,
   "id": "cad7040b-175d-427b-a0f1-318a3ac65c12",
   "metadata": {},
   "outputs": [],
   "source": [
    "l = a.split()"
   ]
  },
  {
   "cell_type": "code",
   "execution_count": 63,
   "id": "04b47905-3edb-435d-bdcf-bd2fe384a095",
   "metadata": {},
   "outputs": [
    {
     "data": {
      "text/plain": [
       "['i', 'am', 'working', 'with', 'ineuron']"
      ]
     },
     "execution_count": 63,
     "metadata": {},
     "output_type": "execute_result"
    }
   ],
   "source": [
    "l"
   ]
  },
  {
   "cell_type": "code",
   "execution_count": 64,
   "id": "1ce53d56-04eb-44fc-81d3-aedd901fa4de",
   "metadata": {},
   "outputs": [
    {
     "data": {
      "text/plain": [
       "'i'"
      ]
     },
     "execution_count": 64,
     "metadata": {},
     "output_type": "execute_result"
    }
   ],
   "source": [
    "l[0]"
   ]
  },
  {
   "cell_type": "code",
   "execution_count": 65,
   "id": "b72f7a4f-64f4-40d8-b85e-3b5274d0a762",
   "metadata": {},
   "outputs": [
    {
     "data": {
      "text/plain": [
       "'am'"
      ]
     },
     "execution_count": 65,
     "metadata": {},
     "output_type": "execute_result"
    }
   ],
   "source": [
    "l[1]"
   ]
  },
  {
   "cell_type": "code",
   "execution_count": 66,
   "id": "1ad664bd-8f1b-4263-ae7d-646ef9805f33",
   "metadata": {},
   "outputs": [
    {
     "data": {
      "text/plain": [
       "'working'"
      ]
     },
     "execution_count": 66,
     "metadata": {},
     "output_type": "execute_result"
    }
   ],
   "source": [
    "l[2]"
   ]
  },
  {
   "cell_type": "code",
   "execution_count": 67,
   "id": "5378fa1a-3d65-4205-8ca7-7c196b783d4f",
   "metadata": {},
   "outputs": [
    {
     "data": {
      "text/plain": [
       "['i', 'am', 'working']"
      ]
     },
     "execution_count": 67,
     "metadata": {},
     "output_type": "execute_result"
    }
   ],
   "source": [
    "l[0:3]"
   ]
  },
  {
   "cell_type": "code",
   "execution_count": 68,
   "id": "2640a47f-a060-4d06-9363-f2a3477a7104",
   "metadata": {},
   "outputs": [
    {
     "data": {
      "text/plain": [
       "'i am working with ineuron'"
      ]
     },
     "execution_count": 68,
     "metadata": {},
     "output_type": "execute_result"
    }
   ],
   "source": [
    "a"
   ]
  },
  {
   "cell_type": "code",
   "execution_count": 69,
   "id": "d335d1b7-0534-45c9-93e0-128adee34808",
   "metadata": {},
   "outputs": [
    {
     "data": {
      "text/plain": [
       "['', ' am work', 'ng w', 'th ', 'neuron']"
      ]
     },
     "execution_count": 69,
     "metadata": {},
     "output_type": "execute_result"
    }
   ],
   "source": [
    "a.split('i')"
   ]
  },
  {
   "cell_type": "code",
   "execution_count": 70,
   "id": "1844faac-81a6-4555-ae91-64b86c1a5b6b",
   "metadata": {},
   "outputs": [
    {
     "ename": "ValueError",
     "evalue": "empty separator",
     "output_type": "error",
     "traceback": [
      "\u001b[0;31m---------------------------------------------------------------------------\u001b[0m",
      "\u001b[0;31mValueError\u001b[0m                                Traceback (most recent call last)",
      "Cell \u001b[0;32mIn [70], line 1\u001b[0m\n\u001b[0;32m----> 1\u001b[0m \u001b[43ma\u001b[49m\u001b[38;5;241;43m.\u001b[39;49m\u001b[43msplit\u001b[49m\u001b[43m(\u001b[49m\u001b[38;5;124;43m'\u001b[39;49m\u001b[38;5;124;43m'\u001b[39;49m\u001b[43m)\u001b[49m\n",
      "\u001b[0;31mValueError\u001b[0m: empty separator"
     ]
    }
   ],
   "source": [
    "a.split('')"
   ]
  },
  {
   "cell_type": "code",
   "execution_count": 71,
   "id": "54f570a5-5661-4f85-8c5e-caf51e1d0519",
   "metadata": {},
   "outputs": [
    {
     "data": {
      "text/plain": [
       "['i am ', 'rking with ineuron']"
      ]
     },
     "execution_count": 71,
     "metadata": {},
     "output_type": "execute_result"
    }
   ],
   "source": [
    "a.split('wo')"
   ]
  },
  {
   "cell_type": "code",
   "execution_count": 72,
   "id": "6db10348-d094-40da-8370-5953cf853abb",
   "metadata": {},
   "outputs": [
    {
     "data": {
      "text/plain": [
       "'I AM WORKING WITH INEURON'"
      ]
     },
     "execution_count": 72,
     "metadata": {},
     "output_type": "execute_result"
    }
   ],
   "source": [
    "a.upper()"
   ]
  },
  {
   "cell_type": "code",
   "execution_count": 73,
   "id": "62e933ac-c0af-4055-b19f-9ce1de9bd7a2",
   "metadata": {},
   "outputs": [],
   "source": [
    "s = 'sUdh'"
   ]
  },
  {
   "cell_type": "code",
   "execution_count": 74,
   "id": "195a7f05-64a3-44d3-8771-5e5a3561ba4b",
   "metadata": {},
   "outputs": [
    {
     "data": {
      "text/plain": [
       "'SuDH'"
      ]
     },
     "execution_count": 74,
     "metadata": {},
     "output_type": "execute_result"
    }
   ],
   "source": [
    "s.swapcase()"
   ]
  },
  {
   "cell_type": "code",
   "execution_count": 76,
   "id": "620b7416-d4be-4821-84cd-4debb2a4a34c",
   "metadata": {},
   "outputs": [
    {
     "data": {
      "text/plain": [
       "'Sudh'"
      ]
     },
     "execution_count": 76,
     "metadata": {},
     "output_type": "execute_result"
    }
   ],
   "source": [
    "s.title()"
   ]
  },
  {
   "cell_type": "code",
   "execution_count": 77,
   "id": "d15009f9-2f75-45e3-aa10-b14fd48ee7d9",
   "metadata": {},
   "outputs": [
    {
     "data": {
      "text/plain": [
       "'Sudh'"
      ]
     },
     "execution_count": 77,
     "metadata": {},
     "output_type": "execute_result"
    }
   ],
   "source": [
    "s.capitalize()"
   ]
  },
  {
   "cell_type": "code",
   "execution_count": 1,
   "id": "628c4c77-cc4a-4e83-8866-5dfb7ac95d01",
   "metadata": {},
   "outputs": [],
   "source": [
    "b = \"sudh\"\n",
    "c = 'ineuron'"
   ]
  },
  {
   "cell_type": "code",
   "execution_count": 2,
   "id": "97883c20-2079-4926-8cec-22a46ea8a2b6",
   "metadata": {},
   "outputs": [
    {
     "data": {
      "text/plain": [
       "'isudhnsudhesudhusudhrsudhosudhn'"
      ]
     },
     "execution_count": 2,
     "metadata": {},
     "output_type": "execute_result"
    }
   ],
   "source": [
    "b.join(c)"
   ]
  },
  {
   "cell_type": "code",
   "execution_count": 3,
   "id": "bf9b3433-b952-4bf7-a5d1-b6a42afbcb6b",
   "metadata": {},
   "outputs": [
    {
     "data": {
      "text/plain": [
       "'s u d h'"
      ]
     },
     "execution_count": 3,
     "metadata": {},
     "output_type": "execute_result"
    }
   ],
   "source": [
    "' '.join('sudh')"
   ]
  },
  {
   "cell_type": "code",
   "execution_count": 4,
   "id": "85f0232a-8781-41ff-a4e9-b53fd694dd6f",
   "metadata": {},
   "outputs": [
    {
     "name": "stdout",
     "output_type": "stream",
     "text": [
      "h\n",
      "d\n",
      "u\n",
      "s\n"
     ]
    }
   ],
   "source": [
    "for i in reversed('sudh'):\n",
    "    print(i)"
   ]
  },
  {
   "cell_type": "code",
   "execution_count": 7,
   "id": "fd827d88-e310-4ef1-bdf4-3d41b20610c1",
   "metadata": {},
   "outputs": [
    {
     "data": {
      "text/plain": [
       "'hdus'"
      ]
     },
     "execution_count": 7,
     "metadata": {},
     "output_type": "execute_result"
    }
   ],
   "source": [
    "s = 'sudh'\n",
    "s[::-1]"
   ]
  },
  {
   "cell_type": "code",
   "execution_count": 8,
   "id": "d5c36d0c-ac97-4150-9a29-31e92b785beb",
   "metadata": {},
   "outputs": [],
   "source": [
    "s = ' sudh '"
   ]
  },
  {
   "cell_type": "code",
   "execution_count": 9,
   "id": "bf1b7b35-40fa-4119-8989-866e036dcc2d",
   "metadata": {},
   "outputs": [
    {
     "data": {
      "text/plain": [
       "' sudh'"
      ]
     },
     "execution_count": 9,
     "metadata": {},
     "output_type": "execute_result"
    }
   ],
   "source": [
    "s.rstrip()"
   ]
  },
  {
   "cell_type": "code",
   "execution_count": 10,
   "id": "83551b6f-8a00-431b-8bc0-69e981007b63",
   "metadata": {},
   "outputs": [
    {
     "data": {
      "text/plain": [
       "'sudh '"
      ]
     },
     "execution_count": 10,
     "metadata": {},
     "output_type": "execute_result"
    }
   ],
   "source": [
    "s.lstrip()"
   ]
  },
  {
   "cell_type": "code",
   "execution_count": 11,
   "id": "edec8749-1217-49a1-ad5c-9dade3f8ee13",
   "metadata": {},
   "outputs": [
    {
     "data": {
      "text/plain": [
       "'sudh'"
      ]
     },
     "execution_count": 11,
     "metadata": {},
     "output_type": "execute_result"
    }
   ],
   "source": [
    "s.strip()"
   ]
  },
  {
   "cell_type": "code",
   "execution_count": 12,
   "id": "55f789bf-3854-4daa-9707-b6ce507733dc",
   "metadata": {},
   "outputs": [],
   "source": [
    "s = 'sudh'"
   ]
  },
  {
   "cell_type": "code",
   "execution_count": 13,
   "id": "bb52ab34-4641-4c7c-a3f2-07e3a42078ae",
   "metadata": {},
   "outputs": [
    {
     "data": {
      "text/plain": [
       "'sxyzdh'"
      ]
     },
     "execution_count": 13,
     "metadata": {},
     "output_type": "execute_result"
    }
   ],
   "source": [
    "s.replace('u', 'xyz')"
   ]
  },
  {
   "cell_type": "code",
   "execution_count": 15,
   "id": "0b3af3dc-bd32-431e-9d51-3eee05035b2f",
   "metadata": {},
   "outputs": [
    {
     "data": {
      "text/plain": [
       "'sudh'"
      ]
     },
     "execution_count": 15,
     "metadata": {},
     "output_type": "execute_result"
    }
   ],
   "source": [
    "s.replace('t', 'xyz')"
   ]
  },
  {
   "cell_type": "code",
   "execution_count": 18,
   "id": "8115dce3-d438-469a-b735-3ab9e5fee8fb",
   "metadata": {},
   "outputs": [
    {
     "data": {
      "text/plain": [
       "'sudh    kumar'"
      ]
     },
     "execution_count": 18,
     "metadata": {},
     "output_type": "execute_result"
    }
   ],
   "source": [
    "'sudh\\tkumar'.expandtabs()"
   ]
  },
  {
   "cell_type": "code",
   "execution_count": 19,
   "id": "924474f3-5dd6-4900-b8ad-4247b584800b",
   "metadata": {},
   "outputs": [],
   "source": [
    "s = 'sudh'"
   ]
  },
  {
   "cell_type": "code",
   "execution_count": 20,
   "id": "b8745719-f0a1-4346-9ebe-3a4de16d3336",
   "metadata": {},
   "outputs": [
    {
     "data": {
      "text/plain": [
       "'ttttttttttttttttttsudhtttttttttttttttttt'"
      ]
     },
     "execution_count": 20,
     "metadata": {},
     "output_type": "execute_result"
    }
   ],
   "source": [
    "s.center(40, 't')"
   ]
  },
  {
   "cell_type": "code",
   "execution_count": 21,
   "id": "8266aefc-e1de-4623-8a6b-643d3bc35184",
   "metadata": {},
   "outputs": [
    {
     "ename": "TypeError",
     "evalue": "The fill character must be exactly one character long",
     "output_type": "error",
     "traceback": [
      "\u001b[0;31m---------------------------------------------------------------------------\u001b[0m",
      "\u001b[0;31mTypeError\u001b[0m                                 Traceback (most recent call last)",
      "Cell \u001b[0;32mIn [21], line 1\u001b[0m\n\u001b[0;32m----> 1\u001b[0m \u001b[43ms\u001b[49m\u001b[38;5;241;43m.\u001b[39;49m\u001b[43mcenter\u001b[49m\u001b[43m(\u001b[49m\u001b[38;5;241;43m40\u001b[39;49m\u001b[43m,\u001b[49m\u001b[43m \u001b[49m\u001b[38;5;124;43m'\u001b[39;49m\u001b[38;5;124;43mtret\u001b[39;49m\u001b[38;5;124;43m'\u001b[39;49m\u001b[43m)\u001b[49m\n",
      "\u001b[0;31mTypeError\u001b[0m: The fill character must be exactly one character long"
     ]
    }
   ],
   "source": [
    "s.center(40, 'tret')"
   ]
  },
  {
   "cell_type": "code",
   "execution_count": 23,
   "id": "d81fc6c9-7de5-474e-ad7b-ecfc72c24a09",
   "metadata": {},
   "outputs": [
    {
     "data": {
      "text/plain": [
       "'###sudh###'"
      ]
     },
     "execution_count": 23,
     "metadata": {},
     "output_type": "execute_result"
    }
   ],
   "source": [
    "s.center(10, '#')"
   ]
  },
  {
   "cell_type": "code",
   "execution_count": 26,
   "id": "df413ace-dece-404e-9e3e-2bc29e3b1da2",
   "metadata": {},
   "outputs": [],
   "source": [
    "s = 'Sudh'"
   ]
  },
  {
   "cell_type": "code",
   "execution_count": 27,
   "id": "9224cdca-31fb-4dc4-88f9-8c227ce78329",
   "metadata": {},
   "outputs": [
    {
     "data": {
      "text/plain": [
       "False"
      ]
     },
     "execution_count": 27,
     "metadata": {},
     "output_type": "execute_result"
    }
   ],
   "source": [
    "s.isupper()"
   ]
  },
  {
   "cell_type": "code",
   "execution_count": 28,
   "id": "5c0d7733-0db7-4c11-9a0e-ff2f17a3471d",
   "metadata": {},
   "outputs": [
    {
     "data": {
      "text/plain": [
       "True"
      ]
     },
     "execution_count": 28,
     "metadata": {},
     "output_type": "execute_result"
    }
   ],
   "source": [
    "'SUDH'.isupper()"
   ]
  },
  {
   "cell_type": "code",
   "execution_count": 29,
   "id": "456ab134-974d-4821-8583-345fea2d365a",
   "metadata": {},
   "outputs": [
    {
     "data": {
      "text/plain": [
       "False"
      ]
     },
     "execution_count": 29,
     "metadata": {},
     "output_type": "execute_result"
    }
   ],
   "source": [
    "s.islower()"
   ]
  },
  {
   "cell_type": "code",
   "execution_count": 30,
   "id": "66da97d4-efa3-47b8-a99b-b4a8830d8108",
   "metadata": {},
   "outputs": [
    {
     "data": {
      "text/plain": [
       "False"
      ]
     },
     "execution_count": 30,
     "metadata": {},
     "output_type": "execute_result"
    }
   ],
   "source": [
    "s.isspace()"
   ]
  },
  {
   "cell_type": "code",
   "execution_count": 31,
   "id": "bfc93006-a216-49af-b93d-850d6d887f66",
   "metadata": {},
   "outputs": [
    {
     "data": {
      "text/plain": [
       "True"
      ]
     },
     "execution_count": 31,
     "metadata": {},
     "output_type": "execute_result"
    }
   ],
   "source": [
    "' '.isspace()"
   ]
  },
  {
   "cell_type": "code",
   "execution_count": 33,
   "id": "e04ca7ca-d4b5-49da-831d-42ef58f02727",
   "metadata": {},
   "outputs": [],
   "source": [
    "s = '     sudh'"
   ]
  },
  {
   "cell_type": "code",
   "execution_count": 34,
   "id": "d6721625-531d-4d89-b454-bde702097c87",
   "metadata": {},
   "outputs": [
    {
     "data": {
      "text/plain": [
       "False"
      ]
     },
     "execution_count": 34,
     "metadata": {},
     "output_type": "execute_result"
    }
   ],
   "source": [
    "s.isspace()"
   ]
  },
  {
   "cell_type": "code",
   "execution_count": 35,
   "id": "7a38a3e3-0892-4775-af2d-b7530a3358f9",
   "metadata": {},
   "outputs": [
    {
     "data": {
      "text/plain": [
       "True"
      ]
     },
     "execution_count": 35,
     "metadata": {},
     "output_type": "execute_result"
    }
   ],
   "source": [
    "'         '.isspace()"
   ]
  },
  {
   "cell_type": "code",
   "execution_count": 36,
   "id": "962b3bbf-5057-44f7-8817-1a7752ab0dbd",
   "metadata": {},
   "outputs": [],
   "source": [
    "s = 'sudh'"
   ]
  },
  {
   "cell_type": "code",
   "execution_count": 37,
   "id": "556552a1-fb26-4bda-80b9-1483fffda7fe",
   "metadata": {},
   "outputs": [
    {
     "data": {
      "text/plain": [
       "False"
      ]
     },
     "execution_count": 37,
     "metadata": {},
     "output_type": "execute_result"
    }
   ],
   "source": [
    "s.isdigit()"
   ]
  },
  {
   "cell_type": "code",
   "execution_count": 38,
   "id": "3bedffe9-a662-4ebe-9f05-354da6bbbf47",
   "metadata": {},
   "outputs": [
    {
     "data": {
      "text/plain": [
       "False"
      ]
     },
     "execution_count": 38,
     "metadata": {},
     "output_type": "execute_result"
    }
   ],
   "source": [
    "'sudh34234'.isdigit()"
   ]
  },
  {
   "cell_type": "code",
   "execution_count": 39,
   "id": "26e12e23-5950-41be-a47e-8f6ae939d764",
   "metadata": {},
   "outputs": [
    {
     "data": {
      "text/plain": [
       "True"
      ]
     },
     "execution_count": 39,
     "metadata": {},
     "output_type": "execute_result"
    }
   ],
   "source": [
    "'43543'.isdigit()"
   ]
  },
  {
   "cell_type": "code",
   "execution_count": 40,
   "id": "95869bb4-4a9f-46c7-99bd-fdbf065f1b70",
   "metadata": {},
   "outputs": [
    {
     "data": {
      "text/plain": [
       "'sudh'"
      ]
     },
     "execution_count": 40,
     "metadata": {},
     "output_type": "execute_result"
    }
   ],
   "source": [
    "s"
   ]
  },
  {
   "cell_type": "code",
   "execution_count": 41,
   "id": "95dbb9f5-111b-471e-8833-ae64b8b36987",
   "metadata": {},
   "outputs": [
    {
     "data": {
      "text/plain": [
       "True"
      ]
     },
     "execution_count": 41,
     "metadata": {},
     "output_type": "execute_result"
    }
   ],
   "source": [
    "s.endswith('h')"
   ]
  },
  {
   "cell_type": "code",
   "execution_count": 42,
   "id": "88a37efc-30a0-4e7d-b2ca-ce83f704b16d",
   "metadata": {},
   "outputs": [
    {
     "data": {
      "text/plain": [
       "False"
      ]
     },
     "execution_count": 42,
     "metadata": {},
     "output_type": "execute_result"
    }
   ],
   "source": [
    "s.endswith('x')"
   ]
  },
  {
   "cell_type": "code",
   "execution_count": 43,
   "id": "5b2a090d-e285-4a76-8737-30a7f728f4f5",
   "metadata": {},
   "outputs": [
    {
     "data": {
      "text/plain": [
       "False"
      ]
     },
     "execution_count": 43,
     "metadata": {},
     "output_type": "execute_result"
    }
   ],
   "source": [
    "s.startswith('t')"
   ]
  },
  {
   "cell_type": "code",
   "execution_count": 44,
   "id": "52a05a93-4735-4131-9776-94b53a7ecf04",
   "metadata": {},
   "outputs": [
    {
     "data": {
      "text/plain": [
       "True"
      ]
     },
     "execution_count": 44,
     "metadata": {},
     "output_type": "execute_result"
    }
   ],
   "source": [
    "s.startswith('s')"
   ]
  },
  {
   "cell_type": "code",
   "execution_count": 45,
   "id": "ac8eee0f-ed8a-4a5e-a9a5-4b4c09a86f49",
   "metadata": {},
   "outputs": [
    {
     "data": {
      "text/plain": [
       "False"
      ]
     },
     "execution_count": 45,
     "metadata": {},
     "output_type": "execute_result"
    }
   ],
   "source": [
    "s.istitle()"
   ]
  },
  {
   "cell_type": "code",
   "execution_count": 46,
   "id": "5b828ab5-0736-4ec2-82e3-15e557c5ab3b",
   "metadata": {},
   "outputs": [
    {
     "data": {
      "text/plain": [
       "b'sudh'"
      ]
     },
     "execution_count": 46,
     "metadata": {},
     "output_type": "execute_result"
    }
   ],
   "source": [
    "s.encode()"
   ]
  },
  {
   "cell_type": "code",
   "execution_count": 47,
   "id": "77edc463-198f-4fc5-b580-58e62f07950b",
   "metadata": {},
   "outputs": [
    {
     "ename": "LookupError",
     "evalue": "unknown encoding: JIS X 0208",
     "output_type": "error",
     "traceback": [
      "\u001b[0;31m---------------------------------------------------------------------------\u001b[0m",
      "\u001b[0;31mLookupError\u001b[0m                               Traceback (most recent call last)",
      "Cell \u001b[0;32mIn [47], line 1\u001b[0m\n\u001b[0;32m----> 1\u001b[0m \u001b[43ms\u001b[49m\u001b[38;5;241;43m.\u001b[39;49m\u001b[43mencode\u001b[49m\u001b[43m(\u001b[49m\u001b[38;5;124;43m'\u001b[39;49m\u001b[38;5;124;43mJIS X 0208\u001b[39;49m\u001b[38;5;124;43m'\u001b[39;49m\u001b[43m)\u001b[49m\n",
      "\u001b[0;31mLookupError\u001b[0m: unknown encoding: JIS X 0208"
     ]
    }
   ],
   "source": [
    "s.encode('JIS X 0208')"
   ]
  },
  {
   "cell_type": "code",
   "execution_count": 50,
   "id": "7d7d02c9-99a6-4e39-8776-f6d4cba69dce",
   "metadata": {},
   "outputs": [],
   "source": [
    "l = ['sudh', 'kumar', 3543, 4 + 6j, True, 345.56]"
   ]
  },
  {
   "cell_type": "code",
   "execution_count": 51,
   "id": "9bc41d86-8d96-427b-97c7-3a0addc78b60",
   "metadata": {},
   "outputs": [
    {
     "data": {
      "text/plain": [
       "list"
      ]
     },
     "execution_count": 51,
     "metadata": {},
     "output_type": "execute_result"
    }
   ],
   "source": [
    "type(l)"
   ]
  },
  {
   "cell_type": "code",
   "execution_count": 52,
   "id": "871639b8-b59a-4107-be02-8d76e7474605",
   "metadata": {},
   "outputs": [
    {
     "data": {
      "text/plain": [
       "'sudh'"
      ]
     },
     "execution_count": 52,
     "metadata": {},
     "output_type": "execute_result"
    }
   ],
   "source": [
    "l[0]"
   ]
  },
  {
   "cell_type": "code",
   "execution_count": 53,
   "id": "cdbe0e0f-dc7e-4ab8-9b85-dc1e7080b741",
   "metadata": {},
   "outputs": [
    {
     "data": {
      "text/plain": [
       "345.56"
      ]
     },
     "execution_count": 53,
     "metadata": {},
     "output_type": "execute_result"
    }
   ],
   "source": [
    "l[-1]"
   ]
  },
  {
   "cell_type": "code",
   "execution_count": 54,
   "id": "1c7dd307-8c0d-45fc-8171-d0db37816b49",
   "metadata": {},
   "outputs": [
    {
     "data": {
      "text/plain": [
       "'kumar'"
      ]
     },
     "execution_count": 54,
     "metadata": {},
     "output_type": "execute_result"
    }
   ],
   "source": [
    "l[-5]"
   ]
  },
  {
   "cell_type": "code",
   "execution_count": 55,
   "id": "9c7078e7-8aa5-415b-bb0d-13ecd2d80cd0",
   "metadata": {},
   "outputs": [
    {
     "data": {
      "text/plain": [
       "['sudh', 'kumar', 3543, (4+6j), True, 345.56]"
      ]
     },
     "execution_count": 55,
     "metadata": {},
     "output_type": "execute_result"
    }
   ],
   "source": [
    "l"
   ]
  },
  {
   "cell_type": "code",
   "execution_count": 56,
   "id": "42e3813b-ae2d-4319-a69a-dee35d53387d",
   "metadata": {},
   "outputs": [
    {
     "data": {
      "text/plain": [
       "['sudh', 'kumar', 3543, (4+6j)]"
      ]
     },
     "execution_count": 56,
     "metadata": {},
     "output_type": "execute_result"
    }
   ],
   "source": [
    "l[0:4]"
   ]
  },
  {
   "cell_type": "code",
   "execution_count": 57,
   "id": "4bbf6a1c-2040-4b48-ad1b-54c6f0f04a2c",
   "metadata": {},
   "outputs": [
    {
     "data": {
      "text/plain": [
       "[345.56, True, (4+6j), 3543, 'kumar', 'sudh']"
      ]
     },
     "execution_count": 57,
     "metadata": {},
     "output_type": "execute_result"
    }
   ],
   "source": [
    "l[::-1]"
   ]
  },
  {
   "cell_type": "code",
   "execution_count": 58,
   "id": "200de2be-d1e4-4086-a499-d79a96252487",
   "metadata": {},
   "outputs": [
    {
     "data": {
      "text/plain": [
       "[345.56]"
      ]
     },
     "execution_count": 58,
     "metadata": {},
     "output_type": "execute_result"
    }
   ],
   "source": [
    "l[-1:6]"
   ]
  },
  {
   "cell_type": "code",
   "execution_count": 61,
   "id": "042709c0-b334-40b6-b8a9-11d420e4d9ed",
   "metadata": {},
   "outputs": [
    {
     "data": {
      "text/plain": [
       "str"
      ]
     },
     "execution_count": 61,
     "metadata": {},
     "output_type": "execute_result"
    }
   ],
   "source": [
    "type(l[0])"
   ]
  },
  {
   "cell_type": "code",
   "execution_count": 62,
   "id": "e1019e4e-d926-45c6-bef6-7a5b3d78a310",
   "metadata": {},
   "outputs": [
    {
     "data": {
      "text/plain": [
       "bool"
      ]
     },
     "execution_count": 62,
     "metadata": {},
     "output_type": "execute_result"
    }
   ],
   "source": [
    "type(l[4])"
   ]
  },
  {
   "cell_type": "code",
   "execution_count": 63,
   "id": "17d1d517-7550-48bd-9cf2-efc25056de41",
   "metadata": {},
   "outputs": [
    {
     "data": {
      "text/plain": [
       "'sudh'"
      ]
     },
     "execution_count": 63,
     "metadata": {},
     "output_type": "execute_result"
    }
   ],
   "source": [
    "l[0]"
   ]
  },
  {
   "cell_type": "code",
   "execution_count": 64,
   "id": "a0eb714b-9345-4b78-af2f-53fe07db399d",
   "metadata": {},
   "outputs": [
    {
     "data": {
      "text/plain": [
       "'u'"
      ]
     },
     "execution_count": 64,
     "metadata": {},
     "output_type": "execute_result"
    }
   ],
   "source": [
    "l[0][1]"
   ]
  },
  {
   "cell_type": "code",
   "execution_count": 65,
   "id": "45c7cae7-158e-422b-971b-36ed4e053d44",
   "metadata": {},
   "outputs": [
    {
     "data": {
      "text/plain": [
       "(4+6j)"
      ]
     },
     "execution_count": 65,
     "metadata": {},
     "output_type": "execute_result"
    }
   ],
   "source": [
    "l[3]"
   ]
  },
  {
   "cell_type": "code",
   "execution_count": 67,
   "id": "b08d1346-e340-46c2-b16b-ea163c237b0f",
   "metadata": {},
   "outputs": [
    {
     "data": {
      "text/plain": [
       "4.0"
      ]
     },
     "execution_count": 67,
     "metadata": {},
     "output_type": "execute_result"
    }
   ],
   "source": [
    "l[3].real"
   ]
  },
  {
   "cell_type": "code",
   "execution_count": 68,
   "id": "c71b77fb-5cd7-4989-b1da-11397e81564d",
   "metadata": {},
   "outputs": [
    {
     "data": {
      "text/plain": [
       "6.0"
      ]
     },
     "execution_count": 68,
     "metadata": {},
     "output_type": "execute_result"
    }
   ],
   "source": [
    "l[3].imag"
   ]
  },
  {
   "cell_type": "code",
   "execution_count": 97,
   "id": "f3f11a94-ae88-416d-bbf3-9c2052f7a6b5",
   "metadata": {},
   "outputs": [],
   "source": [
    "l1 = ['sudh', 'kumar', 4356]\n",
    "l2 = ['xyz', 'pqr', 546.567]"
   ]
  },
  {
   "cell_type": "code",
   "execution_count": 98,
   "id": "9abe9366-67fb-4368-bcc8-276f167321e8",
   "metadata": {},
   "outputs": [
    {
     "data": {
      "text/plain": [
       "['sudh', 'kumar', 4356, 'xyz', 'pqr', 546.567]"
      ]
     },
     "execution_count": 98,
     "metadata": {},
     "output_type": "execute_result"
    }
   ],
   "source": [
    "l1 + l2"
   ]
  },
  {
   "cell_type": "code",
   "execution_count": 99,
   "id": "62dfe9f6-3c1c-4a9b-964b-2ff68f6e8a0d",
   "metadata": {},
   "outputs": [
    {
     "ename": "TypeError",
     "evalue": "can only concatenate list (not \"str\") to list",
     "output_type": "error",
     "traceback": [
      "\u001b[0;31m---------------------------------------------------------------------------\u001b[0m",
      "\u001b[0;31mTypeError\u001b[0m                                 Traceback (most recent call last)",
      "Cell \u001b[0;32mIn [99], line 1\u001b[0m\n\u001b[0;32m----> 1\u001b[0m \u001b[43ml1\u001b[49m\u001b[43m \u001b[49m\u001b[38;5;241;43m+\u001b[39;49m\u001b[43m \u001b[49m\u001b[38;5;124;43m'\u001b[39;49m\u001b[38;5;124;43msudh\u001b[39;49m\u001b[38;5;124;43m'\u001b[39;49m\n",
      "\u001b[0;31mTypeError\u001b[0m: can only concatenate list (not \"str\") to list"
     ]
    }
   ],
   "source": [
    "l1 + 'sudh'"
   ]
  },
  {
   "cell_type": "code",
   "execution_count": 100,
   "id": "37f2800c-76d8-41a1-ab34-81c569929206",
   "metadata": {},
   "outputs": [
    {
     "data": {
      "text/plain": [
       "['sudh', 'kumar', 4356, 'sudh']"
      ]
     },
     "execution_count": 100,
     "metadata": {},
     "output_type": "execute_result"
    }
   ],
   "source": [
    "l1 + ['sudh']"
   ]
  },
  {
   "cell_type": "code",
   "execution_count": 101,
   "id": "bb71aace-00c0-4f54-9a1d-d36bd2f80651",
   "metadata": {},
   "outputs": [
    {
     "data": {
      "text/plain": [
       "['sudh',\n",
       " 'kumar',\n",
       " 4356,\n",
       " 'sudh',\n",
       " 'kumar',\n",
       " 4356,\n",
       " 'sudh',\n",
       " 'kumar',\n",
       " 4356,\n",
       " 'sudh',\n",
       " 'kumar',\n",
       " 4356]"
      ]
     },
     "execution_count": 101,
     "metadata": {},
     "output_type": "execute_result"
    }
   ],
   "source": [
    "l1 * 4 "
   ]
  },
  {
   "cell_type": "code",
   "execution_count": 102,
   "id": "2aa21302-1f43-467f-a4f5-e5e2c8d1e89a",
   "metadata": {},
   "outputs": [
    {
     "data": {
      "text/plain": [
       "['sudh', 'kumar', 4356]"
      ]
     },
     "execution_count": 102,
     "metadata": {},
     "output_type": "execute_result"
    }
   ],
   "source": [
    "l1"
   ]
  },
  {
   "cell_type": "code",
   "execution_count": 103,
   "id": "96b3cdf4-c056-43a7-9032-f5dba1a3de62",
   "metadata": {},
   "outputs": [],
   "source": [
    "l1[0] = 'tejan'"
   ]
  },
  {
   "cell_type": "code",
   "execution_count": 104,
   "id": "5e0d4757-9271-4b11-8e5e-bf76d00013d1",
   "metadata": {},
   "outputs": [
    {
     "data": {
      "text/plain": [
       "['tejan', 'kumar', 4356]"
      ]
     },
     "execution_count": 104,
     "metadata": {},
     "output_type": "execute_result"
    }
   ],
   "source": [
    "l1"
   ]
  },
  {
   "cell_type": "code",
   "execution_count": 105,
   "id": "30c1484c-463b-4d48-84a1-8f779f1886c6",
   "metadata": {},
   "outputs": [
    {
     "ename": "TypeError",
     "evalue": "'str' object does not support item assignment",
     "output_type": "error",
     "traceback": [
      "\u001b[0;31m---------------------------------------------------------------------------\u001b[0m",
      "\u001b[0;31mTypeError\u001b[0m                                 Traceback (most recent call last)",
      "Cell \u001b[0;32mIn [105], line 1\u001b[0m\n\u001b[0;32m----> 1\u001b[0m \u001b[43ml1\u001b[49m\u001b[43m[\u001b[49m\u001b[38;5;241;43m1\u001b[39;49m\u001b[43m]\u001b[49m\u001b[43m[\u001b[49m\u001b[38;5;241;43m0\u001b[39;49m\u001b[43m]\u001b[49m \u001b[38;5;241m=\u001b[39m \u001b[38;5;124m'\u001b[39m\u001b[38;5;124ms\u001b[39m\u001b[38;5;124m'\u001b[39m\n",
      "\u001b[0;31mTypeError\u001b[0m: 'str' object does not support item assignment"
     ]
    }
   ],
   "source": [
    "l1[1][0] = 's'"
   ]
  },
  {
   "cell_type": "code",
   "execution_count": 106,
   "id": "2ee9b9f2-4498-48e1-8a2f-9cc2092c5695",
   "metadata": {},
   "outputs": [],
   "source": [
    "s = 'sudh'"
   ]
  },
  {
   "cell_type": "code",
   "execution_count": 107,
   "id": "d4b1e3de-af48-44e8-a2d0-02549987793b",
   "metadata": {},
   "outputs": [
    {
     "ename": "TypeError",
     "evalue": "'str' object does not support item assignment",
     "output_type": "error",
     "traceback": [
      "\u001b[0;31m---------------------------------------------------------------------------\u001b[0m",
      "\u001b[0;31mTypeError\u001b[0m                                 Traceback (most recent call last)",
      "Cell \u001b[0;32mIn [107], line 1\u001b[0m\n\u001b[0;32m----> 1\u001b[0m \u001b[43ms\u001b[49m\u001b[43m[\u001b[49m\u001b[38;5;241;43m0\u001b[39;49m\u001b[43m]\u001b[49m \u001b[38;5;241m=\u001b[39m \u001b[38;5;124m'\u001b[39m\u001b[38;5;124mk\u001b[39m\u001b[38;5;124m'\u001b[39m\n",
      "\u001b[0;31mTypeError\u001b[0m: 'str' object does not support item assignment"
     ]
    }
   ],
   "source": [
    "s[0] = 'k'"
   ]
  },
  {
   "cell_type": "code",
   "execution_count": 108,
   "id": "4f6935d0-6546-441a-8098-3a2e7de41b8f",
   "metadata": {},
   "outputs": [
    {
     "data": {
      "text/plain": [
       "['tejan', 'kumar', 4356]"
      ]
     },
     "execution_count": 108,
     "metadata": {},
     "output_type": "execute_result"
    }
   ],
   "source": [
    "l1"
   ]
  },
  {
   "cell_type": "code",
   "execution_count": 109,
   "id": "f1ccf540-199d-4ab7-9173-853d7f7c828e",
   "metadata": {},
   "outputs": [],
   "source": [
    "l1 = [4356455634564, 'kumar', 4356]"
   ]
  },
  {
   "cell_type": "code",
   "execution_count": 110,
   "id": "f825c801-8f2f-46d4-bd8a-0ae11ce62d51",
   "metadata": {},
   "outputs": [
    {
     "data": {
      "text/plain": [
       "3"
      ]
     },
     "execution_count": 110,
     "metadata": {},
     "output_type": "execute_result"
    }
   ],
   "source": [
    "len(l1)"
   ]
  },
  {
   "cell_type": "code",
   "execution_count": 111,
   "id": "a3e542e6-0788-496a-a267-74850240bff9",
   "metadata": {},
   "outputs": [
    {
     "data": {
      "text/plain": [
       "True"
      ]
     },
     "execution_count": 111,
     "metadata": {},
     "output_type": "execute_result"
    }
   ],
   "source": [
    "'kumar' in l1"
   ]
  },
  {
   "cell_type": "code",
   "execution_count": 112,
   "id": "a138c14e-006d-4b1c-bfdf-8ec698696cbc",
   "metadata": {},
   "outputs": [
    {
     "data": {
      "text/plain": [
       "False"
      ]
     },
     "execution_count": 112,
     "metadata": {},
     "output_type": "execute_result"
    }
   ],
   "source": [
    "345 in l1"
   ]
  },
  {
   "cell_type": "code",
   "execution_count": 118,
   "id": "f030e85f-fec8-417c-902b-dbf073c98586",
   "metadata": {},
   "outputs": [
    {
     "name": "stdout",
     "output_type": "stream",
     "text": [
      "[]\n",
      "[(5+8j)]\n"
     ]
    }
   ],
   "source": [
    "l = ['okay', 'kumar', 78, 45, 789, 5.5, True, 5 + 8j]\n",
    "print(l[-1:6])\n",
    "print(l[-1:6:-1])"
   ]
  },
  {
   "cell_type": "code",
   "execution_count": 119,
   "id": "83223ca4-5357-49eb-9229-d87c19fb475d",
   "metadata": {},
   "outputs": [
    {
     "data": {
      "text/plain": [
       "['xyz', 'pqr', 546.567]"
      ]
     },
     "execution_count": 119,
     "metadata": {},
     "output_type": "execute_result"
    }
   ],
   "source": [
    "l2"
   ]
  },
  {
   "cell_type": "code",
   "execution_count": 120,
   "id": "3cb21e4c-3491-48a7-809a-b33b48e46b80",
   "metadata": {},
   "outputs": [],
   "source": [
    "l2.append('sudh')"
   ]
  },
  {
   "cell_type": "code",
   "execution_count": 121,
   "id": "f49a6760-c0cc-49c0-8aad-8489b86273b3",
   "metadata": {},
   "outputs": [
    {
     "data": {
      "text/plain": [
       "['xyz', 'pqr', 546.567, 'sudh']"
      ]
     },
     "execution_count": 121,
     "metadata": {},
     "output_type": "execute_result"
    }
   ],
   "source": [
    "l2"
   ]
  },
  {
   "cell_type": "code",
   "execution_count": 122,
   "id": "ce4c05b2-aa2c-44af-8f2b-ec8056dda811",
   "metadata": {},
   "outputs": [
    {
     "data": {
      "text/plain": [
       "'sudh'"
      ]
     },
     "execution_count": 122,
     "metadata": {},
     "output_type": "execute_result"
    }
   ],
   "source": [
    "l2.pop()"
   ]
  },
  {
   "cell_type": "code",
   "execution_count": 123,
   "id": "5fff5f97-5e65-4540-8541-4a6f1d5775c2",
   "metadata": {},
   "outputs": [
    {
     "data": {
      "text/plain": [
       "['xyz', 'pqr', 546.567]"
      ]
     },
     "execution_count": 123,
     "metadata": {},
     "output_type": "execute_result"
    }
   ],
   "source": [
    "l2"
   ]
  },
  {
   "cell_type": "code",
   "execution_count": 124,
   "id": "ad6fdc78-5256-42c9-8d40-8b2bf898b536",
   "metadata": {},
   "outputs": [
    {
     "ename": "IndexError",
     "evalue": "pop index out of range",
     "output_type": "error",
     "traceback": [
      "\u001b[0;31m---------------------------------------------------------------------------\u001b[0m",
      "\u001b[0;31mIndexError\u001b[0m                                Traceback (most recent call last)",
      "Cell \u001b[0;32mIn [124], line 1\u001b[0m\n\u001b[0;32m----> 1\u001b[0m \u001b[43ml2\u001b[49m\u001b[38;5;241;43m.\u001b[39;49m\u001b[43mpop\u001b[49m\u001b[43m(\u001b[49m\u001b[38;5;241;43m3\u001b[39;49m\u001b[43m)\u001b[49m\n",
      "\u001b[0;31mIndexError\u001b[0m: pop index out of range"
     ]
    }
   ],
   "source": [
    "l2.pop(3)"
   ]
  },
  {
   "cell_type": "code",
   "execution_count": 125,
   "id": "fa4b717c-0fcb-4eda-99b0-78ad4f36cf23",
   "metadata": {},
   "outputs": [
    {
     "data": {
      "text/plain": [
       "546.567"
      ]
     },
     "execution_count": 125,
     "metadata": {},
     "output_type": "execute_result"
    }
   ],
   "source": [
    "l2.pop(2)"
   ]
  },
  {
   "cell_type": "code",
   "execution_count": 126,
   "id": "2659fc57-7904-4083-bc7a-0afae8967b9c",
   "metadata": {},
   "outputs": [
    {
     "data": {
      "text/plain": [
       "['xyz', 'pqr']"
      ]
     },
     "execution_count": 126,
     "metadata": {},
     "output_type": "execute_result"
    }
   ],
   "source": [
    "l2"
   ]
  },
  {
   "cell_type": "code",
   "execution_count": 127,
   "id": "4f217e26-a230-4d9f-96c2-0aca5405b528",
   "metadata": {},
   "outputs": [],
   "source": [
    "l2.append(345435)"
   ]
  },
  {
   "cell_type": "code",
   "execution_count": 128,
   "id": "4d3801d6-9f92-4df3-bdd6-2028afa58acc",
   "metadata": {},
   "outputs": [
    {
     "data": {
      "text/plain": [
       "['xyz', 'pqr', 345435]"
      ]
     },
     "execution_count": 128,
     "metadata": {},
     "output_type": "execute_result"
    }
   ],
   "source": [
    " l2"
   ]
  },
  {
   "cell_type": "code",
   "execution_count": 129,
   "id": "4761cd32-c0fc-43a9-a3dd-d8de6a44db4f",
   "metadata": {},
   "outputs": [],
   "source": [
    "l2.insert(1, 'dsbdifvn')"
   ]
  },
  {
   "cell_type": "code",
   "execution_count": 130,
   "id": "1c4cc344-9709-4254-be9d-0c900292d0c1",
   "metadata": {},
   "outputs": [
    {
     "data": {
      "text/plain": [
       "['xyz', 'dsbdifvn', 'pqr', 345435]"
      ]
     },
     "execution_count": 130,
     "metadata": {},
     "output_type": "execute_result"
    }
   ],
   "source": [
    "l2"
   ]
  },
  {
   "cell_type": "code",
   "execution_count": 131,
   "id": "37005e9c-e3b0-46af-a123-7857de40c2a4",
   "metadata": {},
   "outputs": [],
   "source": [
    "l2.insert(3, [34, 45, 56, 576, 67])"
   ]
  },
  {
   "cell_type": "code",
   "execution_count": 132,
   "id": "2974c8d3-da3a-414b-9ee2-8e5fa7b0b97b",
   "metadata": {},
   "outputs": [
    {
     "data": {
      "text/plain": [
       "['xyz', 'dsbdifvn', 'pqr', [34, 45, 56, 576, 67], 345435]"
      ]
     },
     "execution_count": 132,
     "metadata": {},
     "output_type": "execute_result"
    }
   ],
   "source": [
    "l2"
   ]
  },
  {
   "cell_type": "code",
   "execution_count": 133,
   "id": "ebd9f423-5816-49b5-bf16-0ce5df108759",
   "metadata": {},
   "outputs": [],
   "source": [
    "l2.reverse()"
   ]
  },
  {
   "cell_type": "code",
   "execution_count": 134,
   "id": "0becafff-dd4c-427f-9e38-305beda0eb14",
   "metadata": {},
   "outputs": [
    {
     "data": {
      "text/plain": [
       "[345435, [34, 45, 56, 576, 67], 'pqr', 'dsbdifvn', 'xyz']"
      ]
     },
     "execution_count": 134,
     "metadata": {},
     "output_type": "execute_result"
    }
   ],
   "source": [
    "l2"
   ]
  },
  {
   "cell_type": "code",
   "execution_count": 135,
   "id": "30d127ef-ac8c-4549-bd3e-35fc14fe06f7",
   "metadata": {},
   "outputs": [
    {
     "data": {
      "text/plain": [
       "[4356455634564, 'kumar', 4356]"
      ]
     },
     "execution_count": 135,
     "metadata": {},
     "output_type": "execute_result"
    }
   ],
   "source": [
    "l1"
   ]
  },
  {
   "cell_type": "code",
   "execution_count": 136,
   "id": "b110995e-1e71-4208-884d-88714cd2b9cb",
   "metadata": {},
   "outputs": [
    {
     "data": {
      "text/plain": [
       "[345435, [34, 45, 56, 576, 67], 'pqr', 'dsbdifvn', 'xyz']"
      ]
     },
     "execution_count": 136,
     "metadata": {},
     "output_type": "execute_result"
    }
   ],
   "source": [
    "l2"
   ]
  },
  {
   "cell_type": "code",
   "execution_count": 137,
   "id": "be464b06-4d76-47a0-bd33-c840c12c3f82",
   "metadata": {},
   "outputs": [
    {
     "data": {
      "text/plain": [
       "56"
      ]
     },
     "execution_count": 137,
     "metadata": {},
     "output_type": "execute_result"
    }
   ],
   "source": [
    "l2[1][2]"
   ]
  },
  {
   "cell_type": "code",
   "execution_count": 138,
   "id": "ed564170-7102-4110-9568-c1ff21b5f16e",
   "metadata": {},
   "outputs": [
    {
     "data": {
      "text/plain": [
       "1"
      ]
     },
     "execution_count": 138,
     "metadata": {},
     "output_type": "execute_result"
    }
   ],
   "source": [
    "l2.count('xyz')"
   ]
  },
  {
   "cell_type": "code",
   "execution_count": 139,
   "id": "9ac6392c-afd5-47d5-8325-5d9b7437cc0b",
   "metadata": {},
   "outputs": [
    {
     "data": {
      "text/plain": [
       "0"
      ]
     },
     "execution_count": 139,
     "metadata": {},
     "output_type": "execute_result"
    }
   ],
   "source": [
    "l2.count('xyzvfadivbn')"
   ]
  },
  {
   "cell_type": "code",
   "execution_count": 140,
   "id": "a129f0b5-0da6-447d-b7b8-ab8ca515fa06",
   "metadata": {},
   "outputs": [],
   "source": [
    "l2.append('dssafasf')"
   ]
  },
  {
   "cell_type": "code",
   "execution_count": 141,
   "id": "e0e67dcb-d823-441d-a3f6-3d1318f33bbf",
   "metadata": {},
   "outputs": [
    {
     "data": {
      "text/plain": [
       "[345435, [34, 45, 56, 576, 67], 'pqr', 'dsbdifvn', 'xyz', 'dssafasf']"
      ]
     },
     "execution_count": 141,
     "metadata": {},
     "output_type": "execute_result"
    }
   ],
   "source": [
    "l2"
   ]
  },
  {
   "cell_type": "code",
   "execution_count": 142,
   "id": "b4fb090d-040c-414d-8eae-61e09fcbe348",
   "metadata": {},
   "outputs": [],
   "source": [
    "l2.append([3, 4, 54, 6])"
   ]
  },
  {
   "cell_type": "code",
   "execution_count": 143,
   "id": "336d3592-b53d-4fba-94db-77fae8ed2dd5",
   "metadata": {},
   "outputs": [
    {
     "data": {
      "text/plain": [
       "[345435,\n",
       " [34, 45, 56, 576, 67],\n",
       " 'pqr',\n",
       " 'dsbdifvn',\n",
       " 'xyz',\n",
       " 'dssafasf',\n",
       " [3, 4, 54, 6]]"
      ]
     },
     "execution_count": 143,
     "metadata": {},
     "output_type": "execute_result"
    }
   ],
   "source": [
    "l2"
   ]
  },
  {
   "cell_type": "code",
   "execution_count": 144,
   "id": "9d0c227d-ed79-46aa-a314-5c07bff864ca",
   "metadata": {},
   "outputs": [
    {
     "data": {
      "text/plain": [
       "[4356455634564, 'kumar', 4356]"
      ]
     },
     "execution_count": 144,
     "metadata": {},
     "output_type": "execute_result"
    }
   ],
   "source": [
    "l1"
   ]
  },
  {
   "cell_type": "code",
   "execution_count": 145,
   "id": "4d749203-ba60-4075-99cf-66a0f2486ac0",
   "metadata": {},
   "outputs": [],
   "source": [
    "l1.extend([2, 54, 656, 'sdfs'])"
   ]
  },
  {
   "cell_type": "code",
   "execution_count": 146,
   "id": "9f58dfc6-26cd-44cf-a10e-b1c10f8b3248",
   "metadata": {},
   "outputs": [
    {
     "data": {
      "text/plain": [
       "[4356455634564, 'kumar', 4356, 2, 54, 656, 'sdfs']"
      ]
     },
     "execution_count": 146,
     "metadata": {},
     "output_type": "execute_result"
    }
   ],
   "source": [
    "l1"
   ]
  },
  {
   "cell_type": "code",
   "execution_count": 147,
   "id": "4e277515-2042-45a5-8963-99666a57e0df",
   "metadata": {},
   "outputs": [
    {
     "ename": "TypeError",
     "evalue": "'int' object is not iterable",
     "output_type": "error",
     "traceback": [
      "\u001b[0;31m---------------------------------------------------------------------------\u001b[0m",
      "\u001b[0;31mTypeError\u001b[0m                                 Traceback (most recent call last)",
      "Cell \u001b[0;32mIn [147], line 1\u001b[0m\n\u001b[0;32m----> 1\u001b[0m \u001b[43ml1\u001b[49m\u001b[38;5;241;43m.\u001b[39;49m\u001b[43mextend\u001b[49m\u001b[43m(\u001b[49m\u001b[38;5;241;43m2\u001b[39;49m\u001b[43m)\u001b[49m\n",
      "\u001b[0;31mTypeError\u001b[0m: 'int' object is not iterable"
     ]
    }
   ],
   "source": [
    "l1.extend(2)"
   ]
  },
  {
   "cell_type": "code",
   "execution_count": 148,
   "id": "b69c3067-58e5-4320-afd6-da75421fdc7f",
   "metadata": {},
   "outputs": [
    {
     "data": {
      "text/plain": [
       "['afuivbasviabv asvbasvb savasidv asvasvjkbasvkb asldiv']"
      ]
     },
     "execution_count": 148,
     "metadata": {},
     "output_type": "execute_result"
    }
   ],
   "source": [
    "'afuivbasviabv asvbasvb savasidv asvasvjkbasvkb asldiv'.split('\\\\')"
   ]
  },
  {
   "cell_type": "code",
   "execution_count": 149,
   "id": "b182224c-03a8-4fe6-9765-3eaec47d52ef",
   "metadata": {},
   "outputs": [
    {
     "data": {
      "text/plain": [
       "['afuivbasviabv asvbasvb savasidv asvasvjkbasvkb asldiv']"
      ]
     },
     "execution_count": 149,
     "metadata": {},
     "output_type": "execute_result"
    }
   ],
   "source": [
    "'afuivbasviabv asvbasvb savasidv asvasvjkbasvkb asldiv'.split('#')"
   ]
  },
  {
   "cell_type": "code",
   "execution_count": 150,
   "id": "bf639bc7-a682-4aec-946a-44140b6827fb",
   "metadata": {},
   "outputs": [
    {
     "data": {
      "text/plain": [
       "[]"
      ]
     },
     "execution_count": 150,
     "metadata": {},
     "output_type": "execute_result"
    }
   ],
   "source": [
    "l = [1, 2, 3, 4, 5, 6]\n",
    "l[-1:5]"
   ]
  },
  {
   "cell_type": "code",
   "execution_count": 158,
   "id": "292982e5-fc0b-41d9-9937-81df093ddbec",
   "metadata": {},
   "outputs": [
    {
     "data": {
      "text/plain": [
       "'a       i'"
      ]
     },
     "execution_count": 158,
     "metadata": {},
     "output_type": "execute_result"
    }
   ],
   "source": [
    "'a\\ti'.expandtabs()"
   ]
  },
  {
   "cell_type": "code",
   "execution_count": null,
   "id": "d91672fe-3139-4855-8b56-0e9b4b1fa602",
   "metadata": {},
   "outputs": [],
   "source": []
  }
 ],
 "metadata": {
  "kernelspec": {
   "display_name": "Python 3 (ipykernel)",
   "language": "python",
   "name": "python3"
  },
  "language_info": {
   "codemirror_mode": {
    "name": "ipython",
    "version": 3
   },
   "file_extension": ".py",
   "mimetype": "text/x-python",
   "name": "python",
   "nbconvert_exporter": "python",
   "pygments_lexer": "ipython3",
   "version": "3.10.6"
  }
 },
 "nbformat": 4,
 "nbformat_minor": 5
}
