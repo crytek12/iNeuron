{
 "cells": [
  {
   "cell_type": "code",
   "execution_count": 1,
   "id": "3b5a2818-b337-486e-8d81-f5f62513f179",
   "metadata": {},
   "outputs": [
    {
     "name": "stdout",
     "output_type": "stream",
     "text": [
      "The Zen of Python, by Tim Peters\n",
      "\n",
      "Beautiful is better than ugly.\n",
      "Explicit is better than implicit.\n",
      "Simple is better than complex.\n",
      "Complex is better than complicated.\n",
      "Flat is better than nested.\n",
      "Sparse is better than dense.\n",
      "Readability counts.\n",
      "Special cases aren't special enough to break the rules.\n",
      "Although practicality beats purity.\n",
      "Errors should never pass silently.\n",
      "Unless explicitly silenced.\n",
      "In the face of ambiguity, refuse the temptation to guess.\n",
      "There should be one-- and preferably only one --obvious way to do it.\n",
      "Although that way may not be obvious at first unless you're Dutch.\n",
      "Now is better than never.\n",
      "Although never is often better than *right* now.\n",
      "If the implementation is hard to explain, it's a bad idea.\n",
      "If the implementation is easy to explain, it may be a good idea.\n",
      "Namespaces are one honking great idea -- let's do more of those!\n"
     ]
    }
   ],
   "source": [
    "import this"
   ]
  },
  {
   "cell_type": "code",
   "execution_count": 2,
   "id": "24e5c965-cc22-4d30-9acd-329253e3f376",
   "metadata": {},
   "outputs": [
    {
     "name": "stdout",
     "output_type": "stream",
     "text": [
      "this is my first prog\n"
     ]
    }
   ],
   "source": [
    "print('this is my first prog')"
   ]
  },
  {
   "cell_type": "code",
   "execution_count": 3,
   "id": "e747973b-683d-4002-83cb-0e4b82ea8aae",
   "metadata": {},
   "outputs": [
    {
     "data": {
      "text/plain": [
       "3"
      ]
     },
     "execution_count": 3,
     "metadata": {},
     "output_type": "execute_result"
    }
   ],
   "source": [
    "1 + 2"
   ]
  },
  {
   "cell_type": "code",
   "execution_count": 4,
   "id": "6510a5b1-978f-4838-9db5-9e7027fcc6b4",
   "metadata": {},
   "outputs": [
    {
     "data": {
      "text/plain": [
       "0.42857142857142855"
      ]
     },
     "execution_count": 4,
     "metadata": {},
     "output_type": "execute_result"
    }
   ],
   "source": [
    "3/7"
   ]
  },
  {
   "cell_type": "code",
   "execution_count": 5,
   "id": "3e72034c-4126-4012-aae3-284361ae09be",
   "metadata": {},
   "outputs": [],
   "source": [
    "a = 10"
   ]
  },
  {
   "cell_type": "code",
   "execution_count": 6,
   "id": "536abf05-2501-4cf7-a6b2-d123e9731940",
   "metadata": {},
   "outputs": [],
   "source": [
    "sudh = 4564"
   ]
  },
  {
   "cell_type": "code",
   "execution_count": 7,
   "id": "3b4863ed-805e-4e37-bff5-a2990ca6b91b",
   "metadata": {},
   "outputs": [],
   "source": [
    "re = 23423"
   ]
  },
  {
   "cell_type": "code",
   "execution_count": 8,
   "id": "20ee1fea-2908-4d6e-a5b0-a38dc88e1e9d",
   "metadata": {},
   "outputs": [
    {
     "data": {
      "text/plain": [
       "4564"
      ]
     },
     "execution_count": 8,
     "metadata": {},
     "output_type": "execute_result"
    }
   ],
   "source": [
    "sudh"
   ]
  },
  {
   "cell_type": "code",
   "execution_count": 9,
   "id": "87045cdb-d72a-4a36-8ca7-4694738447d7",
   "metadata": {},
   "outputs": [
    {
     "data": {
      "text/plain": [
       "int"
      ]
     },
     "execution_count": 9,
     "metadata": {},
     "output_type": "execute_result"
    }
   ],
   "source": [
    "type(a)"
   ]
  },
  {
   "cell_type": "code",
   "execution_count": 10,
   "id": "fa0d7b3b-299d-423f-9fdd-a102ef75234e",
   "metadata": {},
   "outputs": [],
   "source": [
    "b = 45.67"
   ]
  },
  {
   "cell_type": "code",
   "execution_count": 11,
   "id": "6f4cb829-9c1c-4f2e-a82b-c15a17a12bd2",
   "metadata": {},
   "outputs": [
    {
     "data": {
      "text/plain": [
       "float"
      ]
     },
     "execution_count": 11,
     "metadata": {},
     "output_type": "execute_result"
    }
   ],
   "source": [
    "type(b)"
   ]
  },
  {
   "cell_type": "code",
   "execution_count": 12,
   "id": "5e437ec5-f943-4838-a16c-044a56482358",
   "metadata": {},
   "outputs": [],
   "source": [
    "c = 'sudh'"
   ]
  },
  {
   "cell_type": "code",
   "execution_count": 13,
   "id": "d9c9ee5a-6262-4694-8002-da594ef5f522",
   "metadata": {},
   "outputs": [
    {
     "data": {
      "text/plain": [
       "str"
      ]
     },
     "execution_count": 13,
     "metadata": {},
     "output_type": "execute_result"
    }
   ],
   "source": [
    "type(c)"
   ]
  },
  {
   "cell_type": "code",
   "execution_count": 15,
   "id": "dc9b43ab-c323-4f2f-ae44-1ed4e4e759ee",
   "metadata": {},
   "outputs": [],
   "source": [
    "d = 5 + 6j"
   ]
  },
  {
   "cell_type": "code",
   "execution_count": 16,
   "id": "07f7b352-2519-4029-a9e5-f23909a261cc",
   "metadata": {},
   "outputs": [
    {
     "data": {
      "text/plain": [
       "(5+6j)"
      ]
     },
     "execution_count": 16,
     "metadata": {},
     "output_type": "execute_result"
    }
   ],
   "source": [
    "d"
   ]
  },
  {
   "cell_type": "code",
   "execution_count": 17,
   "id": "beb3fe9a-5a58-4b44-9806-f7dd04621698",
   "metadata": {},
   "outputs": [
    {
     "data": {
      "text/plain": [
       "complex"
      ]
     },
     "execution_count": 17,
     "metadata": {},
     "output_type": "execute_result"
    }
   ],
   "source": [
    "type(d)"
   ]
  },
  {
   "cell_type": "code",
   "execution_count": 18,
   "id": "28d63d16-a6f9-46aa-a1f0-ddfcddaad871",
   "metadata": {},
   "outputs": [],
   "source": [
    "e = 'sudh'"
   ]
  },
  {
   "cell_type": "code",
   "execution_count": 19,
   "id": "59d066a2-8253-44d8-be24-b93527c41d96",
   "metadata": {},
   "outputs": [
    {
     "data": {
      "text/plain": [
       "'sudh'"
      ]
     },
     "execution_count": 19,
     "metadata": {},
     "output_type": "execute_result"
    }
   ],
   "source": [
    "e"
   ]
  },
  {
   "cell_type": "code",
   "execution_count": 20,
   "id": "84cc6a5a-a086-4866-83ad-8a60fe2b034a",
   "metadata": {},
   "outputs": [
    {
     "data": {
      "text/plain": [
       "'sudh'"
      ]
     },
     "execution_count": 20,
     "metadata": {},
     "output_type": "execute_result"
    }
   ],
   "source": [
    "c"
   ]
  },
  {
   "cell_type": "code",
   "execution_count": 21,
   "id": "af9b26a2-1373-4bd9-9c47-572ff5f19e09",
   "metadata": {},
   "outputs": [],
   "source": [
    "n = 'sifgnvadlibnvsdilzbnisdjbnidnbsdiojnbdaibndijfbn'"
   ]
  },
  {
   "cell_type": "code",
   "execution_count": 22,
   "id": "c4b1476a-1fa3-4219-956c-8e8fb971a553",
   "metadata": {},
   "outputs": [],
   "source": [
    "g = True"
   ]
  },
  {
   "cell_type": "code",
   "execution_count": 23,
   "id": "5584b8af-5885-4d76-a3a9-2f51e7952e4c",
   "metadata": {},
   "outputs": [
    {
     "data": {
      "text/plain": [
       "bool"
      ]
     },
     "execution_count": 23,
     "metadata": {},
     "output_type": "execute_result"
    }
   ],
   "source": [
    "type(g)"
   ]
  },
  {
   "cell_type": "code",
   "execution_count": 24,
   "id": "eb19474f-139a-40d2-9418-fbd8e69aac0f",
   "metadata": {},
   "outputs": [
    {
     "ename": "SyntaxError",
     "evalue": "starred assignment target must be in a list or tuple (456700294.py, line 1)",
     "output_type": "error",
     "traceback": [
      "\u001b[0;36m  Cell \u001b[0;32mIn [24], line 1\u001b[0;36m\u001b[0m\n\u001b[0;31m    *a = 67\u001b[0m\n\u001b[0m    ^\u001b[0m\n\u001b[0;31mSyntaxError\u001b[0m\u001b[0;31m:\u001b[0m starred assignment target must be in a list or tuple\n"
     ]
    }
   ],
   "source": [
    "*a = 67"
   ]
  },
  {
   "cell_type": "code",
   "execution_count": 25,
   "id": "88d009ad-a3da-477d-9446-adfd964dd0e3",
   "metadata": {},
   "outputs": [],
   "source": [
    "_a = 45"
   ]
  },
  {
   "cell_type": "code",
   "execution_count": 26,
   "id": "8ce9b60b-6256-4ff8-9a28-d76b0d2ae969",
   "metadata": {},
   "outputs": [],
   "source": [
    "a = 34"
   ]
  },
  {
   "cell_type": "code",
   "execution_count": 27,
   "id": "c2f543c1-ade7-4d67-ba9b-045b92d95ee0",
   "metadata": {},
   "outputs": [
    {
     "data": {
      "text/plain": [
       "34"
      ]
     },
     "execution_count": 27,
     "metadata": {},
     "output_type": "execute_result"
    }
   ],
   "source": [
    "a"
   ]
  },
  {
   "cell_type": "code",
   "execution_count": 28,
   "id": "eb08b691-09a7-411f-8a3b-388f1342eff8",
   "metadata": {},
   "outputs": [],
   "source": [
    "a = 5464\n",
    "b = 'sudh'\n",
    "c = 6 + 7j\n",
    "d = True\n",
    "e = 546.67"
   ]
  },
  {
   "cell_type": "code",
   "execution_count": 29,
   "id": "73b597c0-6c2c-4053-bcf8-f8066534a5d9",
   "metadata": {},
   "outputs": [
    {
     "data": {
      "text/plain": [
       "5464"
      ]
     },
     "execution_count": 29,
     "metadata": {},
     "output_type": "execute_result"
    }
   ],
   "source": [
    "a"
   ]
  },
  {
   "cell_type": "code",
   "execution_count": 30,
   "id": "4bfb17f7-f264-403c-8819-1d17a37542ce",
   "metadata": {},
   "outputs": [],
   "source": [
    "a1 = 9877"
   ]
  },
  {
   "cell_type": "code",
   "execution_count": 31,
   "id": "4a414fb5-c791-4817-a826-f9a2524b35d8",
   "metadata": {},
   "outputs": [
    {
     "data": {
      "text/plain": [
       "15341"
      ]
     },
     "execution_count": 31,
     "metadata": {},
     "output_type": "execute_result"
    }
   ],
   "source": [
    "a + a1"
   ]
  },
  {
   "cell_type": "code",
   "execution_count": 32,
   "id": "6f6ca5e7-7e20-474c-830d-cdc945fc0f68",
   "metadata": {},
   "outputs": [],
   "source": [
    "a, b, c, d, e = 234, 'kumar', 4 + 6j, False, 345.345"
   ]
  },
  {
   "cell_type": "code",
   "execution_count": 33,
   "id": "16449117-30ac-4e6a-9df2-7b38b3c4a7ca",
   "metadata": {},
   "outputs": [
    {
     "data": {
      "text/plain": [
       "234"
      ]
     },
     "execution_count": 33,
     "metadata": {},
     "output_type": "execute_result"
    }
   ],
   "source": [
    "a"
   ]
  },
  {
   "cell_type": "code",
   "execution_count": 34,
   "id": "53ff6fc2-7ddf-463f-9f38-67823fb278dd",
   "metadata": {},
   "outputs": [
    {
     "data": {
      "text/plain": [
       "'kumar'"
      ]
     },
     "execution_count": 34,
     "metadata": {},
     "output_type": "execute_result"
    }
   ],
   "source": [
    "b"
   ]
  },
  {
   "cell_type": "code",
   "execution_count": 35,
   "id": "5bb9ed68-9688-47f3-a891-72651ef4b860",
   "metadata": {},
   "outputs": [
    {
     "data": {
      "text/plain": [
       "(4+6j)"
      ]
     },
     "execution_count": 35,
     "metadata": {},
     "output_type": "execute_result"
    }
   ],
   "source": [
    "c"
   ]
  },
  {
   "cell_type": "code",
   "execution_count": 36,
   "id": "93268993-65dc-45f8-a501-c6197789d2ac",
   "metadata": {},
   "outputs": [
    {
     "data": {
      "text/plain": [
       "345.345"
      ]
     },
     "execution_count": 36,
     "metadata": {},
     "output_type": "execute_result"
    }
   ],
   "source": [
    " e"
   ]
  },
  {
   "cell_type": "code",
   "execution_count": 56,
   "id": "185d4163-7d6e-4dcb-8077-6a10d1bad3cb",
   "metadata": {},
   "outputs": [
    {
     "data": {
      "text/plain": [
       "(4+6j)"
      ]
     },
     "execution_count": 56,
     "metadata": {},
     "output_type": "execute_result"
    }
   ],
   "source": [
    "c"
   ]
  },
  {
   "cell_type": "code",
   "execution_count": 38,
   "id": "9843009d-6e96-452e-96be-20f91f808ac3",
   "metadata": {},
   "outputs": [
    {
     "data": {
      "text/plain": [
       "complex"
      ]
     },
     "execution_count": 38,
     "metadata": {},
     "output_type": "execute_result"
    }
   ],
   "source": [
    "type(c)"
   ]
  },
  {
   "cell_type": "code",
   "execution_count": 39,
   "id": "caad3c4e-6013-4ef1-a766-5122d07b9a23",
   "metadata": {},
   "outputs": [
    {
     "data": {
      "text/plain": [
       "6.0"
      ]
     },
     "execution_count": 39,
     "metadata": {},
     "output_type": "execute_result"
    }
   ],
   "source": [
    "c.imag"
   ]
  },
  {
   "cell_type": "code",
   "execution_count": 40,
   "id": "84a0bd53-dcdc-4473-a64d-5b3978d3b454",
   "metadata": {},
   "outputs": [
    {
     "data": {
      "text/plain": [
       "4.0"
      ]
     },
     "execution_count": 40,
     "metadata": {},
     "output_type": "execute_result"
    }
   ],
   "source": [
    "c.real"
   ]
  },
  {
   "cell_type": "code",
   "execution_count": 41,
   "id": "3725d05d-a032-4269-a541-5e0e7d8664db",
   "metadata": {},
   "outputs": [
    {
     "data": {
      "text/plain": [
       "'kumar'"
      ]
     },
     "execution_count": 41,
     "metadata": {},
     "output_type": "execute_result"
    }
   ],
   "source": [
    "b"
   ]
  },
  {
   "cell_type": "code",
   "execution_count": 42,
   "id": "4128d236-1950-4c4d-a4cd-9f96b1e092b9",
   "metadata": {},
   "outputs": [],
   "source": [
    "a = 'sudh'"
   ]
  },
  {
   "cell_type": "code",
   "execution_count": 45,
   "id": "5698f150-1ae4-412a-85f5-ce99275487b9",
   "metadata": {},
   "outputs": [
    {
     "data": {
      "text/plain": [
       "'sudh4'"
      ]
     },
     "execution_count": 45,
     "metadata": {},
     "output_type": "execute_result"
    }
   ],
   "source": [
    "a + str(4)"
   ]
  },
  {
   "cell_type": "code",
   "execution_count": 46,
   "id": "71830b3d-f059-4906-b6ac-f77c2190d72f",
   "metadata": {},
   "outputs": [
    {
     "data": {
      "text/plain": [
       "2"
      ]
     },
     "execution_count": 46,
     "metadata": {},
     "output_type": "execute_result"
    }
   ],
   "source": [
    "True + True"
   ]
  },
  {
   "cell_type": "code",
   "execution_count": 47,
   "id": "bef44097-a317-4f23-9c43-58410b403b97",
   "metadata": {},
   "outputs": [
    {
     "data": {
      "text/plain": [
       "1"
      ]
     },
     "execution_count": 47,
     "metadata": {},
     "output_type": "execute_result"
    }
   ],
   "source": [
    "True - False"
   ]
  },
  {
   "cell_type": "code",
   "execution_count": 48,
   "id": "4033f820-3032-46ac-a3b8-2220c6e6a0e7",
   "metadata": {},
   "outputs": [
    {
     "data": {
      "text/plain": [
       "2"
      ]
     },
     "execution_count": 48,
     "metadata": {},
     "output_type": "execute_result"
    }
   ],
   "source": [
    "1 + True"
   ]
  },
  {
   "cell_type": "code",
   "execution_count": 49,
   "id": "c4515f97-ead4-4f0f-8ab2-ec2bb7b68847",
   "metadata": {},
   "outputs": [
    {
     "name": "stdin",
     "output_type": "stream",
     "text": [
      " vauvbauhvbahuvbadvbadhvhbadvhh\n"
     ]
    },
    {
     "data": {
      "text/plain": [
       "'vauvbauhvbahuvbadvbadhvhbadvhh'"
      ]
     },
     "execution_count": 49,
     "metadata": {},
     "output_type": "execute_result"
    }
   ],
   "source": [
    "input()"
   ]
  },
  {
   "cell_type": "code",
   "execution_count": 51,
   "id": "60568314-810b-47d2-8fbf-2f03eee8fff6",
   "metadata": {},
   "outputs": [
    {
     "name": "stdin",
     "output_type": "stream",
     "text": [
      " 34534532\n"
     ]
    }
   ],
   "source": [
    "a = input()"
   ]
  },
  {
   "cell_type": "code",
   "execution_count": 52,
   "id": "79571dfc-34dd-4b3d-8b5d-b7a55a1c3647",
   "metadata": {},
   "outputs": [
    {
     "data": {
      "text/plain": [
       "'34534532'"
      ]
     },
     "execution_count": 52,
     "metadata": {},
     "output_type": "execute_result"
    }
   ],
   "source": [
    "a"
   ]
  },
  {
   "cell_type": "code",
   "execution_count": 53,
   "id": "8ab40c2f-2c15-4426-989c-2347cf6339c7",
   "metadata": {},
   "outputs": [],
   "source": [
    "b = 45"
   ]
  },
  {
   "cell_type": "code",
   "execution_count": 55,
   "id": "ae316b14-6730-4795-b4b6-2d3a8e18bb2e",
   "metadata": {},
   "outputs": [
    {
     "data": {
      "text/plain": [
       "34534577"
      ]
     },
     "execution_count": 55,
     "metadata": {},
     "output_type": "execute_result"
    }
   ],
   "source": [
    "int(a) + b"
   ]
  },
  {
   "cell_type": "code",
   "execution_count": null,
   "id": "39b1294a-859c-4cba-b39a-f82ed08b569c",
   "metadata": {},
   "outputs": [],
   "source": []
  }
 ],
 "metadata": {
  "kernelspec": {
   "display_name": "Python 3 (ipykernel)",
   "language": "python",
   "name": "python3"
  },
  "language_info": {
   "codemirror_mode": {
    "name": "ipython",
    "version": 3
   },
   "file_extension": ".py",
   "mimetype": "text/x-python",
   "name": "python",
   "nbconvert_exporter": "python",
   "pygments_lexer": "ipython3",
   "version": "3.10.6"
  }
 },
 "nbformat": 4,
 "nbformat_minor": 5
}
