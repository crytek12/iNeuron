{
 "cells": [
  {
   "cell_type": "markdown",
   "id": "f2adccf4-b0fe-468a-aacf-53844fa4d3ba",
   "metadata": {},
   "source": [
    "# Assignment_1"
   ]
  },
  {
   "cell_type": "raw",
   "id": "104f5ea0-d651-4619-b56c-17bca338f174",
   "metadata": {},
   "source": [
    "1. In the below elements which of them are values or an expression? eg:- values can be integer or string and expressions will be mathematical operators.\n",
    "* \n",
    "'hello'\n",
    "-87.8\n",
    "- \n",
    "/ \n",
    "+\t\n",
    "6\n",
    "\n",
    "Ans. 'hello', -87.8, 6 are all values\n",
    "      *, -, /, + are all expressions"
   ]
  },
  {
   "cell_type": "raw",
   "id": "47246359-162d-4462-9f38-d5278cc148cf",
   "metadata": {},
   "source": [
    "2. What is the difference between string and variable?\n",
    "\n",
    "Ans. Variables are nothing but a placeholder used to store data of various types present in Python, whereas a string is a sequence or            collection of characters.\n",
    "     Example: 'Robot' is a string\n",
    "               x = 3. Here x is a variable"
   ]
  },
  {
   "cell_type": "raw",
   "id": "d8bc6028-c722-4c1e-955b-cf7152856531",
   "metadata": {},
   "source": [
    "3. Describe three different data types.\n",
    "\n",
    "Ans. (1) str - This type is used to designate a string ('a', '$3weaTxd', '123') \n",
    "     (2) float - This type is used to designate a floating-point number (4.2, 6.987, 4.2e-4)\n",
    "     (3) int - This type is used to designate integer numbers (34, -984, 0)"
   ]
  },
  {
   "cell_type": "raw",
   "id": "6c89d5d0-62b6-4e85-b1b8-2d149638c51e",
   "metadata": {},
   "source": [
    "4. What is an expression made up of? What do all expressions do?\n",
    "\n",
    "Ans. An expression is a combination of values, variables, and operators.  \n",
    "     Example: x = x + 6.5\n",
    "     All expressions are evaluated to obtain or yield a result"
   ]
  },
  {
   "cell_type": "raw",
   "id": "615eb251-eba8-4cec-b0a7-3c6439bc266a",
   "metadata": {},
   "source": [
    "5. This assignment statements, like spam = 10. What is the difference between an expression and a statement?\n",
    "\n",
    "Ans. If you can print it, or assign it to a variable, it’s an expression. If you can’t, then it’s a statement.\n",
    "     Examples of expressions are :\n",
    "     1. 2 + 43\n",
    "     2. 3 * 7 * 9\n",
    "     3. True\n",
    "     \n",
    "     Examples of statements are:\n",
    "     1. if CONDITION:\n",
    "     2. elif CONDITION:\n",
    "     3. else:"
   ]
  },
  {
   "cell_type": "raw",
   "id": "7a2dc4b7-6198-4c74-9506-fd82333831d3",
   "metadata": {},
   "source": [
    "6. After running the following code, what does the variable bacon contain?\n",
    "bacon = 22\n",
    "bacon + 1\n",
    "\n",
    "Ans. 22\n",
    "     As, we are just simply adding a value 1 without assigning back to it. So we expect the bacon to contain it's original value of 22  "
   ]
  },
  {
   "cell_type": "raw",
   "id": "e9aab678-8eb4-4ddb-9605-e949c673be17",
   "metadata": {},
   "source": [
    "7. What should the values of the following two terms be?\n",
    "'spam' + 'spamspam'\n",
    "'spam' * 3\n",
    "\n",
    "Ans. Both the terms contain the value of'spamspamspam'"
   ]
  },
  {
   "cell_type": "raw",
   "id": "8676b999-3415-4d45-ae24-245d694d115a",
   "metadata": {},
   "source": [
    "8. Why is eggs a valid variable name while 100 is invalid?\n",
    "\n",
    "Ans. eggs is valid variable name because it starts with a letter.\n",
    "     100 is invalid since it starts with a number."
   ]
  },
  {
   "cell_type": "raw",
   "id": "2bb77f44-feba-44de-b320-d012f2ef27b2",
   "metadata": {},
   "source": [
    "9. What three functions can be used to get the integer, floating-point number, or string version of a value?\n",
    "\n",
    "Ans. int(), float(), str() can be used to get the integer, floating-point number, or string version of a value respectively."
   ]
  },
  {
   "cell_type": "raw",
   "id": "2f0e2456-459a-4991-ba05-71dcdde57d9d",
   "metadata": {},
   "source": [
    "10. Why does this expression cause an error? How can you fix it?\n",
    "'I have eaten ' + 99 + ' burritos.'\n",
    "\n",
    "Ans. It contains a TypeError as you cannot concatenate a string with an integer. \n",
    "     Two possible ways of getting around this is by:\n",
    "     1. Putting the value 99 around single or double quotation marks\n",
    "     2. casting the value of 99 explicitly as a string"
   ]
  },
  {
   "cell_type": "code",
   "execution_count": null,
   "id": "5b531c78-4045-4248-8ba0-b6fb93d97998",
   "metadata": {},
   "outputs": [],
   "source": []
  }
 ],
 "metadata": {
  "kernelspec": {
   "display_name": "Python 3 (ipykernel)",
   "language": "python",
   "name": "python3"
  },
  "language_info": {
   "codemirror_mode": {
    "name": "ipython",
    "version": 3
   },
   "file_extension": ".py",
   "mimetype": "text/x-python",
   "name": "python",
   "nbconvert_exporter": "python",
   "pygments_lexer": "ipython3",
   "version": "3.10.6"
  }
 },
 "nbformat": 4,
 "nbformat_minor": 5
}
