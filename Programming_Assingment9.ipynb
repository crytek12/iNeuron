{
 "cells": [
  {
   "cell_type": "markdown",
   "id": "72a6b4fb",
   "metadata": {},
   "source": [
    "# Programming_Assingment9"
   ]
  },
  {
   "cell_type": "markdown",
   "id": "038cf260",
   "metadata": {},
   "source": [
    "**Q1. Write a Python program to check if the given number is a Disarium Number?**"
   ]
  },
  {
   "cell_type": "code",
   "execution_count": 1,
   "id": "9dda6568",
   "metadata": {},
   "outputs": [
    {
     "name": "stdout",
     "output_type": "stream",
     "text": [
      "Enter a number: 89\n",
      "89 is a disarium number\n"
     ]
    }
   ],
   "source": [
    "# Take input from user for a number\n",
    "n = input('Enter a number: ')\n",
    "\n",
    "res = 0\n",
    "for i, v in enumerate(n):\n",
    "    res += int(v) ** (i + 1)\n",
    "\n",
    "# Check if the number is Disarium \n",
    "if res == int(n):\n",
    "    print(f'{n} is a disarium number')\n",
    "else:\n",
    "    print(f'{n} is not a disarium number')"
   ]
  },
  {
   "cell_type": "markdown",
   "id": "8860d9bd",
   "metadata": {},
   "source": [
    "**Q2. Write a Python program to print all disarium numbers between 1 to 100?**"
   ]
  },
  {
   "cell_type": "code",
   "execution_count": 2,
   "id": "19d5e956",
   "metadata": {},
   "outputs": [
    {
     "name": "stdout",
     "output_type": "stream",
     "text": [
      "1\n",
      "2\n",
      "3\n",
      "4\n",
      "5\n",
      "6\n",
      "7\n",
      "8\n",
      "9\n",
      "89\n"
     ]
    }
   ],
   "source": [
    "for i in range(1, 101):\n",
    "    res = 0\n",
    "    for k, v in enumerate(str(i)):\n",
    "        res += int(v) ** (k + 1)\n",
    "    if res == i:\n",
    "        print(i)"
   ]
  },
  {
   "cell_type": "markdown",
   "id": "09a179f5",
   "metadata": {},
   "source": [
    "**Q3. Write a Python program to check if the given number is Happy Number?**"
   ]
  },
  {
   "cell_type": "code",
   "execution_count": 3,
   "id": "64662179",
   "metadata": {},
   "outputs": [
    {
     "name": "stdout",
     "output_type": "stream",
     "text": [
      "True\n",
      "True\n",
      "False\n"
     ]
    }
   ],
   "source": [
    "def is_Happy_num(n):\n",
    "    \"\"\"\n",
    "    Returns true if n is a Happy Number else false\n",
    "    \"\"\"\n",
    "    past = set()\n",
    "    while n != 1:\n",
    "        n = sum(int(i)**2 for i in str(n))\n",
    "        if n in past:\n",
    "            return False\n",
    "        past.add(n)\n",
    "    return True\n",
    "\n",
    "print(is_Happy_num(7))\n",
    "print(is_Happy_num(932))\n",
    "print(is_Happy_num(6))"
   ]
  },
  {
   "cell_type": "markdown",
   "id": "d8fa95a2",
   "metadata": {},
   "source": [
    "**Q4. Write a Python program to print all happy numbers between 1 and 100?**"
   ]
  },
  {
   "cell_type": "code",
   "execution_count": 4,
   "id": "353d742f",
   "metadata": {},
   "outputs": [
    {
     "name": "stdout",
     "output_type": "stream",
     "text": [
      "1\n",
      "7\n",
      "10\n",
      "13\n",
      "19\n",
      "23\n",
      "28\n",
      "31\n",
      "32\n",
      "44\n",
      "49\n",
      "68\n",
      "70\n",
      "79\n",
      "82\n",
      "86\n",
      "91\n",
      "94\n",
      "97\n",
      "100\n"
     ]
    }
   ],
   "source": [
    "for i in range(1, 101):\n",
    "    if is_Happy_num(i):\n",
    "        print(i)"
   ]
  },
  {
   "cell_type": "markdown",
   "id": "504201e0",
   "metadata": {},
   "source": [
    "**Q5. Write a Python program to determine whether the given number is a Harshad Number?**"
   ]
  },
  {
   "cell_type": "code",
   "execution_count": 5,
   "id": "26bfa26a",
   "metadata": {},
   "outputs": [
    {
     "name": "stdout",
     "output_type": "stream",
     "text": [
      "Enter number: 6804\n",
      "6804 is Harshad Number\n"
     ]
    }
   ],
   "source": [
    "# Harshad Number\n",
    "\n",
    "# Reading number\n",
    "number = int(input('Enter number: '))\n",
    "\n",
    "# Making copy of number for later use\n",
    "copy = number\n",
    "\n",
    "# Finding sum of digit\n",
    "digit_sum = 0\n",
    "\n",
    "while number:\n",
    "    digit_sum += number%10\n",
    "    number //= 10\n",
    "\n",
    "# Checking divisibility & making decision\n",
    "if copy%digit_sum == 0:\n",
    "    print('%d is Harshad Number' % (copy))\n",
    "else:\n",
    "    print('%d is Not Harshad Number' % (copy))"
   ]
  },
  {
   "cell_type": "markdown",
   "id": "b5017254",
   "metadata": {},
   "source": [
    "**Q6. Write a Python program to print all pronic numbers between 1 and 100?**"
   ]
  },
  {
   "cell_type": "code",
   "execution_count": 6,
   "id": "d46df1e5",
   "metadata": {},
   "outputs": [
    {
     "name": "stdout",
     "output_type": "stream",
     "text": [
      "Pronic numbers between 1 and 100: \n",
      "2 6 12 20 30 42 56 72 90 "
     ]
    }
   ],
   "source": [
    "def is_pronic(n):\n",
    "    \"\"\"\n",
    "    Determine whether a given number is pronic or not\n",
    "    \"\"\"\n",
    "    flag = False\n",
    "    for i in range(n):\n",
    "        if i * (i + 1) == n:\n",
    "            flag = True\n",
    "            break\n",
    "    return flag\n",
    "\n",
    "# Displays pronic numbers between 1 and 100    \n",
    "print(\"Pronic numbers between 1 and 100: \");    \n",
    "for i in range(1, 101):    \n",
    "    if(is_pronic(i)):    \n",
    "        print(i , end=' ')"
   ]
  },
  {
   "cell_type": "code",
   "execution_count": null,
   "id": "e200d1f9",
   "metadata": {},
   "outputs": [],
   "source": []
  }
 ],
 "metadata": {
  "kernelspec": {
   "display_name": "ineuron",
   "language": "python",
   "name": "ineuron"
  },
  "language_info": {
   "codemirror_mode": {
    "name": "ipython",
    "version": 3
   },
   "file_extension": ".py",
   "mimetype": "text/x-python",
   "name": "python",
   "nbconvert_exporter": "python",
   "pygments_lexer": "ipython3",
   "version": "3.11.0"
  }
 },
 "nbformat": 4,
 "nbformat_minor": 5
}
